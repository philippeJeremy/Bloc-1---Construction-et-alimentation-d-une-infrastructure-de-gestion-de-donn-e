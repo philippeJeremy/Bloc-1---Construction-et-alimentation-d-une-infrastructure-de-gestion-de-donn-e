{
 "cells": [
  {
   "cell_type": "code",
   "execution_count": 38,
   "metadata": {},
   "outputs": [
    {
     "name": "stderr",
     "output_type": "stream",
     "text": [
      "Python-dotenv could not parse statement starting at line 5\n"
     ]
    }
   ],
   "source": [
    "import os\n",
    "import json\n",
    "import boto3\n",
    "\n",
    "import pandas as pd\n",
    "import plotly.express as px\n",
    "\n",
    "import plotly.io as pio\n",
    "import plotly.graph_objects as go\n",
    "from plotly.subplots import make_subplots\n",
    "import plotly.express as px\n",
    "from dotenv import load_dotenv\n",
    "from sqlalchemy import create_engine, text\n",
    "\n",
    "load_dotenv()\n",
    "\n",
    "ACCESS_KEY = os.getenv(\"ID_KEY_ACCESS\")\n",
    "ACCESS_KEY_SECRETE = os.getenv(\"KEY_SECRET\")\n",
    "BUCKET_NAME = os.getenv(\"BUCKETNAME\")"
   ]
  },
  {
   "cell_type": "code",
   "execution_count": 39,
   "metadata": {},
   "outputs": [],
   "source": [
    "df_1 = pd.read_json(\"./hotel_1.json\")\n",
    "df_2 = pd.read_json(\"./hotel_2.json\")\n",
    "df_3 = pd.read_json(\"./temps.json\")"
   ]
  },
  {
   "cell_type": "code",
   "execution_count": 40,
   "metadata": {},
   "outputs": [],
   "source": [
    "# merge des 3 dataframe\n",
    "def merge_outer(data_1:pd.DataFrame, data_2:pd.DataFrame, on:str) -> pd.DataFrame:\n",
    "    df = pd.merge(data_1, data_2, how='outer', on=on)\n",
    "    return df\n",
    "\n",
    "df = merge_outer(df_1, df_2, \"hotel\")\n",
    "df = merge_outer(df, df_3, \"id\")"
   ]
  },
  {
   "cell_type": "code",
   "execution_count": 41,
   "metadata": {},
   "outputs": [
    {
     "data": {
      "text/html": [
       "<div>\n",
       "<style scoped>\n",
       "    .dataframe tbody tr th:only-of-type {\n",
       "        vertical-align: middle;\n",
       "    }\n",
       "\n",
       "    .dataframe tbody tr th {\n",
       "        vertical-align: top;\n",
       "    }\n",
       "\n",
       "    .dataframe thead th {\n",
       "        text-align: right;\n",
       "    }\n",
       "</style>\n",
       "<table border=\"1\" class=\"dataframe\">\n",
       "  <thead>\n",
       "    <tr style=\"text-align: right;\">\n",
       "      <th></th>\n",
       "      <th>id</th>\n",
       "      <th>ville</th>\n",
       "      <th>hotel</th>\n",
       "      <th>url</th>\n",
       "      <th>note</th>\n",
       "      <th>description</th>\n",
       "      <th>latitutde</th>\n",
       "      <th>longitude</th>\n",
       "      <th>temperature</th>\n",
       "      <th>temps</th>\n",
       "      <th>lat</th>\n",
       "      <th>long</th>\n",
       "    </tr>\n",
       "  </thead>\n",
       "  <tbody>\n",
       "    <tr>\n",
       "      <th>0</th>\n",
       "      <td>1</td>\n",
       "      <td>Le Mont-Saint-Michel</td>\n",
       "      <td>Hôtel Vert</td>\n",
       "      <td>https://www.booking.com/hotel/fr/vert.fr.html?...</td>\n",
       "      <td>8,0</td>\n",
       "      <td>Vous pouvez bénéficier d'une réduction Genius ...</td>\n",
       "      <td>48.614700</td>\n",
       "      <td>-1.509617</td>\n",
       "      <td>[12.34, 12.43, 11.24, 11.02, 9.62]</td>\n",
       "      <td>[légère pluie, légère pluie, couvert, légère p...</td>\n",
       "      <td>48.635523</td>\n",
       "      <td>-1.510257</td>\n",
       "    </tr>\n",
       "    <tr>\n",
       "      <th>1</th>\n",
       "      <td>1</td>\n",
       "      <td>Le Mont-Saint-Michel</td>\n",
       "      <td>Mercure Mont Saint Michel</td>\n",
       "      <td>https://www.booking.com/hotel/fr/mont-saint-mi...</td>\n",
       "      <td>8,2</td>\n",
       "      <td>Installé dans des espaces verts à seulement 2 ...</td>\n",
       "      <td>48.614247</td>\n",
       "      <td>-1.510545</td>\n",
       "      <td>[12.34, 12.43, 11.24, 11.02, 9.62]</td>\n",
       "      <td>[légère pluie, légère pluie, couvert, légère p...</td>\n",
       "      <td>48.635523</td>\n",
       "      <td>-1.510257</td>\n",
       "    </tr>\n",
       "    <tr>\n",
       "      <th>2</th>\n",
       "      <td>1</td>\n",
       "      <td>Le Mont-Saint-Michel</td>\n",
       "      <td>La Mère Poulard</td>\n",
       "      <td>https://www.booking.com/hotel/fr/la-mere-poula...</td>\n",
       "      <td>7,0</td>\n",
       "      <td>Vous pouvez bénéficier d'une réduction Genius ...</td>\n",
       "      <td>48.635085</td>\n",
       "      <td>-1.510540</td>\n",
       "      <td>[12.34, 12.43, 11.24, 11.02, 9.62]</td>\n",
       "      <td>[légère pluie, légère pluie, couvert, légère p...</td>\n",
       "      <td>48.635523</td>\n",
       "      <td>-1.510257</td>\n",
       "    </tr>\n",
       "    <tr>\n",
       "      <th>3</th>\n",
       "      <td>1</td>\n",
       "      <td>Le Mont-Saint-Michel</td>\n",
       "      <td>Hotel De La Digue</td>\n",
       "      <td>https://www.booking.com/hotel/fr/de-la-digue.f...</td>\n",
       "      <td>7,1</td>\n",
       "      <td>L'hôtel De La Digue est un établissement tradi...</td>\n",
       "      <td>48.616882</td>\n",
       "      <td>-1.510918</td>\n",
       "      <td>[12.34, 12.43, 11.24, 11.02, 9.62]</td>\n",
       "      <td>[légère pluie, légère pluie, couvert, légère p...</td>\n",
       "      <td>48.635523</td>\n",
       "      <td>-1.510257</td>\n",
       "    </tr>\n",
       "    <tr>\n",
       "      <th>4</th>\n",
       "      <td>1</td>\n",
       "      <td>Le Mont-Saint-Michel</td>\n",
       "      <td>Les Terrasses Poulard</td>\n",
       "      <td>https://www.booking.com/hotel/fr/les-terrasses...</td>\n",
       "      <td>7,3</td>\n",
       "      <td>Vous pouvez bénéficier d'une réduction Genius ...</td>\n",
       "      <td>48.635349</td>\n",
       "      <td>-1.510379</td>\n",
       "      <td>[12.34, 12.43, 11.24, 11.02, 9.62]</td>\n",
       "      <td>[légère pluie, légère pluie, couvert, légère p...</td>\n",
       "      <td>48.635523</td>\n",
       "      <td>-1.510257</td>\n",
       "    </tr>\n",
       "    <tr>\n",
       "      <th>...</th>\n",
       "      <td>...</td>\n",
       "      <td>...</td>\n",
       "      <td>...</td>\n",
       "      <td>...</td>\n",
       "      <td>...</td>\n",
       "      <td>...</td>\n",
       "      <td>...</td>\n",
       "      <td>...</td>\n",
       "      <td>...</td>\n",
       "      <td>...</td>\n",
       "      <td>...</td>\n",
       "      <td>...</td>\n",
       "    </tr>\n",
       "    <tr>\n",
       "      <th>870</th>\n",
       "      <td>35</td>\n",
       "      <td>1er arr., Lyon</td>\n",
       "      <td>Hamac Suites - Le Plâtre - Place des Terreaux</td>\n",
       "      <td>https://www.booking.com/hotel/fr/hamac-suites-...</td>\n",
       "      <td>8,7</td>\n",
       "      <td>Doté d'une connexion Wi-Fi gratuite, le Hamac ...</td>\n",
       "      <td>45.766106</td>\n",
       "      <td>4.833282</td>\n",
       "      <td>[12.04, 12.71, 12.54, 10.15, 11.62]</td>\n",
       "      <td>[partiellement nuageux, couvert, légère pluie,...</td>\n",
       "      <td>46.159113</td>\n",
       "      <td>-1.152043</td>\n",
       "    </tr>\n",
       "    <tr>\n",
       "      <th>871</th>\n",
       "      <td>35</td>\n",
       "      <td>7e arr., Lyon</td>\n",
       "      <td>B&amp;B HOTEL LYON Centre Perrache Berthelot</td>\n",
       "      <td>https://www.booking.com/hotel/fr/b-amp-b-lyon-...</td>\n",
       "      <td>7,8</td>\n",
       "      <td>Ouvert en décembre 2017, le B&amp;B HOTEL LYON Cen...</td>\n",
       "      <td>45.747809</td>\n",
       "      <td>4.835540</td>\n",
       "      <td>[12.04, 12.71, 12.54, 10.15, 11.62]</td>\n",
       "      <td>[partiellement nuageux, couvert, légère pluie,...</td>\n",
       "      <td>46.159113</td>\n",
       "      <td>-1.152043</td>\n",
       "    </tr>\n",
       "    <tr>\n",
       "      <th>872</th>\n",
       "      <td>35</td>\n",
       "      <td>2e arr., Lyon</td>\n",
       "      <td>Hôtel Charlemagne</td>\n",
       "      <td>https://www.booking.com/hotel/fr/hotelbestwest...</td>\n",
       "      <td>7,8</td>\n",
       "      <td>Vous pouvez bénéficier d'une réduction Genius ...</td>\n",
       "      <td>45.746023</td>\n",
       "      <td>4.823894</td>\n",
       "      <td>[12.04, 12.71, 12.54, 10.15, 11.62]</td>\n",
       "      <td>[partiellement nuageux, couvert, légère pluie,...</td>\n",
       "      <td>46.159113</td>\n",
       "      <td>-1.152043</td>\n",
       "    </tr>\n",
       "    <tr>\n",
       "      <th>873</th>\n",
       "      <td>35</td>\n",
       "      <td>5e arr., Lyon</td>\n",
       "      <td>MiHotel Tour Rose</td>\n",
       "      <td>https://www.booking.com/hotel/fr/mihotel-tour-...</td>\n",
       "      <td>8,4</td>\n",
       "      <td>Vous pouvez bénéficier d'une réduction Genius ...</td>\n",
       "      <td>45.762725</td>\n",
       "      <td>4.826820</td>\n",
       "      <td>[12.04, 12.71, 12.54, 10.15, 11.62]</td>\n",
       "      <td>[partiellement nuageux, couvert, légère pluie,...</td>\n",
       "      <td>46.159113</td>\n",
       "      <td>-1.152043</td>\n",
       "    </tr>\n",
       "    <tr>\n",
       "      <th>874</th>\n",
       "      <td>35</td>\n",
       "      <td>2e arr., Lyon</td>\n",
       "      <td>Citadines Presqu'île Lyon</td>\n",
       "      <td>https://www.booking.com/hotel/fr/citadines-apa...</td>\n",
       "      <td>8,3</td>\n",
       "      <td>Le Citadines Presqu'île Lyon est situé dans le...</td>\n",
       "      <td>45.761587</td>\n",
       "      <td>4.832627</td>\n",
       "      <td>[12.04, 12.71, 12.54, 10.15, 11.62]</td>\n",
       "      <td>[partiellement nuageux, couvert, légère pluie,...</td>\n",
       "      <td>46.159113</td>\n",
       "      <td>-1.152043</td>\n",
       "    </tr>\n",
       "  </tbody>\n",
       "</table>\n",
       "<p>866 rows × 12 columns</p>\n",
       "</div>"
      ],
      "text/plain": [
       "     id                 ville                                          hotel  \\\n",
       "0     1  Le Mont-Saint-Michel                                     Hôtel Vert   \n",
       "1     1  Le Mont-Saint-Michel                      Mercure Mont Saint Michel   \n",
       "2     1  Le Mont-Saint-Michel                                La Mère Poulard   \n",
       "3     1  Le Mont-Saint-Michel                              Hotel De La Digue   \n",
       "4     1  Le Mont-Saint-Michel                          Les Terrasses Poulard   \n",
       "..   ..                   ...                                            ...   \n",
       "870  35        1er arr., Lyon  Hamac Suites - Le Plâtre - Place des Terreaux   \n",
       "871  35         7e arr., Lyon       B&B HOTEL LYON Centre Perrache Berthelot   \n",
       "872  35         2e arr., Lyon                              Hôtel Charlemagne   \n",
       "873  35         5e arr., Lyon                              MiHotel Tour Rose   \n",
       "874  35         2e arr., Lyon                      Citadines Presqu'île Lyon   \n",
       "\n",
       "                                                   url note  \\\n",
       "0    https://www.booking.com/hotel/fr/vert.fr.html?...  8,0   \n",
       "1    https://www.booking.com/hotel/fr/mont-saint-mi...  8,2   \n",
       "2    https://www.booking.com/hotel/fr/la-mere-poula...  7,0   \n",
       "3    https://www.booking.com/hotel/fr/de-la-digue.f...  7,1   \n",
       "4    https://www.booking.com/hotel/fr/les-terrasses...  7,3   \n",
       "..                                                 ...  ...   \n",
       "870  https://www.booking.com/hotel/fr/hamac-suites-...  8,7   \n",
       "871  https://www.booking.com/hotel/fr/b-amp-b-lyon-...  7,8   \n",
       "872  https://www.booking.com/hotel/fr/hotelbestwest...  7,8   \n",
       "873  https://www.booking.com/hotel/fr/mihotel-tour-...  8,4   \n",
       "874  https://www.booking.com/hotel/fr/citadines-apa...  8,3   \n",
       "\n",
       "                                           description  latitutde  longitude  \\\n",
       "0    Vous pouvez bénéficier d'une réduction Genius ...  48.614700  -1.509617   \n",
       "1    Installé dans des espaces verts à seulement 2 ...  48.614247  -1.510545   \n",
       "2    Vous pouvez bénéficier d'une réduction Genius ...  48.635085  -1.510540   \n",
       "3    L'hôtel De La Digue est un établissement tradi...  48.616882  -1.510918   \n",
       "4    Vous pouvez bénéficier d'une réduction Genius ...  48.635349  -1.510379   \n",
       "..                                                 ...        ...        ...   \n",
       "870  Doté d'une connexion Wi-Fi gratuite, le Hamac ...  45.766106   4.833282   \n",
       "871  Ouvert en décembre 2017, le B&B HOTEL LYON Cen...  45.747809   4.835540   \n",
       "872  Vous pouvez bénéficier d'une réduction Genius ...  45.746023   4.823894   \n",
       "873  Vous pouvez bénéficier d'une réduction Genius ...  45.762725   4.826820   \n",
       "874  Le Citadines Presqu'île Lyon est situé dans le...  45.761587   4.832627   \n",
       "\n",
       "                             temperature  \\\n",
       "0     [12.34, 12.43, 11.24, 11.02, 9.62]   \n",
       "1     [12.34, 12.43, 11.24, 11.02, 9.62]   \n",
       "2     [12.34, 12.43, 11.24, 11.02, 9.62]   \n",
       "3     [12.34, 12.43, 11.24, 11.02, 9.62]   \n",
       "4     [12.34, 12.43, 11.24, 11.02, 9.62]   \n",
       "..                                   ...   \n",
       "870  [12.04, 12.71, 12.54, 10.15, 11.62]   \n",
       "871  [12.04, 12.71, 12.54, 10.15, 11.62]   \n",
       "872  [12.04, 12.71, 12.54, 10.15, 11.62]   \n",
       "873  [12.04, 12.71, 12.54, 10.15, 11.62]   \n",
       "874  [12.04, 12.71, 12.54, 10.15, 11.62]   \n",
       "\n",
       "                                                 temps        lat      long  \n",
       "0    [légère pluie, légère pluie, couvert, légère p...  48.635523 -1.510257  \n",
       "1    [légère pluie, légère pluie, couvert, légère p...  48.635523 -1.510257  \n",
       "2    [légère pluie, légère pluie, couvert, légère p...  48.635523 -1.510257  \n",
       "3    [légère pluie, légère pluie, couvert, légère p...  48.635523 -1.510257  \n",
       "4    [légère pluie, légère pluie, couvert, légère p...  48.635523 -1.510257  \n",
       "..                                                 ...        ...       ...  \n",
       "870  [partiellement nuageux, couvert, légère pluie,...  46.159113 -1.152043  \n",
       "871  [partiellement nuageux, couvert, légère pluie,...  46.159113 -1.152043  \n",
       "872  [partiellement nuageux, couvert, légère pluie,...  46.159113 -1.152043  \n",
       "873  [partiellement nuageux, couvert, légère pluie,...  46.159113 -1.152043  \n",
       "874  [partiellement nuageux, couvert, légère pluie,...  46.159113 -1.152043  \n",
       "\n",
       "[866 rows x 12 columns]"
      ]
     },
     "execution_count": 41,
     "metadata": {},
     "output_type": "execute_result"
    }
   ],
   "source": [
    "# drop des hotel ou il manque la note\n",
    "df.dropna()"
   ]
  },
  {
   "cell_type": "code",
   "execution_count": 45,
   "metadata": {},
   "outputs": [],
   "source": [
    "# sauvegarde du dataframe en csv pour envoie dans un s3\n",
    "csv = df.to_csv()\n",
    "df.to_csv(\"hotel.csv\")"
   ]
  },
  {
   "cell_type": "code",
   "execution_count": 6,
   "metadata": {},
   "outputs": [],
   "source": [
    "# création d'une session aws\n",
    "session = boto3.Session(aws_access_key_id=ACCESS_KEY, \n",
    "                        aws_secret_access_key=ACCESS_KEY_SECRETE)\n",
    "s3 = session.resource(\"s3\")"
   ]
  },
  {
   "cell_type": "code",
   "execution_count": 7,
   "metadata": {},
   "outputs": [],
   "source": [
    "# création d'un bucket s3\n",
    "bucket = s3.create_bucket(Bucket=BUCKET_NAME, CreateBucketConfiguration={'LocationConstraint': 'eu-west-3'})"
   ]
  },
  {
   "cell_type": "code",
   "execution_count": 8,
   "metadata": {},
   "outputs": [],
   "source": [
    "# ajout du fichier csv dans le compartiment bucket s3\n",
    "put_object = bucket.put_object(Key=\"hotel.csv\", Body=csv)"
   ]
  },
  {
   "cell_type": "code",
   "execution_count": 9,
   "metadata": {},
   "outputs": [],
   "source": [
    "# recuperation du fichier csv dans un s3\n",
    "df = pd.read_csv(f's3://{BUCKET_NAME}/hotel.csv')"
   ]
  },
  {
   "cell_type": "code",
   "execution_count": 42,
   "metadata": {},
   "outputs": [],
   "source": [
    "df_temps = df[[\"id\", \"ville\", \"lat\", \"long\", \"temperature\", \"temps\"]]"
   ]
  },
  {
   "cell_type": "code",
   "execution_count": 43,
   "metadata": {},
   "outputs": [
    {
     "name": "stderr",
     "output_type": "stream",
     "text": [
      "C:\\Users\\jerem\\AppData\\Local\\Temp\\ipykernel_24592\\3048149287.py:1: SettingWithCopyWarning: \n",
      "A value is trying to be set on a copy of a slice from a DataFrame\n",
      "\n",
      "See the caveats in the documentation: https://pandas.pydata.org/pandas-docs/stable/user_guide/indexing.html#returning-a-view-versus-a-copy\n",
      "  df_temps.drop_duplicates(\"id\", inplace=True)\n"
     ]
    }
   ],
   "source": [
    "df_temps.drop_duplicates(\"id\", inplace=True)\n",
    "df_temps.reset_index(drop=True, inplace=True)"
   ]
  },
  {
   "cell_type": "code",
   "execution_count": 44,
   "metadata": {},
   "outputs": [
    {
     "name": "stderr",
     "output_type": "stream",
     "text": [
      "C:\\Users\\jerem\\AppData\\Local\\Temp\\ipykernel_24592\\4131000444.py:1: SettingWithCopyWarning: \n",
      "A value is trying to be set on a copy of a slice from a DataFrame.\n",
      "Try using .loc[row_indexer,col_indexer] = value instead\n",
      "\n",
      "See the caveats in the documentation: https://pandas.pydata.org/pandas-docs/stable/user_guide/indexing.html#returning-a-view-versus-a-copy\n",
      "  df_temps[\"moyenne\"] = df_temps[\"temperature\"].apply(lambda x : round((sum(x) / len(x)),2) )\n"
     ]
    }
   ],
   "source": [
    "df_temps[\"moyenne\"] = df_temps[\"temperature\"].apply(lambda x : round((sum(x) / len(x)),2) )"
   ]
  },
  {
   "cell_type": "code",
   "execution_count": 49,
   "metadata": {},
   "outputs": [
    {
     "name": "stderr",
     "output_type": "stream",
     "text": [
      "C:\\Users\\jerem\\AppData\\Local\\Temp\\ipykernel_24592\\158154597.py:2: SettingWithCopyWarning: \n",
      "A value is trying to be set on a copy of a slice from a DataFrame.\n",
      "Try using .loc[row_indexer,col_indexer] = value instead\n",
      "\n",
      "See the caveats in the documentation: https://pandas.pydata.org/pandas-docs/stable/user_guide/indexing.html#returning-a-view-versus-a-copy\n",
      "  df_temps['jour'] = [jour for _ in range(len(df_temps))]\n"
     ]
    }
   ],
   "source": [
    "jour = list(range(1,6))\n",
    "df_temps['jour'] = [jour for _ in range(len(df_temps))]"
   ]
  },
  {
   "cell_type": "code",
   "execution_count": 51,
   "metadata": {},
   "outputs": [],
   "source": [
    "df_temps = df_temps.apply(pd.Series.explode)"
   ]
  },
  {
   "cell_type": "code",
   "execution_count": 53,
   "metadata": {},
   "outputs": [],
   "source": [
    "df.drop([\"lat\", \"long\", \"temperature\", \"temps\"], inplace=True, axis=1)"
   ]
  },
  {
   "cell_type": "code",
   "execution_count": 54,
   "metadata": {},
   "outputs": [],
   "source": [
    "# engine = create_engine(f\"postgresql+psycopg2://{YOUR_USERNAME}:{YOUR_PASSWORD}@{YOUR_HOSTNAME}/postgres\", echo=True)\n",
    "engine = create_engine('sqlite:///:memory:', echo=True)"
   ]
  },
  {
   "cell_type": "code",
   "execution_count": 55,
   "metadata": {},
   "outputs": [
    {
     "name": "stdout",
     "output_type": "stream",
     "text": [
      "2023-01-04 08:03:55,909 INFO sqlalchemy.engine.Engine PRAGMA main.table_info(\"hotel\")\n",
      "2023-01-04 08:03:55,909 INFO sqlalchemy.engine.Engine [raw sql] ()\n",
      "2023-01-04 08:03:55,910 INFO sqlalchemy.engine.Engine PRAGMA temp.table_info(\"hotel\")\n",
      "2023-01-04 08:03:55,910 INFO sqlalchemy.engine.Engine [raw sql] ()\n",
      "2023-01-04 08:03:55,912 INFO sqlalchemy.engine.Engine BEGIN (implicit)\n",
      "2023-01-04 08:03:55,912 INFO sqlalchemy.engine.Engine \n",
      "CREATE TABLE hotel (\n",
      "\t\"index\" BIGINT, \n",
      "\tid BIGINT, \n",
      "\tville TEXT, \n",
      "\thotel TEXT, \n",
      "\turl TEXT, \n",
      "\tnote TEXT, \n",
      "\tdescription TEXT, \n",
      "\tlatitutde FLOAT, \n",
      "\tlongitude FLOAT\n",
      ")\n",
      "\n",
      "\n",
      "2023-01-04 08:03:55,914 INFO sqlalchemy.engine.Engine [no key 0.00187s] ()\n",
      "2023-01-04 08:03:55,916 INFO sqlalchemy.engine.Engine CREATE INDEX ix_hotel_index ON hotel (\"index\")\n",
      "2023-01-04 08:03:55,916 INFO sqlalchemy.engine.Engine [no key 0.00059s] ()\n",
      "2023-01-04 08:03:55,917 INFO sqlalchemy.engine.Engine COMMIT\n",
      "2023-01-04 08:03:55,918 INFO sqlalchemy.engine.Engine BEGIN (implicit)\n",
      "2023-01-04 08:03:55,922 INFO sqlalchemy.engine.Engine INSERT INTO hotel (\"index\", id, ville, hotel, url, note, description, latitutde, longitude) VALUES (?, ?, ?, ?, ?, ?, ?, ?, ?)\n",
      "2023-01-04 08:03:55,923 INFO sqlalchemy.engine.Engine [generated in 0.00281s] ((0, 1, 'Le Mont-Saint-Michel', 'Hôtel Vert', 'https://www.booking.com/hotel/fr/vert.fr.html?label=gen173nr-1FCAEoggI46AdIDVgEaE2IAQGYAQ24AQrIAQXYAQHoAQH4AQKIAgGoAgO4ArTzu5wGwAIB0gIkNjJlMTY0ZWQtZT ... (135 characters truncated) ... no_rooms=1&group_children=0&req_children=0&hpos=1&hapos=1&sr_order=popularity&srpvid=153739dd3cf1005e&srepoch=1670314428&from=searchresults#hotelTmpl', '8,0', \"Vous pouvez bénéficier d'une réduction Genius dans l'établissement Hôtel Vert\\xa0! \", 48.61470049, -1.50961697), (1, 1, 'Le Mont-Saint-Michel', 'Mercure Mont Saint Michel', 'https://www.booking.com/hotel/fr/mont-saint-michel.fr.html?label=gen173nr-1FCAEoggI46AdIDVgEaE2IAQGYAQ24AQrIAQXYAQHoAQH4AQKIAgGoAgO4ArTzu5wGwAIB0gIkN ... (179 characters truncated) ... _children=0&hpos=2&hapos=2&sr_order=popularity&srpvid=153739dd3cf1005e&srepoch=1670314428&from_sustainable_property_sr=1&from=searchresults#hotelTmpl', '8,2', \"Installé dans des espaces verts à seulement 2 km de l'abbaye du Mont-Saint-Michel, le Mercure Mont Saint Michel propose des chambres spacieuses avec salle de bains privative, un bar-restaurant et de nombreuses places de parking gratuites.\", 48.61424653, -1.51054502), (2, 1, 'Le Mont-Saint-Michel', 'La Mère Poulard', 'https://www.booking.com/hotel/fr/la-mere-poulard.fr.html?label=gen173nr-1FCAEoggI46AdIDVgEaE2IAQGYAQ24AQrIAQXYAQHoAQH4AQKIAgGoAgO4ArTzu5wGwAIB0gIkNjJ ... (146 characters truncated) ... no_rooms=1&group_children=0&req_children=0&hpos=3&hapos=3&sr_order=popularity&srpvid=153739dd3cf1005e&srepoch=1670314428&from=searchresults#hotelTmpl', '7,0', \"Vous pouvez bénéficier d'une réduction Genius dans l'établissement La Mère Poulard\\xa0! \", 48.63508532, -1.51053965), (3, 1, 'Le Mont-Saint-Michel', 'Hotel De La Digue', 'https://www.booking.com/hotel/fr/de-la-digue.fr.html?label=gen173nr-1FCAEoggI46AdIDVgEaE2IAQGYAQ24AQrIAQXYAQHoAQH4AQKIAgGoAgO4ArTzu5wGwAIB0gIkNjJlMTY ... (142 characters truncated) ... no_rooms=1&group_children=0&req_children=0&hpos=4&hapos=4&sr_order=popularity&srpvid=153739dd3cf1005e&srepoch=1670314428&from=searchresults#hotelTmpl', '7,1', \"L'hôtel De La Digue est un établissement traditionnel situé en Normandie, à seulement 5 minutes en navette ou à 30 minutes de marche du Mont-Saint-Mi ... (32 characters truncated) ... tuite dans l'ensemble des locaux. Le restaurant sur place sert une cuisine française classique et offre une vue panoramique sur le Mont-Saint-Michel.\", 48.61688155, -1.51091784), (4, 1, 'Le Mont-Saint-Michel', 'Les Terrasses Poulard', 'https://www.booking.com/hotel/fr/les-terrasses-poulard.fr.html?label=gen173nr-1FCAEoggI46AdIDVgEaE2IAQGYAQ24AQrIAQXYAQHoAQH4AQKIAgGoAgO4ArTzu5wGwAIB0 ... (152 characters truncated) ... no_rooms=1&group_children=0&req_children=0&hpos=5&hapos=5&sr_order=popularity&srpvid=153739dd3cf1005e&srepoch=1670314428&from=searchresults#hotelTmpl', '7,3', \"Vous pouvez bénéficier d'une réduction Genius dans l'établissement Les Terrasses Poulard\\xa0! \", 48.63534943, -1.51037872), (5, 1, 'Le Mont-Saint-Michel', 'Le Relais Saint Michel', 'https://www.booking.com/hotel/fr/le-relais-saint-michel.fr.html?label=gen173nr-1FCAEoggI46AdIDVgEaE2IAQGYAQ24AQrIAQXYAQHoAQH4AQKIAgGoAgO4ArTzu5wGwAIB ... (153 characters truncated) ... no_rooms=1&group_children=0&req_children=0&hpos=6&hapos=6&sr_order=popularity&srpvid=153739dd3cf1005e&srepoch=1670314428&from=searchresults#hotelTmpl', '7,8', \"Vous pouvez bénéficier d'une réduction Genius dans l'établissement Le Relais Saint Michel\\xa0! \", 48.61758727, -1.51039615), (6, 1, 'Le Mont-Saint-Michel', 'Le Mouton Blanc', 'https://www.booking.com/hotel/fr/le-mouton-blanc-le-mont-saint-michel.fr.html?label=gen173nr-1FCAEoggI46AdIDVgEaE2IAQGYAQ24AQrIAQXYAQHoAQH4AQKIAgGoAg ... (167 characters truncated) ... no_rooms=1&group_children=0&req_children=0&hpos=7&hapos=7&sr_order=popularity&srpvid=153739dd3cf1005e&srepoch=1670314428&from=searchresults#hotelTmpl', '7,0', \"Vous pouvez bénéficier d'une réduction Genius dans l'établissement Le Mouton Blanc\\xa0! \", 48.63602298, -1.50989592), (7, 1, 'Le Mont-Saint-Michel', 'La Vieille Auberge', 'https://www.booking.com/hotel/fr/la-vieille-auberge-le-mont-saint-michel.fr.html?label=gen173nr-1FCAEoggI46AdIDVgEaE2IAQGYAQ24AQrIAQXYAQHoAQH4AQKIAgG ... (170 characters truncated) ... no_rooms=1&group_children=0&req_children=0&hpos=8&hapos=8&sr_order=popularity&srpvid=153739dd3cf1005e&srepoch=1670314428&from=searchresults#hotelTmpl', '7,1', 'La Vieille Auberge vous accueille dans le village médiéval du Mont-Saint-Michel, à quelques pas de la célèbre abbaye du Mont-Saint-Michel. L’établissement propose une connexion Wi-Fi gratuite, un restaurant et une terrasse avec vue sur la baie du Mont-Saint-Michel.', 48.636063, -1.511457)  ... displaying 10 of 875 total bound parameter sets ...  (873, 35, '5e arr., Lyon', 'MiHotel Tour Rose', 'https://www.booking.com/hotel/fr/mihotel-tour-rose.fr.html?label=gen173nr-1FCAEoggI46AdIDVgEaE2IAQGYAQ24AQrIAQXYAQHoAQH4AQKIAgGoAgO4ArTzu5wGwAIB0gIkN ... (150 characters truncated) ... _rooms=1&group_children=0&req_children=0&hpos=24&hapos=24&sr_order=popularity&srpvid=cddf39e80dee074e&srepoch=1670314450&from=searchresults#hotelTmpl', '8,4', \"Vous pouvez bénéficier d'une réduction Genius dans l'établissement MiHotel Tour Rose\\xa0! \", 45.762725, 4.82682), (874, 35, '2e arr., Lyon', \"Citadines Presqu'île Lyon\", 'https://www.booking.com/hotel/fr/citadines-aparthotel-lyon-presqu-ile.fr.html?label=gen173nr-1FCAEoggI46AdIDVgEaE2IAQGYAQ24AQrIAQXYAQHoAQH4AQKIAgGoAg ... (200 characters truncated) ... hildren=0&hpos=25&hapos=25&sr_order=popularity&srpvid=cddf39e80dee074e&srepoch=1670314450&from_sustainable_property_sr=1&from=searchresults#hotelTmpl', '8,3', \"Le Citadines Presqu'île Lyon est situé dans le centre-ville de Lyon, entre le Rhône et la Saône, au cœur du quartier de la Presqu'île. Ses studios et appartements sont entièrement équipés et bénéficient d'une connexion Wi-Fi gratuite.\", 45.76158736, 4.83262651))\n",
      "2023-01-04 08:03:55,926 INFO sqlalchemy.engine.Engine COMMIT\n"
     ]
    },
    {
     "data": {
      "text/plain": [
       "875"
      ]
     },
     "execution_count": 55,
     "metadata": {},
     "output_type": "execute_result"
    }
   ],
   "source": [
    "df.to_sql(\"hotel\", engine)\n"
   ]
  },
  {
   "cell_type": "code",
   "execution_count": 56,
   "metadata": {},
   "outputs": [
    {
     "name": "stdout",
     "output_type": "stream",
     "text": [
      "2023-01-04 08:03:58,844 INFO sqlalchemy.engine.Engine PRAGMA main.table_info(\"temps\")\n",
      "2023-01-04 08:03:58,844 INFO sqlalchemy.engine.Engine [raw sql] ()\n",
      "2023-01-04 08:03:58,845 INFO sqlalchemy.engine.Engine PRAGMA temp.table_info(\"temps\")\n",
      "2023-01-04 08:03:58,846 INFO sqlalchemy.engine.Engine [raw sql] ()\n",
      "2023-01-04 08:03:58,847 INFO sqlalchemy.engine.Engine BEGIN (implicit)\n",
      "2023-01-04 08:03:58,847 INFO sqlalchemy.engine.Engine \n",
      "CREATE TABLE temps (\n",
      "\t\"index\" BIGINT, \n",
      "\tid BIGINT, \n",
      "\tville TEXT, \n",
      "\tlat FLOAT, \n",
      "\tlong FLOAT, \n",
      "\ttemperature FLOAT, \n",
      "\ttemps TEXT, \n",
      "\tmoyenne FLOAT, \n",
      "\tjour BIGINT\n",
      ")\n",
      "\n",
      "\n",
      "2023-01-04 08:03:58,848 INFO sqlalchemy.engine.Engine [no key 0.00045s] ()\n",
      "2023-01-04 08:03:58,849 INFO sqlalchemy.engine.Engine CREATE INDEX ix_temps_index ON temps (\"index\")\n",
      "2023-01-04 08:03:58,849 INFO sqlalchemy.engine.Engine [no key 0.00039s] ()\n",
      "2023-01-04 08:03:58,850 INFO sqlalchemy.engine.Engine COMMIT\n",
      "2023-01-04 08:03:58,851 INFO sqlalchemy.engine.Engine BEGIN (implicit)\n",
      "2023-01-04 08:03:58,853 INFO sqlalchemy.engine.Engine INSERT INTO temps (\"index\", id, ville, lat, long, temperature, temps, moyenne, jour) VALUES (?, ?, ?, ?, ?, ?, ?, ?, ?)\n",
      "2023-01-04 08:03:58,854 INFO sqlalchemy.engine.Engine [generated in 0.00097s] ((0, 1, 'Le Mont-Saint-Michel', 48.6355232, -1.5102571, 12.34, 'légère pluie', 11.33, 1), (0, 1, 'Le Mont-Saint-Michel', 48.6355232, -1.5102571, 12.43, 'légère pluie', 11.33, 2), (0, 1, 'Le Mont-Saint-Michel', 48.6355232, -1.5102571, 11.24, 'couvert', 11.33, 3), (0, 1, 'Le Mont-Saint-Michel', 48.6355232, -1.5102571, 11.02, 'légère pluie', 11.33, 4), (0, 1, 'Le Mont-Saint-Michel', 48.6355232, -1.5102571, 9.62, 'légère pluie', 11.33, 5), (1, 2, 'Intra muros, Saint-Malo', 48.649518, -2.0260409, 12.64, 'légère pluie', 11.61, 1), (1, 2, 'Intra muros, Saint-Malo', 48.649518, -2.0260409, 12.19, 'légère pluie', 11.61, 2), (1, 2, 'Intra muros, Saint-Malo', 48.649518, -2.0260409, 11.7, 'couvert', 11.61, 3)  ... displaying 10 of 175 total bound parameter sets ...  (34, 35, '7e arr., Lyon', 46.1591126, -1.1520434, 10.15, 'nuageux', 11.81, 4), (34, 35, '7e arr., Lyon', 46.1591126, -1.1520434, 11.62, 'pluie modérée', 11.81, 5))\n",
      "2023-01-04 08:03:58,855 INFO sqlalchemy.engine.Engine COMMIT\n"
     ]
    },
    {
     "data": {
      "text/plain": [
       "175"
      ]
     },
     "execution_count": 56,
     "metadata": {},
     "output_type": "execute_result"
    }
   ],
   "source": [
    "df_temps.to_sql(\"temps\", engine)"
   ]
  },
  {
   "cell_type": "code",
   "execution_count": 57,
   "metadata": {},
   "outputs": [],
   "source": [
    "conn = engine.connect()"
   ]
  },
  {
   "cell_type": "code",
   "execution_count": 58,
   "metadata": {},
   "outputs": [],
   "source": [
    "ville = text(\"SELECT * FROM temps ORDER BY moyenne DESC LIMIT 25\")\n"
   ]
  },
  {
   "cell_type": "code",
   "execution_count": 59,
   "metadata": {},
   "outputs": [],
   "source": [
    "hotel_1 = text(\"SELECT * FROM hotel WHERE id = 21 ORDER BY note DESC LIMIT 20\")\n",
    "hotel_2 = text(\"SELECT * FROM hotel WHERE id = 20 ORDER BY note DESC LIMIT 20\")\n",
    "hotel_3 = text(\"SELECT * FROM hotel WHERE id = 35 ORDER BY note DESC LIMIT 20\")\n",
    "hotel_4 = text(\"SELECT * FROM hotel WHERE id = 2 ORDER BY note DESC LIMIT 20\")\n",
    "hotel_5 = text(\"SELECT * FROM hotel WHERE id = 1 ORDER BY note DESC LIMIT 20\")"
   ]
  },
  {
   "cell_type": "code",
   "execution_count": 32,
   "metadata": {},
   "outputs": [],
   "source": [
    "# result_hotel.fetchall()"
   ]
  },
  {
   "cell_type": "code",
   "execution_count": 60,
   "metadata": {},
   "outputs": [
    {
     "name": "stdout",
     "output_type": "stream",
     "text": [
      "2023-01-04 08:04:07,724 INFO sqlalchemy.engine.Engine SELECT * FROM hotel WHERE id = 21 ORDER BY note DESC LIMIT 20\n",
      "2023-01-04 08:04:07,726 INFO sqlalchemy.engine.Engine [generated in 0.00105s] ()\n",
      "2023-01-04 08:04:07,728 INFO sqlalchemy.engine.Engine SELECT * FROM hotel WHERE id = 20 ORDER BY note DESC LIMIT 20\n",
      "2023-01-04 08:04:07,729 INFO sqlalchemy.engine.Engine [generated in 0.00070s] ()\n",
      "2023-01-04 08:04:07,731 INFO sqlalchemy.engine.Engine SELECT * FROM hotel WHERE id = 35 ORDER BY note DESC LIMIT 20\n",
      "2023-01-04 08:04:07,731 INFO sqlalchemy.engine.Engine [generated in 0.00055s] ()\n",
      "2023-01-04 08:04:07,734 INFO sqlalchemy.engine.Engine SELECT * FROM hotel WHERE id = 2 ORDER BY note DESC LIMIT 20\n",
      "2023-01-04 08:04:07,734 INFO sqlalchemy.engine.Engine [generated in 0.00081s] ()\n",
      "2023-01-04 08:04:07,737 INFO sqlalchemy.engine.Engine SELECT * FROM hotel WHERE id = 1 ORDER BY note DESC LIMIT 20\n",
      "2023-01-04 08:04:07,737 INFO sqlalchemy.engine.Engine [generated in 0.00068s] ()\n",
      "2023-01-04 08:04:07,740 INFO sqlalchemy.engine.Engine SELECT * FROM temps ORDER BY moyenne DESC LIMIT 25\n",
      "2023-01-04 08:04:07,740 INFO sqlalchemy.engine.Engine [generated in 0.00067s] ()\n"
     ]
    }
   ],
   "source": [
    "hotel_1 = pd.read_sql_query(hotel_1, conn)\n",
    "hotel_2 = pd.read_sql_query(hotel_2, conn)\n",
    "hotel_3 = pd.read_sql_query(hotel_3, conn)\n",
    "hotel_4 = pd.read_sql_query(hotel_4, conn)\n",
    "hotel_5 = pd.read_sql_query(hotel_5, conn)\n",
    "hotel_viz = pd.concat([hotel_1,hotel_2,hotel_3,hotel_4,hotel_5], ignore_index=False)\n",
    "ville_viz = pd.read_sql_query(ville, conn)"
   ]
  },
  {
   "cell_type": "code",
   "execution_count": 67,
   "metadata": {},
   "outputs": [
    {
     "data": {
      "application/vnd.plotly.v1+json": {
       "config": {
        "plotlyServerURL": "https://plot.ly"
       },
       "data": [
        {
         "customdata": [
          [
           43.2961743,
           5.3699525,
           12.39
          ],
          [
           43.2140359,
           5.5396318,
           12.18
          ],
          [
           46.1591126,
           -1.1520434,
           11.81
          ],
          [
           48.649518,
           -2.0260409,
           11.61
          ],
          [
           48.6355232,
           -1.5102571,
           11.33
          ]
         ],
         "hovertemplate": "<b>%{hovertext}</b><br><br>jour=1<br>temperature=%{marker.color}<br>moyenne=%{customdata[2]}<extra></extra>",
         "hovertext": [
          "Toulouse Rive Gauche, Toulouse",
          "Montauban",
          "7e arr., Lyon",
          "Intra muros, Saint-Malo",
          "Le Mont-Saint-Michel"
         ],
         "lat": [
          43.2961743,
          43.2140359,
          46.1591126,
          48.649518,
          48.6355232
         ],
         "legendgroup": "",
         "lon": [
          5.3699525,
          5.5396318,
          -1.1520434,
          -2.0260409,
          -1.5102571
         ],
         "marker": {
          "color": [
           12.64,
           12.94,
           12.04,
           12.64,
           12.34
          ],
          "coloraxis": "coloraxis",
          "size": [
           12.64,
           12.94,
           12.04,
           12.64,
           12.34
          ],
          "sizemode": "area",
          "sizeref": 0.014822222222222223
         },
         "mode": "markers",
         "name": "",
         "showlegend": false,
         "subplot": "mapbox",
         "type": "scattermapbox"
        }
       ],
       "frames": [
        {
         "data": [
          {
           "customdata": [
            [
             43.2961743,
             5.3699525,
             12.39
            ],
            [
             43.2140359,
             5.5396318,
             12.18
            ],
            [
             46.1591126,
             -1.1520434,
             11.81
            ],
            [
             48.649518,
             -2.0260409,
             11.61
            ],
            [
             48.6355232,
             -1.5102571,
             11.33
            ]
           ],
           "hovertemplate": "<b>%{hovertext}</b><br><br>jour=1<br>temperature=%{marker.color}<br>moyenne=%{customdata[2]}<extra></extra>",
           "hovertext": [
            "Toulouse Rive Gauche, Toulouse",
            "Montauban",
            "7e arr., Lyon",
            "Intra muros, Saint-Malo",
            "Le Mont-Saint-Michel"
           ],
           "lat": [
            43.2961743,
            43.2140359,
            46.1591126,
            48.649518,
            48.6355232
           ],
           "legendgroup": "",
           "lon": [
            5.3699525,
            5.5396318,
            -1.1520434,
            -2.0260409,
            -1.5102571
           ],
           "marker": {
            "color": [
             12.64,
             12.94,
             12.04,
             12.64,
             12.34
            ],
            "coloraxis": "coloraxis",
            "size": [
             12.64,
             12.94,
             12.04,
             12.64,
             12.34
            ],
            "sizemode": "area",
            "sizeref": 0.014822222222222223
           },
           "mode": "markers",
           "name": "",
           "showlegend": false,
           "subplot": "mapbox",
           "type": "scattermapbox"
          }
         ],
         "name": "1"
        },
        {
         "data": [
          {
           "customdata": [
            [
             43.2961743,
             5.3699525,
             12.39
            ],
            [
             43.2140359,
             5.5396318,
             12.18
            ],
            [
             46.1591126,
             -1.1520434,
             11.81
            ],
            [
             48.649518,
             -2.0260409,
             11.61
            ],
            [
             48.6355232,
             -1.5102571,
             11.33
            ]
           ],
           "hovertemplate": "<b>%{hovertext}</b><br><br>jour=2<br>temperature=%{marker.color}<br>moyenne=%{customdata[2]}<extra></extra>",
           "hovertext": [
            "Toulouse Rive Gauche, Toulouse",
            "Montauban",
            "7e arr., Lyon",
            "Intra muros, Saint-Malo",
            "Le Mont-Saint-Michel"
           ],
           "lat": [
            43.2961743,
            43.2140359,
            46.1591126,
            48.649518,
            48.6355232
           ],
           "legendgroup": "",
           "lon": [
            5.3699525,
            5.5396318,
            -1.1520434,
            -2.0260409,
            -1.5102571
           ],
           "marker": {
            "color": [
             11.58,
             11.62,
             12.71,
             12.19,
             12.43
            ],
            "coloraxis": "coloraxis",
            "size": [
             11.58,
             11.62,
             12.71,
             12.19,
             12.43
            ],
            "sizemode": "area",
            "sizeref": 0.014822222222222223
           },
           "mode": "markers",
           "name": "",
           "showlegend": false,
           "subplot": "mapbox",
           "type": "scattermapbox"
          }
         ],
         "name": "2"
        },
        {
         "data": [
          {
           "customdata": [
            [
             43.2961743,
             5.3699525,
             12.39
            ],
            [
             43.2140359,
             5.5396318,
             12.18
            ],
            [
             46.1591126,
             -1.1520434,
             11.81
            ],
            [
             48.649518,
             -2.0260409,
             11.61
            ],
            [
             48.6355232,
             -1.5102571,
             11.33
            ]
           ],
           "hovertemplate": "<b>%{hovertext}</b><br><br>jour=3<br>temperature=%{marker.color}<br>moyenne=%{customdata[2]}<extra></extra>",
           "hovertext": [
            "Toulouse Rive Gauche, Toulouse",
            "Montauban",
            "7e arr., Lyon",
            "Intra muros, Saint-Malo",
            "Le Mont-Saint-Michel"
           ],
           "lat": [
            43.2961743,
            43.2140359,
            46.1591126,
            48.649518,
            48.6355232
           ],
           "legendgroup": "",
           "lon": [
            5.3699525,
            5.5396318,
            -1.1520434,
            -2.0260409,
            -1.5102571
           ],
           "marker": {
            "color": [
             12.22,
             11.59,
             12.54,
             11.7,
             11.24
            ],
            "coloraxis": "coloraxis",
            "size": [
             12.22,
             11.59,
             12.54,
             11.7,
             11.24
            ],
            "sizemode": "area",
            "sizeref": 0.014822222222222223
           },
           "mode": "markers",
           "name": "",
           "showlegend": false,
           "subplot": "mapbox",
           "type": "scattermapbox"
          }
         ],
         "name": "3"
        },
        {
         "data": [
          {
           "customdata": [
            [
             43.2961743,
             5.3699525,
             12.39
            ],
            [
             43.2140359,
             5.5396318,
             12.18
            ],
            [
             46.1591126,
             -1.1520434,
             11.81
            ],
            [
             48.649518,
             -2.0260409,
             11.61
            ],
            [
             48.6355232,
             -1.5102571,
             11.33
            ]
           ],
           "hovertemplate": "<b>%{hovertext}</b><br><br>jour=4<br>temperature=%{marker.color}<br>moyenne=%{customdata[2]}<extra></extra>",
           "hovertext": [
            "Toulouse Rive Gauche, Toulouse",
            "Montauban",
            "7e arr., Lyon",
            "Intra muros, Saint-Malo",
            "Le Mont-Saint-Michel"
           ],
           "lat": [
            43.2961743,
            43.2140359,
            46.1591126,
            48.649518,
            48.6355232
           ],
           "legendgroup": "",
           "lon": [
            5.3699525,
            5.5396318,
            -1.1520434,
            -2.0260409,
            -1.5102571
           ],
           "marker": {
            "color": [
             12.17,
             11.64,
             10.15,
             11.66,
             11.02
            ],
            "coloraxis": "coloraxis",
            "size": [
             12.17,
             11.64,
             10.15,
             11.66,
             11.02
            ],
            "sizemode": "area",
            "sizeref": 0.014822222222222223
           },
           "mode": "markers",
           "name": "",
           "showlegend": false,
           "subplot": "mapbox",
           "type": "scattermapbox"
          }
         ],
         "name": "4"
        },
        {
         "data": [
          {
           "customdata": [
            [
             43.2961743,
             5.3699525,
             12.39
            ],
            [
             43.2140359,
             5.5396318,
             12.18
            ],
            [
             46.1591126,
             -1.1520434,
             11.81
            ],
            [
             48.649518,
             -2.0260409,
             11.61
            ],
            [
             48.6355232,
             -1.5102571,
             11.33
            ]
           ],
           "hovertemplate": "<b>%{hovertext}</b><br><br>jour=5<br>temperature=%{marker.color}<br>moyenne=%{customdata[2]}<extra></extra>",
           "hovertext": [
            "Toulouse Rive Gauche, Toulouse",
            "Montauban",
            "7e arr., Lyon",
            "Intra muros, Saint-Malo",
            "Le Mont-Saint-Michel"
           ],
           "lat": [
            43.2961743,
            43.2140359,
            46.1591126,
            48.649518,
            48.6355232
           ],
           "legendgroup": "",
           "lon": [
            5.3699525,
            5.5396318,
            -1.1520434,
            -2.0260409,
            -1.5102571
           ],
           "marker": {
            "color": [
             13.34,
             13.12,
             11.62,
             9.86,
             9.62
            ],
            "coloraxis": "coloraxis",
            "size": [
             13.34,
             13.12,
             11.62,
             9.86,
             9.62
            ],
            "sizemode": "area",
            "sizeref": 0.014822222222222223
           },
           "mode": "markers",
           "name": "",
           "showlegend": false,
           "subplot": "mapbox",
           "type": "scattermapbox"
          }
         ],
         "name": "5"
        }
       ],
       "layout": {
        "coloraxis": {
         "colorbar": {
          "title": {
           "text": "temperature"
          }
         },
         "colorscale": [
          [
           0,
           "rgb(0,0,255)"
          ],
          [
           0.1,
           "rgb(51,153,255)"
          ],
          [
           0.2,
           "rgb(102,204,255)"
          ],
          [
           0.3,
           "rgb(153,204,255)"
          ],
          [
           0.4,
           "rgb(204,204,255)"
          ],
          [
           0.5,
           "rgb(255,255,255)"
          ],
          [
           0.6,
           "rgb(255,204,255)"
          ],
          [
           0.7,
           "rgb(255,153,255)"
          ],
          [
           0.8,
           "rgb(255,102,204)"
          ],
          [
           0.9,
           "rgb(255,102,102)"
          ],
          [
           1,
           "rgb(255,0,0)"
          ]
         ]
        },
        "height": 800,
        "legend": {
         "itemsizing": "constant",
         "tracegroupgap": 0
        },
        "mapbox": {
         "accesstoken": "pk.eyJ1IjoiamVyZW15cGhpbGlwcGUiLCJhIjoiY2xhdjk2eTBhMDNlcTN5bzVydGlhdGxtbiJ9.CgHMMQHo-NrFGr33i_FPOg",
         "center": {
          "lat": 45.990872800000005,
          "lon": 1.24424858
         },
         "domain": {
          "x": [
           0,
           1
          ],
          "y": [
           0,
           1
          ]
         },
         "zoom": 4.7
        },
        "margin": {
         "t": 60
        },
        "sliders": [
         {
          "active": 0,
          "currentvalue": {
           "prefix": "jour="
          },
          "len": 0.9,
          "pad": {
           "b": 10,
           "t": 60
          },
          "steps": [
           {
            "args": [
             [
              "1"
             ],
             {
              "frame": {
               "duration": 0,
               "redraw": true
              },
              "fromcurrent": true,
              "mode": "immediate",
              "transition": {
               "duration": 0,
               "easing": "linear"
              }
             }
            ],
            "label": "1",
            "method": "animate"
           },
           {
            "args": [
             [
              "2"
             ],
             {
              "frame": {
               "duration": 0,
               "redraw": true
              },
              "fromcurrent": true,
              "mode": "immediate",
              "transition": {
               "duration": 0,
               "easing": "linear"
              }
             }
            ],
            "label": "2",
            "method": "animate"
           },
           {
            "args": [
             [
              "3"
             ],
             {
              "frame": {
               "duration": 0,
               "redraw": true
              },
              "fromcurrent": true,
              "mode": "immediate",
              "transition": {
               "duration": 0,
               "easing": "linear"
              }
             }
            ],
            "label": "3",
            "method": "animate"
           },
           {
            "args": [
             [
              "4"
             ],
             {
              "frame": {
               "duration": 0,
               "redraw": true
              },
              "fromcurrent": true,
              "mode": "immediate",
              "transition": {
               "duration": 0,
               "easing": "linear"
              }
             }
            ],
            "label": "4",
            "method": "animate"
           },
           {
            "args": [
             [
              "5"
             ],
             {
              "frame": {
               "duration": 0,
               "redraw": true
              },
              "fromcurrent": true,
              "mode": "immediate",
              "transition": {
               "duration": 0,
               "easing": "linear"
              }
             }
            ],
            "label": "5",
            "method": "animate"
           }
          ],
          "x": 0.1,
          "xanchor": "left",
          "y": 0,
          "yanchor": "top"
         }
        ],
        "template": {
         "data": {
          "bar": [
           {
            "error_x": {
             "color": "#f2f5fa"
            },
            "error_y": {
             "color": "#f2f5fa"
            },
            "marker": {
             "line": {
              "color": "rgb(17,17,17)",
              "width": 0.5
             },
             "pattern": {
              "fillmode": "overlay",
              "size": 10,
              "solidity": 0.2
             }
            },
            "type": "bar"
           }
          ],
          "barpolar": [
           {
            "marker": {
             "line": {
              "color": "rgb(17,17,17)",
              "width": 0.5
             },
             "pattern": {
              "fillmode": "overlay",
              "size": 10,
              "solidity": 0.2
             }
            },
            "type": "barpolar"
           }
          ],
          "carpet": [
           {
            "aaxis": {
             "endlinecolor": "#A2B1C6",
             "gridcolor": "#506784",
             "linecolor": "#506784",
             "minorgridcolor": "#506784",
             "startlinecolor": "#A2B1C6"
            },
            "baxis": {
             "endlinecolor": "#A2B1C6",
             "gridcolor": "#506784",
             "linecolor": "#506784",
             "minorgridcolor": "#506784",
             "startlinecolor": "#A2B1C6"
            },
            "type": "carpet"
           }
          ],
          "choropleth": [
           {
            "colorbar": {
             "outlinewidth": 0,
             "ticks": ""
            },
            "type": "choropleth"
           }
          ],
          "contour": [
           {
            "colorbar": {
             "outlinewidth": 0,
             "ticks": ""
            },
            "colorscale": [
             [
              0,
              "#0d0887"
             ],
             [
              0.1111111111111111,
              "#46039f"
             ],
             [
              0.2222222222222222,
              "#7201a8"
             ],
             [
              0.3333333333333333,
              "#9c179e"
             ],
             [
              0.4444444444444444,
              "#bd3786"
             ],
             [
              0.5555555555555556,
              "#d8576b"
             ],
             [
              0.6666666666666666,
              "#ed7953"
             ],
             [
              0.7777777777777778,
              "#fb9f3a"
             ],
             [
              0.8888888888888888,
              "#fdca26"
             ],
             [
              1,
              "#f0f921"
             ]
            ],
            "type": "contour"
           }
          ],
          "contourcarpet": [
           {
            "colorbar": {
             "outlinewidth": 0,
             "ticks": ""
            },
            "type": "contourcarpet"
           }
          ],
          "heatmap": [
           {
            "colorbar": {
             "outlinewidth": 0,
             "ticks": ""
            },
            "colorscale": [
             [
              0,
              "#0d0887"
             ],
             [
              0.1111111111111111,
              "#46039f"
             ],
             [
              0.2222222222222222,
              "#7201a8"
             ],
             [
              0.3333333333333333,
              "#9c179e"
             ],
             [
              0.4444444444444444,
              "#bd3786"
             ],
             [
              0.5555555555555556,
              "#d8576b"
             ],
             [
              0.6666666666666666,
              "#ed7953"
             ],
             [
              0.7777777777777778,
              "#fb9f3a"
             ],
             [
              0.8888888888888888,
              "#fdca26"
             ],
             [
              1,
              "#f0f921"
             ]
            ],
            "type": "heatmap"
           }
          ],
          "heatmapgl": [
           {
            "colorbar": {
             "outlinewidth": 0,
             "ticks": ""
            },
            "colorscale": [
             [
              0,
              "#0d0887"
             ],
             [
              0.1111111111111111,
              "#46039f"
             ],
             [
              0.2222222222222222,
              "#7201a8"
             ],
             [
              0.3333333333333333,
              "#9c179e"
             ],
             [
              0.4444444444444444,
              "#bd3786"
             ],
             [
              0.5555555555555556,
              "#d8576b"
             ],
             [
              0.6666666666666666,
              "#ed7953"
             ],
             [
              0.7777777777777778,
              "#fb9f3a"
             ],
             [
              0.8888888888888888,
              "#fdca26"
             ],
             [
              1,
              "#f0f921"
             ]
            ],
            "type": "heatmapgl"
           }
          ],
          "histogram": [
           {
            "marker": {
             "pattern": {
              "fillmode": "overlay",
              "size": 10,
              "solidity": 0.2
             }
            },
            "type": "histogram"
           }
          ],
          "histogram2d": [
           {
            "colorbar": {
             "outlinewidth": 0,
             "ticks": ""
            },
            "colorscale": [
             [
              0,
              "#0d0887"
             ],
             [
              0.1111111111111111,
              "#46039f"
             ],
             [
              0.2222222222222222,
              "#7201a8"
             ],
             [
              0.3333333333333333,
              "#9c179e"
             ],
             [
              0.4444444444444444,
              "#bd3786"
             ],
             [
              0.5555555555555556,
              "#d8576b"
             ],
             [
              0.6666666666666666,
              "#ed7953"
             ],
             [
              0.7777777777777778,
              "#fb9f3a"
             ],
             [
              0.8888888888888888,
              "#fdca26"
             ],
             [
              1,
              "#f0f921"
             ]
            ],
            "type": "histogram2d"
           }
          ],
          "histogram2dcontour": [
           {
            "colorbar": {
             "outlinewidth": 0,
             "ticks": ""
            },
            "colorscale": [
             [
              0,
              "#0d0887"
             ],
             [
              0.1111111111111111,
              "#46039f"
             ],
             [
              0.2222222222222222,
              "#7201a8"
             ],
             [
              0.3333333333333333,
              "#9c179e"
             ],
             [
              0.4444444444444444,
              "#bd3786"
             ],
             [
              0.5555555555555556,
              "#d8576b"
             ],
             [
              0.6666666666666666,
              "#ed7953"
             ],
             [
              0.7777777777777778,
              "#fb9f3a"
             ],
             [
              0.8888888888888888,
              "#fdca26"
             ],
             [
              1,
              "#f0f921"
             ]
            ],
            "type": "histogram2dcontour"
           }
          ],
          "mesh3d": [
           {
            "colorbar": {
             "outlinewidth": 0,
             "ticks": ""
            },
            "type": "mesh3d"
           }
          ],
          "parcoords": [
           {
            "line": {
             "colorbar": {
              "outlinewidth": 0,
              "ticks": ""
             }
            },
            "type": "parcoords"
           }
          ],
          "pie": [
           {
            "automargin": true,
            "type": "pie"
           }
          ],
          "scatter": [
           {
            "marker": {
             "line": {
              "color": "#283442"
             }
            },
            "type": "scatter"
           }
          ],
          "scatter3d": [
           {
            "line": {
             "colorbar": {
              "outlinewidth": 0,
              "ticks": ""
             }
            },
            "marker": {
             "colorbar": {
              "outlinewidth": 0,
              "ticks": ""
             }
            },
            "type": "scatter3d"
           }
          ],
          "scattercarpet": [
           {
            "marker": {
             "colorbar": {
              "outlinewidth": 0,
              "ticks": ""
             }
            },
            "type": "scattercarpet"
           }
          ],
          "scattergeo": [
           {
            "marker": {
             "colorbar": {
              "outlinewidth": 0,
              "ticks": ""
             }
            },
            "type": "scattergeo"
           }
          ],
          "scattergl": [
           {
            "marker": {
             "line": {
              "color": "#283442"
             }
            },
            "type": "scattergl"
           }
          ],
          "scattermapbox": [
           {
            "marker": {
             "colorbar": {
              "outlinewidth": 0,
              "ticks": ""
             }
            },
            "type": "scattermapbox"
           }
          ],
          "scatterpolar": [
           {
            "marker": {
             "colorbar": {
              "outlinewidth": 0,
              "ticks": ""
             }
            },
            "type": "scatterpolar"
           }
          ],
          "scatterpolargl": [
           {
            "marker": {
             "colorbar": {
              "outlinewidth": 0,
              "ticks": ""
             }
            },
            "type": "scatterpolargl"
           }
          ],
          "scatterternary": [
           {
            "marker": {
             "colorbar": {
              "outlinewidth": 0,
              "ticks": ""
             }
            },
            "type": "scatterternary"
           }
          ],
          "surface": [
           {
            "colorbar": {
             "outlinewidth": 0,
             "ticks": ""
            },
            "colorscale": [
             [
              0,
              "#0d0887"
             ],
             [
              0.1111111111111111,
              "#46039f"
             ],
             [
              0.2222222222222222,
              "#7201a8"
             ],
             [
              0.3333333333333333,
              "#9c179e"
             ],
             [
              0.4444444444444444,
              "#bd3786"
             ],
             [
              0.5555555555555556,
              "#d8576b"
             ],
             [
              0.6666666666666666,
              "#ed7953"
             ],
             [
              0.7777777777777778,
              "#fb9f3a"
             ],
             [
              0.8888888888888888,
              "#fdca26"
             ],
             [
              1,
              "#f0f921"
             ]
            ],
            "type": "surface"
           }
          ],
          "table": [
           {
            "cells": {
             "fill": {
              "color": "#506784"
             },
             "line": {
              "color": "rgb(17,17,17)"
             }
            },
            "header": {
             "fill": {
              "color": "#2a3f5f"
             },
             "line": {
              "color": "rgb(17,17,17)"
             }
            },
            "type": "table"
           }
          ]
         },
         "layout": {
          "annotationdefaults": {
           "arrowcolor": "#f2f5fa",
           "arrowhead": 0,
           "arrowwidth": 1
          },
          "autotypenumbers": "strict",
          "coloraxis": {
           "colorbar": {
            "outlinewidth": 0,
            "ticks": ""
           }
          },
          "colorscale": {
           "diverging": [
            [
             0,
             "#8e0152"
            ],
            [
             0.1,
             "#c51b7d"
            ],
            [
             0.2,
             "#de77ae"
            ],
            [
             0.3,
             "#f1b6da"
            ],
            [
             0.4,
             "#fde0ef"
            ],
            [
             0.5,
             "#f7f7f7"
            ],
            [
             0.6,
             "#e6f5d0"
            ],
            [
             0.7,
             "#b8e186"
            ],
            [
             0.8,
             "#7fbc41"
            ],
            [
             0.9,
             "#4d9221"
            ],
            [
             1,
             "#276419"
            ]
           ],
           "sequential": [
            [
             0,
             "#0d0887"
            ],
            [
             0.1111111111111111,
             "#46039f"
            ],
            [
             0.2222222222222222,
             "#7201a8"
            ],
            [
             0.3333333333333333,
             "#9c179e"
            ],
            [
             0.4444444444444444,
             "#bd3786"
            ],
            [
             0.5555555555555556,
             "#d8576b"
            ],
            [
             0.6666666666666666,
             "#ed7953"
            ],
            [
             0.7777777777777778,
             "#fb9f3a"
            ],
            [
             0.8888888888888888,
             "#fdca26"
            ],
            [
             1,
             "#f0f921"
            ]
           ],
           "sequentialminus": [
            [
             0,
             "#0d0887"
            ],
            [
             0.1111111111111111,
             "#46039f"
            ],
            [
             0.2222222222222222,
             "#7201a8"
            ],
            [
             0.3333333333333333,
             "#9c179e"
            ],
            [
             0.4444444444444444,
             "#bd3786"
            ],
            [
             0.5555555555555556,
             "#d8576b"
            ],
            [
             0.6666666666666666,
             "#ed7953"
            ],
            [
             0.7777777777777778,
             "#fb9f3a"
            ],
            [
             0.8888888888888888,
             "#fdca26"
            ],
            [
             1,
             "#f0f921"
            ]
           ]
          },
          "colorway": [
           "#636efa",
           "#EF553B",
           "#00cc96",
           "#ab63fa",
           "#FFA15A",
           "#19d3f3",
           "#FF6692",
           "#B6E880",
           "#FF97FF",
           "#FECB52"
          ],
          "font": {
           "color": "#f2f5fa"
          },
          "geo": {
           "bgcolor": "rgb(17,17,17)",
           "lakecolor": "rgb(17,17,17)",
           "landcolor": "rgb(17,17,17)",
           "showlakes": true,
           "showland": true,
           "subunitcolor": "#506784"
          },
          "hoverlabel": {
           "align": "left"
          },
          "hovermode": "closest",
          "mapbox": {
           "style": "dark"
          },
          "paper_bgcolor": "rgb(17,17,17)",
          "plot_bgcolor": "rgb(17,17,17)",
          "polar": {
           "angularaxis": {
            "gridcolor": "#506784",
            "linecolor": "#506784",
            "ticks": ""
           },
           "bgcolor": "rgb(17,17,17)",
           "radialaxis": {
            "gridcolor": "#506784",
            "linecolor": "#506784",
            "ticks": ""
           }
          },
          "scene": {
           "xaxis": {
            "backgroundcolor": "rgb(17,17,17)",
            "gridcolor": "#506784",
            "gridwidth": 2,
            "linecolor": "#506784",
            "showbackground": true,
            "ticks": "",
            "zerolinecolor": "#C8D4E3"
           },
           "yaxis": {
            "backgroundcolor": "rgb(17,17,17)",
            "gridcolor": "#506784",
            "gridwidth": 2,
            "linecolor": "#506784",
            "showbackground": true,
            "ticks": "",
            "zerolinecolor": "#C8D4E3"
           },
           "zaxis": {
            "backgroundcolor": "rgb(17,17,17)",
            "gridcolor": "#506784",
            "gridwidth": 2,
            "linecolor": "#506784",
            "showbackground": true,
            "ticks": "",
            "zerolinecolor": "#C8D4E3"
           }
          },
          "shapedefaults": {
           "line": {
            "color": "#f2f5fa"
           }
          },
          "sliderdefaults": {
           "bgcolor": "#C8D4E3",
           "bordercolor": "rgb(17,17,17)",
           "borderwidth": 1,
           "tickwidth": 0
          },
          "ternary": {
           "aaxis": {
            "gridcolor": "#506784",
            "linecolor": "#506784",
            "ticks": ""
           },
           "baxis": {
            "gridcolor": "#506784",
            "linecolor": "#506784",
            "ticks": ""
           },
           "bgcolor": "rgb(17,17,17)",
           "caxis": {
            "gridcolor": "#506784",
            "linecolor": "#506784",
            "ticks": ""
           }
          },
          "title": {
           "x": 0.05
          },
          "updatemenudefaults": {
           "bgcolor": "#506784",
           "borderwidth": 0
          },
          "xaxis": {
           "automargin": true,
           "gridcolor": "#283442",
           "linecolor": "#506784",
           "ticks": "",
           "title": {
            "standoff": 15
           },
           "zerolinecolor": "#283442",
           "zerolinewidth": 2
          },
          "yaxis": {
           "automargin": true,
           "gridcolor": "#283442",
           "linecolor": "#506784",
           "ticks": "",
           "title": {
            "standoff": 15
           },
           "zerolinecolor": "#283442",
           "zerolinewidth": 2
          }
         }
        },
        "title": {
         "text": "Les 5 meilleurs ville sur un moyenne de température"
        },
        "updatemenus": [
         {
          "buttons": [
           {
            "args": [
             null,
             {
              "frame": {
               "duration": 500,
               "redraw": true
              },
              "fromcurrent": true,
              "mode": "immediate",
              "transition": {
               "duration": 500,
               "easing": "linear"
              }
             }
            ],
            "label": "&#9654;",
            "method": "animate"
           },
           {
            "args": [
             [
              null
             ],
             {
              "frame": {
               "duration": 0,
               "redraw": true
              },
              "fromcurrent": true,
              "mode": "immediate",
              "transition": {
               "duration": 0,
               "easing": "linear"
              }
             }
            ],
            "label": "&#9724;",
            "method": "animate"
           }
          ],
          "direction": "left",
          "pad": {
           "r": 10,
           "t": 70
          },
          "showactive": false,
          "type": "buttons",
          "x": 0.1,
          "xanchor": "right",
          "y": 0,
          "yanchor": "top"
         }
        ],
        "width": 1500
       }
      }
     },
     "metadata": {},
     "output_type": "display_data"
    }
   ],
   "source": [
    "px.set_mapbox_access_token(open(\".mapbox_token\").read())\n",
    "fig = px.scatter_mapbox(\n",
    "    ville_viz,\n",
    "    lat='lat',\n",
    "    lon='long',\n",
    "    color='temperature',\n",
    "    size='temperature',\n",
    "    color_continuous_scale=px.colors.diverging.Picnic,\n",
    "    size_max=30,\n",
    "    zoom=4.7,\n",
    "    hover_name='ville',\n",
    "    hover_data={\n",
    "        'lat': False,\n",
    "        'long': False,\n",
    "        'moyenne': True        \n",
    "        },\n",
    "    animation_frame='jour'\n",
    ")\n",
    "\n",
    "fig.update_layout(width = 1500, height = 800, template='plotly_dark' ,title='Les 5 meilleurs ville sur un moyenne de température')\n",
    "fig.show()"
   ]
  },
  {
   "cell_type": "code",
   "execution_count": 69,
   "metadata": {},
   "outputs": [
    {
     "data": {
      "text/html": [
       "<div>\n",
       "<style scoped>\n",
       "    .dataframe tbody tr th:only-of-type {\n",
       "        vertical-align: middle;\n",
       "    }\n",
       "\n",
       "    .dataframe tbody tr th {\n",
       "        vertical-align: top;\n",
       "    }\n",
       "\n",
       "    .dataframe thead th {\n",
       "        text-align: right;\n",
       "    }\n",
       "</style>\n",
       "<table border=\"1\" class=\"dataframe\">\n",
       "  <thead>\n",
       "    <tr style=\"text-align: right;\">\n",
       "      <th></th>\n",
       "      <th>index</th>\n",
       "      <th>id</th>\n",
       "      <th>ville</th>\n",
       "      <th>hotel</th>\n",
       "      <th>url</th>\n",
       "      <th>note</th>\n",
       "      <th>description</th>\n",
       "      <th>latitutde</th>\n",
       "      <th>longitude</th>\n",
       "    </tr>\n",
       "  </thead>\n",
       "  <tbody>\n",
       "    <tr>\n",
       "      <th>0</th>\n",
       "      <td>511</td>\n",
       "      <td>21</td>\n",
       "      <td>Toulouse Sud-Est, Toulouse</td>\n",
       "      <td>La loge du Minotaure, cosy, parking et bureaux</td>\n",
       "      <td>https://www.booking.com/hotel/fr/59m2-parking-...</td>\n",
       "      <td>9,6</td>\n",
       "      <td>Doté d'une aire de jeux pour enfants et d'une ...</td>\n",
       "      <td>43.575154</td>\n",
       "      <td>1.473728</td>\n",
       "    </tr>\n",
       "    <tr>\n",
       "      <th>1</th>\n",
       "      <td>500</td>\n",
       "      <td>21</td>\n",
       "      <td>Toulouse Rive Gauche, Toulouse</td>\n",
       "      <td>LA CARTOUCHERIE</td>\n",
       "      <td>https://www.booking.com/hotel/fr/la-cartoucher...</td>\n",
       "      <td>9,4</td>\n",
       "      <td>Vous pouvez bénéficier d'une réduction Genius ...</td>\n",
       "      <td>43.601721</td>\n",
       "      <td>1.408088</td>\n",
       "    </tr>\n",
       "    <tr>\n",
       "      <th>2</th>\n",
       "      <td>509</td>\n",
       "      <td>21</td>\n",
       "      <td>Centre de Toulouse, Toulouse</td>\n",
       "      <td>Les Loges des Chalets</td>\n",
       "      <td>https://www.booking.com/hotel/fr/les-loges-des...</td>\n",
       "      <td>9,2</td>\n",
       "      <td>Situé à 5.1 km du Stadium de Toulouse, l'établ...</td>\n",
       "      <td>43.614051</td>\n",
       "      <td>1.447940</td>\n",
       "    </tr>\n",
       "    <tr>\n",
       "      <th>3</th>\n",
       "      <td>514</td>\n",
       "      <td>21</td>\n",
       "      <td>Minimes - Barrière de Paris, Toulouse</td>\n",
       "      <td>Large and modern flat just nearby Ponts-Jumeau...</td>\n",
       "      <td>https://www.booking.com/hotel/fr/large-and-mod...</td>\n",
       "      <td>8,9</td>\n",
       "      <td>Le Large and modern flat just nearby Ponts-Jum...</td>\n",
       "      <td>43.613013</td>\n",
       "      <td>1.421539</td>\n",
       "    </tr>\n",
       "    <tr>\n",
       "      <th>4</th>\n",
       "      <td>503</td>\n",
       "      <td>21</td>\n",
       "      <td>Centre de Toulouse, Toulouse</td>\n",
       "      <td>Le Bonrepos - Appartement 2 chambres clim &amp; pa...</td>\n",
       "      <td>https://www.booking.com/hotel/fr/appartement-d...</td>\n",
       "      <td>8,7</td>\n",
       "      <td>Vous pouvez bénéficier d'une réduction Genius ...</td>\n",
       "      <td>43.609439</td>\n",
       "      <td>1.453500</td>\n",
       "    </tr>\n",
       "    <tr>\n",
       "      <th>...</th>\n",
       "      <td>...</td>\n",
       "      <td>...</td>\n",
       "      <td>...</td>\n",
       "      <td>...</td>\n",
       "      <td>...</td>\n",
       "      <td>...</td>\n",
       "      <td>...</td>\n",
       "      <td>...</td>\n",
       "      <td>...</td>\n",
       "    </tr>\n",
       "    <tr>\n",
       "      <th>15</th>\n",
       "      <td>10</td>\n",
       "      <td>1</td>\n",
       "      <td>Le Mont-Saint-Michel</td>\n",
       "      <td>Le Relais Du Roy</td>\n",
       "      <td>https://www.booking.com/hotel/fr/le-relais-du-...</td>\n",
       "      <td>7,9</td>\n",
       "      <td>Vous pouvez bénéficier d'une réduction Genius ...</td>\n",
       "      <td>48.616263</td>\n",
       "      <td>-1.510906</td>\n",
       "    </tr>\n",
       "    <tr>\n",
       "      <th>16</th>\n",
       "      <td>5</td>\n",
       "      <td>1</td>\n",
       "      <td>Le Mont-Saint-Michel</td>\n",
       "      <td>Le Relais Saint Michel</td>\n",
       "      <td>https://www.booking.com/hotel/fr/le-relais-sai...</td>\n",
       "      <td>7,8</td>\n",
       "      <td>Vous pouvez bénéficier d'une réduction Genius ...</td>\n",
       "      <td>48.617587</td>\n",
       "      <td>-1.510396</td>\n",
       "    </tr>\n",
       "    <tr>\n",
       "      <th>17</th>\n",
       "      <td>13</td>\n",
       "      <td>1</td>\n",
       "      <td>Ardevon</td>\n",
       "      <td>Auberge de la Baie</td>\n",
       "      <td>https://www.booking.com/hotel/fr/auberge-de-la...</td>\n",
       "      <td>7,8</td>\n",
       "      <td>Vous pouvez bénéficier d'une réduction Genius ...</td>\n",
       "      <td>48.615993</td>\n",
       "      <td>-1.488253</td>\n",
       "    </tr>\n",
       "    <tr>\n",
       "      <th>18</th>\n",
       "      <td>12</td>\n",
       "      <td>1</td>\n",
       "      <td>Le Mont-Saint-Michel</td>\n",
       "      <td>Hôtel la Croix Blanche</td>\n",
       "      <td>https://www.booking.com/hotel/fr/ha-el-la-croi...</td>\n",
       "      <td>7,6</td>\n",
       "      <td>Situé au cœur du village médiéval du Mont-Sain...</td>\n",
       "      <td>48.635734</td>\n",
       "      <td>-1.509861</td>\n",
       "    </tr>\n",
       "    <tr>\n",
       "      <th>19</th>\n",
       "      <td>4</td>\n",
       "      <td>1</td>\n",
       "      <td>Le Mont-Saint-Michel</td>\n",
       "      <td>Les Terrasses Poulard</td>\n",
       "      <td>https://www.booking.com/hotel/fr/les-terrasses...</td>\n",
       "      <td>7,3</td>\n",
       "      <td>Vous pouvez bénéficier d'une réduction Genius ...</td>\n",
       "      <td>48.635349</td>\n",
       "      <td>-1.510379</td>\n",
       "    </tr>\n",
       "  </tbody>\n",
       "</table>\n",
       "<p>100 rows × 9 columns</p>\n",
       "</div>"
      ],
      "text/plain": [
       "    index  id                                  ville  \\\n",
       "0     511  21             Toulouse Sud-Est, Toulouse   \n",
       "1     500  21         Toulouse Rive Gauche, Toulouse   \n",
       "2     509  21           Centre de Toulouse, Toulouse   \n",
       "3     514  21  Minimes - Barrière de Paris, Toulouse   \n",
       "4     503  21           Centre de Toulouse, Toulouse   \n",
       "..    ...  ..                                    ...   \n",
       "15     10   1                   Le Mont-Saint-Michel   \n",
       "16      5   1                   Le Mont-Saint-Michel   \n",
       "17     13   1                                Ardevon   \n",
       "18     12   1                   Le Mont-Saint-Michel   \n",
       "19      4   1                   Le Mont-Saint-Michel   \n",
       "\n",
       "                                                hotel  \\\n",
       "0      La loge du Minotaure, cosy, parking et bureaux   \n",
       "1                                     LA CARTOUCHERIE   \n",
       "2                               Les Loges des Chalets   \n",
       "3   Large and modern flat just nearby Ponts-Jumeau...   \n",
       "4   Le Bonrepos - Appartement 2 chambres clim & pa...   \n",
       "..                                                ...   \n",
       "15                                   Le Relais Du Roy   \n",
       "16                             Le Relais Saint Michel   \n",
       "17                                 Auberge de la Baie   \n",
       "18                             Hôtel la Croix Blanche   \n",
       "19                              Les Terrasses Poulard   \n",
       "\n",
       "                                                  url note  \\\n",
       "0   https://www.booking.com/hotel/fr/59m2-parking-...  9,6   \n",
       "1   https://www.booking.com/hotel/fr/la-cartoucher...  9,4   \n",
       "2   https://www.booking.com/hotel/fr/les-loges-des...  9,2   \n",
       "3   https://www.booking.com/hotel/fr/large-and-mod...  8,9   \n",
       "4   https://www.booking.com/hotel/fr/appartement-d...  8,7   \n",
       "..                                                ...  ...   \n",
       "15  https://www.booking.com/hotel/fr/le-relais-du-...  7,9   \n",
       "16  https://www.booking.com/hotel/fr/le-relais-sai...  7,8   \n",
       "17  https://www.booking.com/hotel/fr/auberge-de-la...  7,8   \n",
       "18  https://www.booking.com/hotel/fr/ha-el-la-croi...  7,6   \n",
       "19  https://www.booking.com/hotel/fr/les-terrasses...  7,3   \n",
       "\n",
       "                                          description  latitutde  longitude  \n",
       "0   Doté d'une aire de jeux pour enfants et d'une ...  43.575154   1.473728  \n",
       "1   Vous pouvez bénéficier d'une réduction Genius ...  43.601721   1.408088  \n",
       "2   Situé à 5.1 km du Stadium de Toulouse, l'établ...  43.614051   1.447940  \n",
       "3   Le Large and modern flat just nearby Ponts-Jum...  43.613013   1.421539  \n",
       "4   Vous pouvez bénéficier d'une réduction Genius ...  43.609439   1.453500  \n",
       "..                                                ...        ...        ...  \n",
       "15  Vous pouvez bénéficier d'une réduction Genius ...  48.616263  -1.510906  \n",
       "16  Vous pouvez bénéficier d'une réduction Genius ...  48.617587  -1.510396  \n",
       "17  Vous pouvez bénéficier d'une réduction Genius ...  48.615993  -1.488253  \n",
       "18  Situé au cœur du village médiéval du Mont-Sain...  48.635734  -1.509861  \n",
       "19  Vous pouvez bénéficier d'une réduction Genius ...  48.635349  -1.510379  \n",
       "\n",
       "[100 rows x 9 columns]"
      ]
     },
     "execution_count": 69,
     "metadata": {},
     "output_type": "execute_result"
    }
   ],
   "source": [
    "hotel_viz"
   ]
  },
  {
   "cell_type": "code",
   "execution_count": 73,
   "metadata": {},
   "outputs": [
    {
     "ename": "TypeError",
     "evalue": "unsupported operand type(s) for /: 'str' and 'int'",
     "output_type": "error",
     "traceback": [
      "\u001b[1;31m---------------------------------------------------------------------------\u001b[0m",
      "\u001b[1;31mTypeError\u001b[0m                                 Traceback (most recent call last)",
      "Cell \u001b[1;32mIn[73], line 2\u001b[0m\n\u001b[0;32m      1\u001b[0m px\u001b[39m.\u001b[39mset_mapbox_access_token(\u001b[39mopen\u001b[39m(\u001b[39m\"\u001b[39m\u001b[39m.mapbox_token\u001b[39m\u001b[39m\"\u001b[39m)\u001b[39m.\u001b[39mread())\n\u001b[1;32m----> 2\u001b[0m fig \u001b[39m=\u001b[39m px\u001b[39m.\u001b[39;49mscatter_mapbox(\n\u001b[0;32m      3\u001b[0m     hotel_viz,\n\u001b[0;32m      4\u001b[0m     lat\u001b[39m=\u001b[39;49m\u001b[39m'\u001b[39;49m\u001b[39mlatitutde\u001b[39;49m\u001b[39m'\u001b[39;49m,\n\u001b[0;32m      5\u001b[0m     lon\u001b[39m=\u001b[39;49m\u001b[39m'\u001b[39;49m\u001b[39mlongitude\u001b[39;49m\u001b[39m'\u001b[39;49m,\n\u001b[0;32m      6\u001b[0m     color\u001b[39m=\u001b[39;49m\u001b[39m'\u001b[39;49m\u001b[39mnote\u001b[39;49m\u001b[39m'\u001b[39;49m,\n\u001b[0;32m      7\u001b[0m     size\u001b[39m=\u001b[39;49m\u001b[39m'\u001b[39;49m\u001b[39mnote\u001b[39;49m\u001b[39m'\u001b[39;49m,\n\u001b[0;32m      8\u001b[0m     color_continuous_scale\u001b[39m=\u001b[39;49mpx\u001b[39m.\u001b[39;49mcolors\u001b[39m.\u001b[39;49mdiverging\u001b[39m.\u001b[39;49mPicnic,\n\u001b[0;32m      9\u001b[0m     size_max\u001b[39m=\u001b[39;49m\u001b[39m30\u001b[39;49m,\n\u001b[0;32m     10\u001b[0m     zoom\u001b[39m=\u001b[39;49m\u001b[39m4.7\u001b[39;49m,\n\u001b[0;32m     11\u001b[0m     hover_name\u001b[39m=\u001b[39;49m\u001b[39m'\u001b[39;49m\u001b[39mville\u001b[39;49m\u001b[39m'\u001b[39;49m,\n\u001b[0;32m     12\u001b[0m     hover_data\u001b[39m=\u001b[39;49m{\n\u001b[0;32m     13\u001b[0m         \u001b[39m'\u001b[39;49m\u001b[39mlatitutde\u001b[39;49m\u001b[39m'\u001b[39;49m: \u001b[39mFalse\u001b[39;49;00m,\n\u001b[0;32m     14\u001b[0m         \u001b[39m'\u001b[39;49m\u001b[39mlongitude\u001b[39;49m\u001b[39m'\u001b[39;49m: \u001b[39mFalse\u001b[39;49;00m,\n\u001b[0;32m     15\u001b[0m         \u001b[39m'\u001b[39;49m\u001b[39mhotel\u001b[39;49m\u001b[39m'\u001b[39;49m: \u001b[39mTrue\u001b[39;49;00m,\n\u001b[0;32m     16\u001b[0m         \u001b[39m'\u001b[39;49m\u001b[39mnote\u001b[39;49m\u001b[39m'\u001b[39;49m: \u001b[39mTrue\u001b[39;49;00m    \n\u001b[0;32m     17\u001b[0m         },\n\u001b[0;32m     18\u001b[0m     \n\u001b[0;32m     19\u001b[0m )\n\u001b[0;32m     21\u001b[0m fig\u001b[39m.\u001b[39mupdate_layout(width \u001b[39m=\u001b[39m \u001b[39m1500\u001b[39m, height \u001b[39m=\u001b[39m \u001b[39m800\u001b[39m, template\u001b[39m=\u001b[39m\u001b[39m'\u001b[39m\u001b[39mplotly_dark\u001b[39m\u001b[39m'\u001b[39m ,title\u001b[39m=\u001b[39m\u001b[39m'\u001b[39m\u001b[39mLes 5 meilleurs ville sur un moyenne de température\u001b[39m\u001b[39m'\u001b[39m)\n\u001b[0;32m     22\u001b[0m fig\u001b[39m.\u001b[39mshow()\n",
      "File \u001b[1;32mc:\\Users\\jerem\\AppData\\Local\\Programs\\Python\\Python310\\lib\\site-packages\\plotly\\express\\_chart_types.py:1247\u001b[0m, in \u001b[0;36mscatter_mapbox\u001b[1;34m(data_frame, lat, lon, color, text, hover_name, hover_data, custom_data, size, animation_frame, animation_group, category_orders, labels, color_discrete_sequence, color_discrete_map, color_continuous_scale, range_color, color_continuous_midpoint, opacity, size_max, zoom, center, mapbox_style, title, template, width, height)\u001b[0m\n\u001b[0;32m   1214\u001b[0m \u001b[39mdef\u001b[39;00m \u001b[39mscatter_mapbox\u001b[39m(\n\u001b[0;32m   1215\u001b[0m     data_frame\u001b[39m=\u001b[39m\u001b[39mNone\u001b[39;00m,\n\u001b[0;32m   1216\u001b[0m     lat\u001b[39m=\u001b[39m\u001b[39mNone\u001b[39;00m,\n\u001b[1;32m   (...)\u001b[0m\n\u001b[0;32m   1241\u001b[0m     height\u001b[39m=\u001b[39m\u001b[39mNone\u001b[39;00m,\n\u001b[0;32m   1242\u001b[0m ) \u001b[39m-\u001b[39m\u001b[39m>\u001b[39m go\u001b[39m.\u001b[39mFigure:\n\u001b[0;32m   1243\u001b[0m     \u001b[39m\"\"\"\u001b[39;00m\n\u001b[0;32m   1244\u001b[0m \u001b[39m    In a Mapbox scatter plot, each row of `data_frame` is represented by a\u001b[39;00m\n\u001b[0;32m   1245\u001b[0m \u001b[39m    symbol mark on a Mapbox map.\u001b[39;00m\n\u001b[0;32m   1246\u001b[0m \u001b[39m    \"\"\"\u001b[39;00m\n\u001b[1;32m-> 1247\u001b[0m     \u001b[39mreturn\u001b[39;00m make_figure(args\u001b[39m=\u001b[39;49m\u001b[39mlocals\u001b[39;49m(), constructor\u001b[39m=\u001b[39;49mgo\u001b[39m.\u001b[39;49mScattermapbox)\n",
      "File \u001b[1;32mc:\\Users\\jerem\\AppData\\Local\\Programs\\Python\\Python310\\lib\\site-packages\\plotly\\express\\_core.py:1999\u001b[0m, in \u001b[0;36mmake_figure\u001b[1;34m(args, constructor, trace_patch, layout_patch)\u001b[0m\n\u001b[0;32m   1996\u001b[0m     constructor \u001b[39m=\u001b[39m go\u001b[39m.\u001b[39mBar\n\u001b[0;32m   1997\u001b[0m     args \u001b[39m=\u001b[39m process_dataframe_timeline(args)\n\u001b[1;32m-> 1999\u001b[0m trace_specs, grouped_mappings, sizeref, show_colorbar \u001b[39m=\u001b[39m infer_config(\n\u001b[0;32m   2000\u001b[0m     args, constructor, trace_patch, layout_patch\n\u001b[0;32m   2001\u001b[0m )\n\u001b[0;32m   2002\u001b[0m grouper \u001b[39m=\u001b[39m [x\u001b[39m.\u001b[39mgrouper \u001b[39mor\u001b[39;00m one_group \u001b[39mfor\u001b[39;00m x \u001b[39min\u001b[39;00m grouped_mappings] \u001b[39mor\u001b[39;00m [one_group]\n\u001b[0;32m   2003\u001b[0m groups, orders \u001b[39m=\u001b[39m get_groups_and_orders(args, grouper)\n",
      "File \u001b[1;32mc:\\Users\\jerem\\AppData\\Local\\Programs\\Python\\Python310\\lib\\site-packages\\plotly\\express\\_core.py:1712\u001b[0m, in \u001b[0;36minfer_config\u001b[1;34m(args, constructor, trace_patch, layout_patch)\u001b[0m\n\u001b[0;32m   1710\u001b[0m sizeref \u001b[39m=\u001b[39m \u001b[39m0\u001b[39m\n\u001b[0;32m   1711\u001b[0m \u001b[39mif\u001b[39;00m \u001b[39m\"\u001b[39m\u001b[39msize\u001b[39m\u001b[39m\"\u001b[39m \u001b[39min\u001b[39;00m args \u001b[39mand\u001b[39;00m args[\u001b[39m\"\u001b[39m\u001b[39msize\u001b[39m\u001b[39m\"\u001b[39m]:\n\u001b[1;32m-> 1712\u001b[0m     sizeref \u001b[39m=\u001b[39m args[\u001b[39m\"\u001b[39;49m\u001b[39mdata_frame\u001b[39;49m\u001b[39m\"\u001b[39;49m][args[\u001b[39m\"\u001b[39;49m\u001b[39msize\u001b[39;49m\u001b[39m\"\u001b[39;49m]]\u001b[39m.\u001b[39;49mmax() \u001b[39m/\u001b[39;49m args[\u001b[39m\"\u001b[39;49m\u001b[39msize_max\u001b[39;49m\u001b[39m\"\u001b[39;49m] \u001b[39m*\u001b[39;49m\u001b[39m*\u001b[39;49m \u001b[39m2\u001b[39;49m\n\u001b[0;32m   1714\u001b[0m \u001b[39m# Compute color attributes and grouping attributes\u001b[39;00m\n\u001b[0;32m   1715\u001b[0m \u001b[39mif\u001b[39;00m \u001b[39m\"\u001b[39m\u001b[39mcolor\u001b[39m\u001b[39m\"\u001b[39m \u001b[39min\u001b[39;00m args:\n",
      "\u001b[1;31mTypeError\u001b[0m: unsupported operand type(s) for /: 'str' and 'int'"
     ]
    }
   ],
   "source": [
    "px.set_mapbox_access_token(open(\".mapbox_token\").read())\n",
    "fig = px.scatter_mapbox(\n",
    "    hotel_viz,\n",
    "    lat='latitutde',\n",
    "    lon='longitude',\n",
    "    color='note',\n",
    "    size='note',\n",
    "    color_continuous_scale=px.colors.diverging.Picnic,\n",
    "    size_max=30,\n",
    "    zoom=4.7,\n",
    "    hover_name='ville',\n",
    "    hover_data={\n",
    "        'latitutde': False,\n",
    "        'longitude': False,\n",
    "        'hotel': True,\n",
    "        'note': True    \n",
    "        }, \n",
    ")\n",
    "\n",
    "fig.update_layout(width = 1500, height = 800, template='plotly_dark' ,title='Les 5 meilleurs ville sur un moyenne de température')\n",
    "fig.show()"
   ]
  },
  {
   "cell_type": "code",
   "execution_count": 24,
   "metadata": {},
   "outputs": [
    {
     "data": {
      "text/html": [
       "<div>\n",
       "<style scoped>\n",
       "    .dataframe tbody tr th:only-of-type {\n",
       "        vertical-align: middle;\n",
       "    }\n",
       "\n",
       "    .dataframe tbody tr th {\n",
       "        vertical-align: top;\n",
       "    }\n",
       "\n",
       "    .dataframe thead th {\n",
       "        text-align: right;\n",
       "    }\n",
       "</style>\n",
       "<table border=\"1\" class=\"dataframe\">\n",
       "  <thead>\n",
       "    <tr style=\"text-align: right;\">\n",
       "      <th></th>\n",
       "      <th>index</th>\n",
       "      <th>id</th>\n",
       "      <th>ville</th>\n",
       "      <th>hotel</th>\n",
       "      <th>url</th>\n",
       "      <th>note</th>\n",
       "      <th>description</th>\n",
       "      <th>latitutde</th>\n",
       "      <th>longitude</th>\n",
       "    </tr>\n",
       "  </thead>\n",
       "  <tbody>\n",
       "    <tr>\n",
       "      <th>0</th>\n",
       "      <td>686</td>\n",
       "      <td>28</td>\n",
       "      <td>Uzès</td>\n",
       "      <td>Maison De La Bourgade</td>\n",
       "      <td>https://www.booking.com/hotel/fr/maison-de-la-...</td>\n",
       "      <td>9,8</td>\n",
       "      <td>Situé à Uzès, à 31 km du parc des expositions ...</td>\n",
       "      <td>44.009668</td>\n",
       "      <td>4.418032</td>\n",
       "    </tr>\n",
       "    <tr>\n",
       "      <th>1</th>\n",
       "      <td>689</td>\n",
       "      <td>28</td>\n",
       "      <td>Uzès</td>\n",
       "      <td>AU BORD DE L'ALZON</td>\n",
       "      <td>https://www.booking.com/hotel/fr/au-bord-de-l-...</td>\n",
       "      <td>9,8</td>\n",
       "      <td>Vous pouvez bénéficier d'une réduction Genius ...</td>\n",
       "      <td>43.995238</td>\n",
       "      <td>4.421976</td>\n",
       "    </tr>\n",
       "    <tr>\n",
       "      <th>2</th>\n",
       "      <td>680</td>\n",
       "      <td>28</td>\n",
       "      <td>Uzès</td>\n",
       "      <td>Les Canisses, magnifique appartement avec terr...</td>\n",
       "      <td>https://www.booking.com/hotel/fr/magnifique-ap...</td>\n",
       "      <td>9,7</td>\n",
       "      <td>Situé à Uzès, à 32 km du parc des expositions ...</td>\n",
       "      <td>44.013545</td>\n",
       "      <td>4.417073</td>\n",
       "    </tr>\n",
       "    <tr>\n",
       "      <th>3</th>\n",
       "      <td>682</td>\n",
       "      <td>28</td>\n",
       "      <td>Uzès</td>\n",
       "      <td>UZES DECOUVERTES</td>\n",
       "      <td>https://www.booking.com/hotel/fr/uzes-decouver...</td>\n",
       "      <td>9,7</td>\n",
       "      <td>Situé à Uzès, à moins de 32 km du parc des exp...</td>\n",
       "      <td>44.018242</td>\n",
       "      <td>4.418825</td>\n",
       "    </tr>\n",
       "    <tr>\n",
       "      <th>4</th>\n",
       "      <td>681</td>\n",
       "      <td>28</td>\n",
       "      <td>Uzès</td>\n",
       "      <td>Bon Jour Uzès</td>\n",
       "      <td>https://www.booking.com/hotel/fr/bon-jour-uzes...</td>\n",
       "      <td>9,6</td>\n",
       "      <td>Vous pouvez bénéficier d'une réduction Genius ...</td>\n",
       "      <td>44.012197</td>\n",
       "      <td>4.419125</td>\n",
       "    </tr>\n",
       "    <tr>\n",
       "      <th>...</th>\n",
       "      <td>...</td>\n",
       "      <td>...</td>\n",
       "      <td>...</td>\n",
       "      <td>...</td>\n",
       "      <td>...</td>\n",
       "      <td>...</td>\n",
       "      <td>...</td>\n",
       "      <td>...</td>\n",
       "      <td>...</td>\n",
       "    </tr>\n",
       "    <tr>\n",
       "      <th>15</th>\n",
       "      <td>834</td>\n",
       "      <td>34</td>\n",
       "      <td>La Martre</td>\n",
       "      <td>Château et Golf De Taulane</td>\n",
       "      <td>https://www.booking.com/hotel/fr/chateau-et-go...</td>\n",
       "      <td>8,4</td>\n",
       "      <td>Vous pouvez bénéficier d'une réduction Genius ...</td>\n",
       "      <td>43.773934</td>\n",
       "      <td>6.619480</td>\n",
       "    </tr>\n",
       "    <tr>\n",
       "      <th>16</th>\n",
       "      <td>828</td>\n",
       "      <td>34</td>\n",
       "      <td>Aiguines</td>\n",
       "      <td>Les Bastides de Chanteraine</td>\n",
       "      <td>https://www.booking.com/hotel/fr/les-bastides-...</td>\n",
       "      <td>8,3</td>\n",
       "      <td>Situé à Aiguines, l'établissement Les Bastides...</td>\n",
       "      <td>43.762734</td>\n",
       "      <td>6.219182</td>\n",
       "    </tr>\n",
       "    <tr>\n",
       "      <th>17</th>\n",
       "      <td>829</td>\n",
       "      <td>34</td>\n",
       "      <td>Bauduen</td>\n",
       "      <td>Domaine de Majastre</td>\n",
       "      <td>https://www.booking.com/hotel/fr/domaine-de-ma...</td>\n",
       "      <td>8,1</td>\n",
       "      <td>Située à 9 km de Bauduen et à 24 km de Moustie...</td>\n",
       "      <td>43.681537</td>\n",
       "      <td>6.225509</td>\n",
       "    </tr>\n",
       "    <tr>\n",
       "      <th>18</th>\n",
       "      <td>827</td>\n",
       "      <td>34</td>\n",
       "      <td>Aiguines</td>\n",
       "      <td>Gabrielle hôtel</td>\n",
       "      <td>https://www.booking.com/hotel/fr/logis-altitud...</td>\n",
       "      <td>7,9</td>\n",
       "      <td>Situé au cœur du parc national du Verdon, l'Ga...</td>\n",
       "      <td>43.776331</td>\n",
       "      <td>6.242523</td>\n",
       "    </tr>\n",
       "    <tr>\n",
       "      <th>19</th>\n",
       "      <td>839</td>\n",
       "      <td>34</td>\n",
       "      <td>Gréoux-les-Bains</td>\n",
       "      <td>Appart T3 au coeur de Gréoux-les-Bains</td>\n",
       "      <td>https://www.booking.com/hotel/fr/appart-t3-au-...</td>\n",
       "      <td>7,9</td>\n",
       "      <td>Vous pouvez bénéficier d'une réduction Genius ...</td>\n",
       "      <td>43.758838</td>\n",
       "      <td>5.884455</td>\n",
       "    </tr>\n",
       "  </tbody>\n",
       "</table>\n",
       "<p>100 rows × 9 columns</p>\n",
       "</div>"
      ],
      "text/plain": [
       "    index  id             ville  \\\n",
       "0     686  28              Uzès   \n",
       "1     689  28              Uzès   \n",
       "2     680  28              Uzès   \n",
       "3     682  28              Uzès   \n",
       "4     681  28              Uzès   \n",
       "..    ...  ..               ...   \n",
       "15    834  34         La Martre   \n",
       "16    828  34          Aiguines   \n",
       "17    829  34           Bauduen   \n",
       "18    827  34          Aiguines   \n",
       "19    839  34  Gréoux-les-Bains   \n",
       "\n",
       "                                                hotel  \\\n",
       "0                               Maison De La Bourgade   \n",
       "1                                  AU BORD DE L'ALZON   \n",
       "2   Les Canisses, magnifique appartement avec terr...   \n",
       "3                                    UZES DECOUVERTES   \n",
       "4                                       Bon Jour Uzès   \n",
       "..                                                ...   \n",
       "15                         Château et Golf De Taulane   \n",
       "16                        Les Bastides de Chanteraine   \n",
       "17                                Domaine de Majastre   \n",
       "18                                    Gabrielle hôtel   \n",
       "19             Appart T3 au coeur de Gréoux-les-Bains   \n",
       "\n",
       "                                                  url note  \\\n",
       "0   https://www.booking.com/hotel/fr/maison-de-la-...  9,8   \n",
       "1   https://www.booking.com/hotel/fr/au-bord-de-l-...  9,8   \n",
       "2   https://www.booking.com/hotel/fr/magnifique-ap...  9,7   \n",
       "3   https://www.booking.com/hotel/fr/uzes-decouver...  9,7   \n",
       "4   https://www.booking.com/hotel/fr/bon-jour-uzes...  9,6   \n",
       "..                                                ...  ...   \n",
       "15  https://www.booking.com/hotel/fr/chateau-et-go...  8,4   \n",
       "16  https://www.booking.com/hotel/fr/les-bastides-...  8,3   \n",
       "17  https://www.booking.com/hotel/fr/domaine-de-ma...  8,1   \n",
       "18  https://www.booking.com/hotel/fr/logis-altitud...  7,9   \n",
       "19  https://www.booking.com/hotel/fr/appart-t3-au-...  7,9   \n",
       "\n",
       "                                          description  latitutde  longitude  \n",
       "0   Situé à Uzès, à 31 km du parc des expositions ...  44.009668   4.418032  \n",
       "1   Vous pouvez bénéficier d'une réduction Genius ...  43.995238   4.421976  \n",
       "2   Situé à Uzès, à 32 km du parc des expositions ...  44.013545   4.417073  \n",
       "3   Situé à Uzès, à moins de 32 km du parc des exp...  44.018242   4.418825  \n",
       "4   Vous pouvez bénéficier d'une réduction Genius ...  44.012197   4.419125  \n",
       "..                                                ...        ...        ...  \n",
       "15  Vous pouvez bénéficier d'une réduction Genius ...  43.773934   6.619480  \n",
       "16  Situé à Aiguines, l'établissement Les Bastides...  43.762734   6.219182  \n",
       "17  Située à 9 km de Bauduen et à 24 km de Moustie...  43.681537   6.225509  \n",
       "18  Situé au cœur du parc national du Verdon, l'Ga...  43.776331   6.242523  \n",
       "19  Vous pouvez bénéficier d'une réduction Genius ...  43.758838   5.884455  \n",
       "\n",
       "[100 rows x 9 columns]"
      ]
     },
     "execution_count": 24,
     "metadata": {},
     "output_type": "execute_result"
    }
   ],
   "source": [
    "hotel_viz"
   ]
  },
  {
   "cell_type": "code",
   "execution_count": 25,
   "metadata": {},
   "outputs": [
    {
     "data": {
      "application/vnd.plotly.v1+json": {
       "config": {
        "plotlyServerURL": "https://plot.ly"
       },
       "data": [
        {
         "hovertemplate": "note=9,8<br>latitutde=%{lat}<br>longitude=%{lon}<extra></extra>",
         "lat": [
          44.009668,
          43.995238
         ],
         "legendgroup": "9,8",
         "lon": [
          4.418032,
          4.421976
         ],
         "marker": {
          "color": "#636efa"
         },
         "mode": "markers",
         "name": "9,8",
         "showlegend": true,
         "subplot": "mapbox",
         "type": "scattermapbox"
        },
        {
         "hovertemplate": "note=9,7<br>latitutde=%{lat}<br>longitude=%{lon}<extra></extra>",
         "lat": [
          44.0135452,
          44.018242
         ],
         "legendgroup": "9,7",
         "lon": [
          4.4170735,
          4.418825
         ],
         "marker": {
          "color": "#EF553B"
         },
         "mode": "markers",
         "name": "9,7",
         "showlegend": true,
         "subplot": "mapbox",
         "type": "scattermapbox"
        },
        {
         "hovertemplate": "note=9,6<br>latitutde=%{lat}<br>longitude=%{lon}<extra></extra>",
         "lat": [
          44.0121968,
          44.01167638,
          43.57515409
         ],
         "legendgroup": "9,6",
         "lon": [
          4.41912483,
          4.41908838,
          1.47372821
         ],
         "marker": {
          "color": "#00cc96"
         },
         "mode": "markers",
         "name": "9,6",
         "showlegend": true,
         "subplot": "mapbox",
         "type": "scattermapbox"
        },
        {
         "hovertemplate": "note=9,4<br>latitutde=%{lat}<br>longitude=%{lon}<extra></extra>",
         "lat": [
          44.0112246,
          44.012349,
          44.0124311,
          44.013431,
          44.01576468,
          43.9829854,
          43.6017215,
          43.8475653
         ],
         "legendgroup": "9,4",
         "lon": [
          4.4199226,
          4.41847,
          4.4192362,
          1.3609724,
          1.3677983,
          1.3639737,
          1.4080879,
          6.22126952
         ],
         "marker": {
          "color": "#ab63fa"
         },
         "mode": "markers",
         "name": "9,4",
         "showlegend": true,
         "subplot": "mapbox",
         "type": "scattermapbox"
        },
        {
         "hovertemplate": "note=9,2<br>latitutde=%{lat}<br>longitude=%{lon}<extra></extra>",
         "lat": [
          44.00920802,
          44.0118323,
          44.01324,
          44.0240885,
          43.61405143,
          43.4835903,
          43.48213327,
          43.83828039
         ],
         "legendgroup": "9,2",
         "lon": [
          4.41763152,
          4.4185005,
          1.344591,
          1.3407096,
          1.44794021,
          -1.5561522,
          -1.56753056,
          6.22067034
         ],
         "marker": {
          "color": "#FFA15A"
         },
         "mode": "markers",
         "name": "9,2",
         "showlegend": true,
         "subplot": "mapbox",
         "type": "scattermapbox"
        },
        {
         "hovertemplate": "note=9,1<br>latitutde=%{lat}<br>longitude=%{lon}<extra></extra>",
         "lat": [
          44.0117798,
          43.7562956,
          43.79256561
         ],
         "legendgroup": "9,1",
         "lon": [
          4.4063082,
          5.8805006,
          6.02551939
         ],
         "marker": {
          "color": "#19d3f3"
         },
         "mode": "markers",
         "name": "9,1",
         "showlegend": true,
         "subplot": "mapbox",
         "type": "scattermapbox"
        },
        {
         "hovertemplate": "note=9,0<br>latitutde=%{lat}<br>longitude=%{lon}<extra></extra>",
         "lat": [
          44.012765,
          44.0137,
          43.98098686,
          43.75309523
         ],
         "legendgroup": "9,0",
         "lon": [
          4.414323,
          4.4179929,
          1.38958597,
          5.88853615
         ],
         "marker": {
          "color": "#FF6692"
         },
         "mode": "markers",
         "name": "9,0",
         "showlegend": true,
         "subplot": "mapbox",
         "type": "scattermapbox"
        },
        {
         "hovertemplate": "note=8,8<br>latitutde=%{lat}<br>longitude=%{lon}<extra></extra>",
         "lat": [
          44.02305334,
          44.01246437,
          44.001412,
          44.08944141,
          43.480333,
          43.48013354,
          43.482036,
          43.78247417,
          43.83862066,
          43.83796907,
          43.84756337
         ],
         "legendgroup": "8,8",
         "lon": [
          4.42047223,
          4.42180011,
          4.419783,
          1.34851889,
          -1.5625479,
          -1.56076133,
          -1.561905,
          6.35027342,
          6.54142499,
          6.49042815,
          6.22126416
         ],
         "marker": {
          "color": "#B6E880"
         },
         "mode": "markers",
         "name": "8,8",
         "showlegend": true,
         "subplot": "mapbox",
         "type": "scattermapbox"
        },
        {
         "hovertemplate": "note=8,7<br>latitutde=%{lat}<br>longitude=%{lon}<extra></extra>",
         "lat": [
          44.0121786,
          43.6094387,
          43.65281772
         ],
         "legendgroup": "8,7",
         "lon": [
          4.4063181,
          1.4534998,
          6.16706717
         ],
         "marker": {
          "color": "#FF97FF"
         },
         "mode": "markers",
         "name": "8,7",
         "showlegend": true,
         "subplot": "mapbox",
         "type": "scattermapbox"
        },
        {
         "hovertemplate": "note=8,6<br>latitutde=%{lat}<br>longitude=%{lon}<extra></extra>",
         "lat": [
          44.014659,
          44.01703937,
          43.6090789,
          43.4817742,
          43.83927457,
          43.75534152
         ],
         "legendgroup": "8,6",
         "lon": [
          4.4200515,
          1.35448361,
          1.4274835,
          -1.56654418,
          6.49366021,
          5.89141412
         ],
         "marker": {
          "color": "#FECB52"
         },
         "mode": "markers",
         "name": "8,6",
         "showlegend": true,
         "subplot": "mapbox",
         "type": "scattermapbox"
        },
        {
         "hovertemplate": "note=8,3<br>latitutde=%{lat}<br>longitude=%{lon}<extra></extra>",
         "lat": [
          44.01137513,
          44.01542573,
          43.5938049,
          43.58985915,
          43.482179,
          43.76273431
         ],
         "legendgroup": "8,3",
         "lon": [
          4.41975805,
          1.35407299,
          1.41036384,
          1.45291235,
          -1.56183958,
          6.21918202
         ],
         "marker": {
          "color": "#636efa"
         },
         "mode": "markers",
         "name": "8,3",
         "showlegend": true,
         "subplot": "mapbox",
         "type": "scattermapbox"
        },
        {
         "hovertemplate": "note=9,5<br>latitutde=%{lat}<br>longitude=%{lon}<extra></extra>",
         "lat": [
          44.01786547
         ],
         "legendgroup": "9,5",
         "lon": [
          1.35385925
         ],
         "marker": {
          "color": "#EF553B"
         },
         "mode": "markers",
         "name": "9,5",
         "showlegend": true,
         "subplot": "mapbox",
         "type": "scattermapbox"
        },
        {
         "hovertemplate": "note=9,3<br>latitutde=%{lat}<br>longitude=%{lon}<extra></extra>",
         "lat": [
          43.979174,
          44.0223269,
          43.77929309,
          43.8475653
         ],
         "legendgroup": "9,3",
         "lon": [
          1.309142,
          1.3581305,
          6.00733668,
          6.22128025
         ],
         "marker": {
          "color": "#00cc96"
         },
         "mode": "markers",
         "name": "9,3",
         "showlegend": true,
         "subplot": "mapbox",
         "type": "scattermapbox"
        },
        {
         "hovertemplate": "note=8,9<br>latitutde=%{lat}<br>longitude=%{lon}<extra></extra>",
         "lat": [
          44.01632797,
          43.6130132,
          43.48271809
         ],
         "legendgroup": "8,9",
         "lon": [
          1.35513816,
          1.4215387,
          -1.56134069
         ],
         "marker": {
          "color": "#ab63fa"
         },
         "mode": "markers",
         "name": "8,9",
         "showlegend": true,
         "subplot": "mapbox",
         "type": "scattermapbox"
        },
        {
         "hovertemplate": "note=8,2<br>latitutde=%{lat}<br>longitude=%{lon}<extra></extra>",
         "lat": [
          44.02054293,
          43.60681004,
          43.4765027
         ],
         "legendgroup": "8,2",
         "lon": [
          1.34956688,
          1.39372945,
          -1.56245649
         ],
         "marker": {
          "color": "#FFA15A"
         },
         "mode": "markers",
         "name": "8,2",
         "showlegend": true,
         "subplot": "mapbox",
         "type": "scattermapbox"
        },
        {
         "hovertemplate": "note=8,0<br>latitutde=%{lat}<br>longitude=%{lon}<extra></extra>",
         "lat": [
          44.01632566,
          43.60332861,
          43.484017,
          43.4687235
         ],
         "legendgroup": "8,0",
         "lon": [
          1.34083071,
          1.44823596,
          -1.557965,
          -1.5700221
         ],
         "marker": {
          "color": "#19d3f3"
         },
         "mode": "markers",
         "name": "8,0",
         "showlegend": true,
         "subplot": "mapbox",
         "type": "scattermapbox"
        },
        {
         "hovertemplate": "note=7,7<br>latitutde=%{lat}<br>longitude=%{lon}<extra></extra>",
         "lat": [
          44.04011965,
          43.59721694,
          43.60886287,
          43.4722079
         ],
         "legendgroup": "7,7",
         "lon": [
          1.3860239,
          1.42789274,
          1.44635975,
          -1.53489947
         ],
         "marker": {
          "color": "#FF6692"
         },
         "mode": "markers",
         "name": "7,7",
         "showlegend": true,
         "subplot": "mapbox",
         "type": "scattermapbox"
        },
        {
         "hovertemplate": "note=7,6<br>latitutde=%{lat}<br>longitude=%{lon}<extra></extra>",
         "lat": [
          43.98081084,
          44.0185775,
          43.61475877,
          43.48040601,
          43.46889876
         ],
         "legendgroup": "7,6",
         "lon": [
          1.33039445,
          1.3549017,
          1.46306187,
          -1.55796111,
          -1.5685612
         ],
         "marker": {
          "color": "#B6E880"
         },
         "mode": "markers",
         "name": "7,6",
         "showlegend": true,
         "subplot": "mapbox",
         "type": "scattermapbox"
        },
        {
         "hovertemplate": "note=7,3<br>latitutde=%{lat}<br>longitude=%{lon}<extra></extra>",
         "lat": [
          44.01927605,
          43.60594868
         ],
         "legendgroup": "7,3",
         "lon": [
          1.36155604,
          1.44723147
         ],
         "marker": {
          "color": "#FF97FF"
         },
         "mode": "markers",
         "name": "7,3",
         "showlegend": true,
         "subplot": "mapbox",
         "type": "scattermapbox"
        },
        {
         "hovertemplate": "note=6,9<br>latitutde=%{lat}<br>longitude=%{lon}<extra></extra>",
         "lat": [
          44.02246008
         ],
         "legendgroup": "6,9",
         "lon": [
          1.35816604
         ],
         "marker": {
          "color": "#FECB52"
         },
         "mode": "markers",
         "name": "6,9",
         "showlegend": true,
         "subplot": "mapbox",
         "type": "scattermapbox"
        },
        {
         "hovertemplate": "note=8,5<br>latitutde=%{lat}<br>longitude=%{lon}<extra></extra>",
         "lat": [
          43.610053,
          43.47853954
         ],
         "legendgroup": "8,5",
         "lon": [
          1.43037,
          -1.5553996
         ],
         "marker": {
          "color": "#636efa"
         },
         "mode": "markers",
         "name": "8,5",
         "showlegend": true,
         "subplot": "mapbox",
         "type": "scattermapbox"
        },
        {
         "hovertemplate": "note=8,4<br>latitutde=%{lat}<br>longitude=%{lon}<extra></extra>",
         "lat": [
          43.59794395,
          43.48437426,
          43.65436638,
          43.77393376
         ],
         "legendgroup": "8,4",
         "lon": [
          1.44384022,
          -1.55863568,
          6.16950452,
          6.61947986
         ],
         "marker": {
          "color": "#EF553B"
         },
         "mode": "markers",
         "name": "8,4",
         "showlegend": true,
         "subplot": "mapbox",
         "type": "scattermapbox"
        },
        {
         "hovertemplate": "note=7,9<br>latitutde=%{lat}<br>longitude=%{lon}<extra></extra>",
         "lat": [
          43.61194052,
          43.48230843,
          43.48474402,
          43.479357,
          43.48784796,
          43.77633074,
          43.7588382
         ],
         "legendgroup": "7,9",
         "lon": [
          1.45180665,
          -1.56681105,
          -1.55708939,
          -1.562543,
          -1.55444473,
          6.2425231,
          5.8844546
         ],
         "marker": {
          "color": "#00cc96"
         },
         "mode": "markers",
         "name": "7,9",
         "showlegend": true,
         "subplot": "mapbox",
         "type": "scattermapbox"
        },
        {
         "hovertemplate": "note=7,8<br>latitutde=%{lat}<br>longitude=%{lon}<extra></extra>",
         "lat": [
          43.58763592
         ],
         "legendgroup": "7,8",
         "lon": [
          1.44667894
         ],
         "marker": {
          "color": "#ab63fa"
         },
         "mode": "markers",
         "name": "7,8",
         "showlegend": true,
         "subplot": "mapbox",
         "type": "scattermapbox"
        },
        {
         "hovertemplate": "note=7,5<br>latitutde=%{lat}<br>longitude=%{lon}<extra></extra>",
         "lat": [
          43.6014709,
          43.56011453
         ],
         "legendgroup": "7,5",
         "lon": [
          1.45706829,
          1.4959015
         ],
         "marker": {
          "color": "#FFA15A"
         },
         "mode": "markers",
         "name": "7,5",
         "showlegend": true,
         "subplot": "mapbox",
         "type": "scattermapbox"
        },
        {
         "hovertemplate": "note=8,1<br>latitutde=%{lat}<br>longitude=%{lon}<extra></extra>",
         "lat": [
          43.68153674
         ],
         "legendgroup": "8,1",
         "lon": [
          6.22550905
         ],
         "marker": {
          "color": "#19d3f3"
         },
         "mode": "markers",
         "name": "8,1",
         "showlegend": true,
         "subplot": "mapbox",
         "type": "scattermapbox"
        }
       ],
       "layout": {
        "legend": {
         "title": {
          "text": "note"
         },
         "tracegroupgap": 0
        },
        "mapbox": {
         "center": {
          "lat": 43.777287014500004,
          "lon": 2.3706072309999997
         },
         "domain": {
          "x": [
           0,
           1
          ],
          "y": [
           0,
           1
          ]
         },
         "style": "carto-positron",
         "zoom": 5
        },
        "margin": {
         "t": 60
        },
        "template": {
         "data": {
          "bar": [
           {
            "error_x": {
             "color": "#2a3f5f"
            },
            "error_y": {
             "color": "#2a3f5f"
            },
            "marker": {
             "line": {
              "color": "#E5ECF6",
              "width": 0.5
             },
             "pattern": {
              "fillmode": "overlay",
              "size": 10,
              "solidity": 0.2
             }
            },
            "type": "bar"
           }
          ],
          "barpolar": [
           {
            "marker": {
             "line": {
              "color": "#E5ECF6",
              "width": 0.5
             },
             "pattern": {
              "fillmode": "overlay",
              "size": 10,
              "solidity": 0.2
             }
            },
            "type": "barpolar"
           }
          ],
          "carpet": [
           {
            "aaxis": {
             "endlinecolor": "#2a3f5f",
             "gridcolor": "white",
             "linecolor": "white",
             "minorgridcolor": "white",
             "startlinecolor": "#2a3f5f"
            },
            "baxis": {
             "endlinecolor": "#2a3f5f",
             "gridcolor": "white",
             "linecolor": "white",
             "minorgridcolor": "white",
             "startlinecolor": "#2a3f5f"
            },
            "type": "carpet"
           }
          ],
          "choropleth": [
           {
            "colorbar": {
             "outlinewidth": 0,
             "ticks": ""
            },
            "type": "choropleth"
           }
          ],
          "contour": [
           {
            "colorbar": {
             "outlinewidth": 0,
             "ticks": ""
            },
            "colorscale": [
             [
              0,
              "#0d0887"
             ],
             [
              0.1111111111111111,
              "#46039f"
             ],
             [
              0.2222222222222222,
              "#7201a8"
             ],
             [
              0.3333333333333333,
              "#9c179e"
             ],
             [
              0.4444444444444444,
              "#bd3786"
             ],
             [
              0.5555555555555556,
              "#d8576b"
             ],
             [
              0.6666666666666666,
              "#ed7953"
             ],
             [
              0.7777777777777778,
              "#fb9f3a"
             ],
             [
              0.8888888888888888,
              "#fdca26"
             ],
             [
              1,
              "#f0f921"
             ]
            ],
            "type": "contour"
           }
          ],
          "contourcarpet": [
           {
            "colorbar": {
             "outlinewidth": 0,
             "ticks": ""
            },
            "type": "contourcarpet"
           }
          ],
          "heatmap": [
           {
            "colorbar": {
             "outlinewidth": 0,
             "ticks": ""
            },
            "colorscale": [
             [
              0,
              "#0d0887"
             ],
             [
              0.1111111111111111,
              "#46039f"
             ],
             [
              0.2222222222222222,
              "#7201a8"
             ],
             [
              0.3333333333333333,
              "#9c179e"
             ],
             [
              0.4444444444444444,
              "#bd3786"
             ],
             [
              0.5555555555555556,
              "#d8576b"
             ],
             [
              0.6666666666666666,
              "#ed7953"
             ],
             [
              0.7777777777777778,
              "#fb9f3a"
             ],
             [
              0.8888888888888888,
              "#fdca26"
             ],
             [
              1,
              "#f0f921"
             ]
            ],
            "type": "heatmap"
           }
          ],
          "heatmapgl": [
           {
            "colorbar": {
             "outlinewidth": 0,
             "ticks": ""
            },
            "colorscale": [
             [
              0,
              "#0d0887"
             ],
             [
              0.1111111111111111,
              "#46039f"
             ],
             [
              0.2222222222222222,
              "#7201a8"
             ],
             [
              0.3333333333333333,
              "#9c179e"
             ],
             [
              0.4444444444444444,
              "#bd3786"
             ],
             [
              0.5555555555555556,
              "#d8576b"
             ],
             [
              0.6666666666666666,
              "#ed7953"
             ],
             [
              0.7777777777777778,
              "#fb9f3a"
             ],
             [
              0.8888888888888888,
              "#fdca26"
             ],
             [
              1,
              "#f0f921"
             ]
            ],
            "type": "heatmapgl"
           }
          ],
          "histogram": [
           {
            "marker": {
             "pattern": {
              "fillmode": "overlay",
              "size": 10,
              "solidity": 0.2
             }
            },
            "type": "histogram"
           }
          ],
          "histogram2d": [
           {
            "colorbar": {
             "outlinewidth": 0,
             "ticks": ""
            },
            "colorscale": [
             [
              0,
              "#0d0887"
             ],
             [
              0.1111111111111111,
              "#46039f"
             ],
             [
              0.2222222222222222,
              "#7201a8"
             ],
             [
              0.3333333333333333,
              "#9c179e"
             ],
             [
              0.4444444444444444,
              "#bd3786"
             ],
             [
              0.5555555555555556,
              "#d8576b"
             ],
             [
              0.6666666666666666,
              "#ed7953"
             ],
             [
              0.7777777777777778,
              "#fb9f3a"
             ],
             [
              0.8888888888888888,
              "#fdca26"
             ],
             [
              1,
              "#f0f921"
             ]
            ],
            "type": "histogram2d"
           }
          ],
          "histogram2dcontour": [
           {
            "colorbar": {
             "outlinewidth": 0,
             "ticks": ""
            },
            "colorscale": [
             [
              0,
              "#0d0887"
             ],
             [
              0.1111111111111111,
              "#46039f"
             ],
             [
              0.2222222222222222,
              "#7201a8"
             ],
             [
              0.3333333333333333,
              "#9c179e"
             ],
             [
              0.4444444444444444,
              "#bd3786"
             ],
             [
              0.5555555555555556,
              "#d8576b"
             ],
             [
              0.6666666666666666,
              "#ed7953"
             ],
             [
              0.7777777777777778,
              "#fb9f3a"
             ],
             [
              0.8888888888888888,
              "#fdca26"
             ],
             [
              1,
              "#f0f921"
             ]
            ],
            "type": "histogram2dcontour"
           }
          ],
          "mesh3d": [
           {
            "colorbar": {
             "outlinewidth": 0,
             "ticks": ""
            },
            "type": "mesh3d"
           }
          ],
          "parcoords": [
           {
            "line": {
             "colorbar": {
              "outlinewidth": 0,
              "ticks": ""
             }
            },
            "type": "parcoords"
           }
          ],
          "pie": [
           {
            "automargin": true,
            "type": "pie"
           }
          ],
          "scatter": [
           {
            "fillpattern": {
             "fillmode": "overlay",
             "size": 10,
             "solidity": 0.2
            },
            "type": "scatter"
           }
          ],
          "scatter3d": [
           {
            "line": {
             "colorbar": {
              "outlinewidth": 0,
              "ticks": ""
             }
            },
            "marker": {
             "colorbar": {
              "outlinewidth": 0,
              "ticks": ""
             }
            },
            "type": "scatter3d"
           }
          ],
          "scattercarpet": [
           {
            "marker": {
             "colorbar": {
              "outlinewidth": 0,
              "ticks": ""
             }
            },
            "type": "scattercarpet"
           }
          ],
          "scattergeo": [
           {
            "marker": {
             "colorbar": {
              "outlinewidth": 0,
              "ticks": ""
             }
            },
            "type": "scattergeo"
           }
          ],
          "scattergl": [
           {
            "marker": {
             "colorbar": {
              "outlinewidth": 0,
              "ticks": ""
             }
            },
            "type": "scattergl"
           }
          ],
          "scattermapbox": [
           {
            "marker": {
             "colorbar": {
              "outlinewidth": 0,
              "ticks": ""
             }
            },
            "type": "scattermapbox"
           }
          ],
          "scatterpolar": [
           {
            "marker": {
             "colorbar": {
              "outlinewidth": 0,
              "ticks": ""
             }
            },
            "type": "scatterpolar"
           }
          ],
          "scatterpolargl": [
           {
            "marker": {
             "colorbar": {
              "outlinewidth": 0,
              "ticks": ""
             }
            },
            "type": "scatterpolargl"
           }
          ],
          "scatterternary": [
           {
            "marker": {
             "colorbar": {
              "outlinewidth": 0,
              "ticks": ""
             }
            },
            "type": "scatterternary"
           }
          ],
          "surface": [
           {
            "colorbar": {
             "outlinewidth": 0,
             "ticks": ""
            },
            "colorscale": [
             [
              0,
              "#0d0887"
             ],
             [
              0.1111111111111111,
              "#46039f"
             ],
             [
              0.2222222222222222,
              "#7201a8"
             ],
             [
              0.3333333333333333,
              "#9c179e"
             ],
             [
              0.4444444444444444,
              "#bd3786"
             ],
             [
              0.5555555555555556,
              "#d8576b"
             ],
             [
              0.6666666666666666,
              "#ed7953"
             ],
             [
              0.7777777777777778,
              "#fb9f3a"
             ],
             [
              0.8888888888888888,
              "#fdca26"
             ],
             [
              1,
              "#f0f921"
             ]
            ],
            "type": "surface"
           }
          ],
          "table": [
           {
            "cells": {
             "fill": {
              "color": "#EBF0F8"
             },
             "line": {
              "color": "white"
             }
            },
            "header": {
             "fill": {
              "color": "#C8D4E3"
             },
             "line": {
              "color": "white"
             }
            },
            "type": "table"
           }
          ]
         },
         "layout": {
          "annotationdefaults": {
           "arrowcolor": "#2a3f5f",
           "arrowhead": 0,
           "arrowwidth": 1
          },
          "autotypenumbers": "strict",
          "coloraxis": {
           "colorbar": {
            "outlinewidth": 0,
            "ticks": ""
           }
          },
          "colorscale": {
           "diverging": [
            [
             0,
             "#8e0152"
            ],
            [
             0.1,
             "#c51b7d"
            ],
            [
             0.2,
             "#de77ae"
            ],
            [
             0.3,
             "#f1b6da"
            ],
            [
             0.4,
             "#fde0ef"
            ],
            [
             0.5,
             "#f7f7f7"
            ],
            [
             0.6,
             "#e6f5d0"
            ],
            [
             0.7,
             "#b8e186"
            ],
            [
             0.8,
             "#7fbc41"
            ],
            [
             0.9,
             "#4d9221"
            ],
            [
             1,
             "#276419"
            ]
           ],
           "sequential": [
            [
             0,
             "#0d0887"
            ],
            [
             0.1111111111111111,
             "#46039f"
            ],
            [
             0.2222222222222222,
             "#7201a8"
            ],
            [
             0.3333333333333333,
             "#9c179e"
            ],
            [
             0.4444444444444444,
             "#bd3786"
            ],
            [
             0.5555555555555556,
             "#d8576b"
            ],
            [
             0.6666666666666666,
             "#ed7953"
            ],
            [
             0.7777777777777778,
             "#fb9f3a"
            ],
            [
             0.8888888888888888,
             "#fdca26"
            ],
            [
             1,
             "#f0f921"
            ]
           ],
           "sequentialminus": [
            [
             0,
             "#0d0887"
            ],
            [
             0.1111111111111111,
             "#46039f"
            ],
            [
             0.2222222222222222,
             "#7201a8"
            ],
            [
             0.3333333333333333,
             "#9c179e"
            ],
            [
             0.4444444444444444,
             "#bd3786"
            ],
            [
             0.5555555555555556,
             "#d8576b"
            ],
            [
             0.6666666666666666,
             "#ed7953"
            ],
            [
             0.7777777777777778,
             "#fb9f3a"
            ],
            [
             0.8888888888888888,
             "#fdca26"
            ],
            [
             1,
             "#f0f921"
            ]
           ]
          },
          "colorway": [
           "#636efa",
           "#EF553B",
           "#00cc96",
           "#ab63fa",
           "#FFA15A",
           "#19d3f3",
           "#FF6692",
           "#B6E880",
           "#FF97FF",
           "#FECB52"
          ],
          "font": {
           "color": "#2a3f5f"
          },
          "geo": {
           "bgcolor": "white",
           "lakecolor": "white",
           "landcolor": "#E5ECF6",
           "showlakes": true,
           "showland": true,
           "subunitcolor": "white"
          },
          "hoverlabel": {
           "align": "left"
          },
          "hovermode": "closest",
          "mapbox": {
           "style": "light"
          },
          "paper_bgcolor": "white",
          "plot_bgcolor": "#E5ECF6",
          "polar": {
           "angularaxis": {
            "gridcolor": "white",
            "linecolor": "white",
            "ticks": ""
           },
           "bgcolor": "#E5ECF6",
           "radialaxis": {
            "gridcolor": "white",
            "linecolor": "white",
            "ticks": ""
           }
          },
          "scene": {
           "xaxis": {
            "backgroundcolor": "#E5ECF6",
            "gridcolor": "white",
            "gridwidth": 2,
            "linecolor": "white",
            "showbackground": true,
            "ticks": "",
            "zerolinecolor": "white"
           },
           "yaxis": {
            "backgroundcolor": "#E5ECF6",
            "gridcolor": "white",
            "gridwidth": 2,
            "linecolor": "white",
            "showbackground": true,
            "ticks": "",
            "zerolinecolor": "white"
           },
           "zaxis": {
            "backgroundcolor": "#E5ECF6",
            "gridcolor": "white",
            "gridwidth": 2,
            "linecolor": "white",
            "showbackground": true,
            "ticks": "",
            "zerolinecolor": "white"
           }
          },
          "shapedefaults": {
           "line": {
            "color": "#2a3f5f"
           }
          },
          "ternary": {
           "aaxis": {
            "gridcolor": "white",
            "linecolor": "white",
            "ticks": ""
           },
           "baxis": {
            "gridcolor": "white",
            "linecolor": "white",
            "ticks": ""
           },
           "bgcolor": "#E5ECF6",
           "caxis": {
            "gridcolor": "white",
            "linecolor": "white",
            "ticks": ""
           }
          },
          "title": {
           "x": 0.05
          },
          "xaxis": {
           "automargin": true,
           "gridcolor": "white",
           "linecolor": "white",
           "ticks": "",
           "title": {
            "standoff": 15
           },
           "zerolinecolor": "white",
           "zerolinewidth": 2
          },
          "yaxis": {
           "automargin": true,
           "gridcolor": "white",
           "linecolor": "white",
           "ticks": "",
           "title": {
            "standoff": 15
           },
           "zerolinecolor": "white",
           "zerolinewidth": 2
          }
         }
        }
       }
      }
     },
     "metadata": {},
     "output_type": "display_data"
    }
   ],
   "source": [
    "fig8 = px.scatter_mapbox(hotel_viz, lat=\"latitutde\", lon=\"longitude\",color='note', zoom=5, mapbox_style=\"carto-positron\",color_continuous_scale='Reds')\n",
    "fig8.show()"
   ]
  }
 ],
 "metadata": {
  "kernelspec": {
   "display_name": "Python 3",
   "language": "python",
   "name": "python3"
  },
  "language_info": {
   "codemirror_mode": {
    "name": "ipython",
    "version": 3
   },
   "file_extension": ".py",
   "mimetype": "text/x-python",
   "name": "python",
   "nbconvert_exporter": "python",
   "pygments_lexer": "ipython3",
   "version": "3.10.2"
  },
  "orig_nbformat": 4,
  "vscode": {
   "interpreter": {
    "hash": "23e0aedb6d47e040503db7fcf09a0dff3cea72eb7d5d4c2596a602b1504b448c"
   }
  }
 },
 "nbformat": 4,
 "nbformat_minor": 2
}
