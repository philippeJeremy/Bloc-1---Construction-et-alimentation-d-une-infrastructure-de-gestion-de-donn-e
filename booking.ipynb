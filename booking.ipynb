{
 "cells": [
  {
   "cell_type": "code",
   "execution_count": 97,
   "metadata": {},
   "outputs": [
    {
     "name": "stderr",
     "output_type": "stream",
     "text": [
      "Python-dotenv could not parse statement starting at line 5\n"
     ]
    }
   ],
   "source": [
    "import os\n",
    "import json\n",
    "import boto3\n",
    "\n",
    "import pandas as pd\n",
    "import plotly.io as pio\n",
    "import plotly.express as px\n",
    "import plotly.graph_objects as go\n",
    "\n",
    "from dotenv import load_dotenv\n",
    "from plotly.subplots import make_subplots\n",
    "from sqlalchemy import create_engine, text\n",
    "\n",
    "load_dotenv()\n",
    "\n",
    "ACCESS_KEY = os.getenv(\"ID_KEY_ACCESS\")\n",
    "ACCESS_KEY_SECRETE = os.getenv(\"KEY_SECRET\")\n",
    "BUCKET_NAME = os.getenv(\"BUCKETNAME\")"
   ]
  },
  {
   "attachments": {},
   "cell_type": "markdown",
   "metadata": {},
   "source": [
    "## Récupération des données récolté"
   ]
  },
  {
   "cell_type": "code",
   "execution_count": 98,
   "metadata": {},
   "outputs": [],
   "source": [
    "df_1 = pd.read_json(\"./hotel_1.json\")\n",
    "df_2 = pd.read_json(\"./hotel_2.json\")\n",
    "df_3 = pd.read_json(\"./temps.json\")"
   ]
  },
  {
   "cell_type": "code",
   "execution_count": 99,
   "metadata": {},
   "outputs": [],
   "source": [
    "# merge des 3 dataframe\n",
    "def merge_outer(data_1:pd.DataFrame, data_2:pd.DataFrame, on:str) -> pd.DataFrame:\n",
    "    df = pd.merge(data_1, data_2, how='outer', on=on)\n",
    "    return df\n",
    "\n",
    "df = merge_outer(df_1, df_2, \"hotel\")\n",
    "df = merge_outer(df, df_3, \"id\")\n",
    "df.dropna()"
   ]
  },
  {
   "cell_type": "code",
   "execution_count": 45,
   "metadata": {},
   "outputs": [],
   "source": [
    "# Sauvegarde du dataframe en csv pour envoie dans un s3\n",
    "csv = df.to_csv()\n",
    "df.to_csv(\"hotel.csv\")"
   ]
  },
  {
   "attachments": {},
   "cell_type": "markdown",
   "metadata": {},
   "source": [
    "## Stockage des données en S3"
   ]
  },
  {
   "cell_type": "code",
   "execution_count": 6,
   "metadata": {},
   "outputs": [],
   "source": [
    "# Création d'une session aws\n",
    "session = boto3.Session(aws_access_key_id=ACCESS_KEY, \n",
    "                        aws_secret_access_key=ACCESS_KEY_SECRETE)\n",
    "s3 = session.resource(\"s3\")"
   ]
  },
  {
   "cell_type": "code",
   "execution_count": 7,
   "metadata": {},
   "outputs": [],
   "source": [
    "# Création d'un bucket s3\n",
    "bucket = s3.create_bucket(Bucket=BUCKET_NAME, CreateBucketConfiguration={'LocationConstraint': 'eu-west-3'})"
   ]
  },
  {
   "cell_type": "code",
   "execution_count": 8,
   "metadata": {},
   "outputs": [],
   "source": [
    "# Ajout du fichier csv dans le compartiment bucket s3\n",
    "put_object = bucket.put_object(Key=\"hotel.csv\", Body=csv)"
   ]
  },
  {
   "attachments": {},
   "cell_type": "markdown",
   "metadata": {},
   "source": [
    "## Récupération des données"
   ]
  },
  {
   "cell_type": "code",
   "execution_count": 9,
   "metadata": {},
   "outputs": [],
   "source": [
    "# recuperation du fichier csv dans un s3\n",
    "df = pd.read_csv(f's3://{BUCKET_NAME}/hotel.csv')"
   ]
  },
  {
   "cell_type": "code",
   "execution_count": 101,
   "metadata": {},
   "outputs": [
    {
     "name": "stderr",
     "output_type": "stream",
     "text": [
      "C:\\Users\\jerem\\AppData\\Local\\Temp\\ipykernel_24592\\2603906745.py:2: SettingWithCopyWarning:\n",
      "\n",
      "\n",
      "A value is trying to be set on a copy of a slice from a DataFrame\n",
      "\n",
      "See the caveats in the documentation: https://pandas.pydata.org/pandas-docs/stable/user_guide/indexing.html#returning-a-view-versus-a-copy\n",
      "\n",
      "C:\\Users\\jerem\\AppData\\Local\\Temp\\ipykernel_24592\\2603906745.py:4: SettingWithCopyWarning:\n",
      "\n",
      "\n",
      "A value is trying to be set on a copy of a slice from a DataFrame.\n",
      "Try using .loc[row_indexer,col_indexer] = value instead\n",
      "\n",
      "See the caveats in the documentation: https://pandas.pydata.org/pandas-docs/stable/user_guide/indexing.html#returning-a-view-versus-a-copy\n",
      "\n",
      "C:\\Users\\jerem\\AppData\\Local\\Temp\\ipykernel_24592\\2603906745.py:6: SettingWithCopyWarning:\n",
      "\n",
      "\n",
      "A value is trying to be set on a copy of a slice from a DataFrame.\n",
      "Try using .loc[row_indexer,col_indexer] = value instead\n",
      "\n",
      "See the caveats in the documentation: https://pandas.pydata.org/pandas-docs/stable/user_guide/indexing.html#returning-a-view-versus-a-copy\n",
      "\n"
     ]
    }
   ],
   "source": [
    "# Modifiquation des données pour mise en SQL\n",
    "df_temps = df[[\"id\", \"ville\", \"lat\", \"long\", \"temperature\", \"temps\"]]\n",
    "\n",
    "df_temps.drop_duplicates(\"id\", inplace=True)\n",
    "df_temps.reset_index(drop=True, inplace=True)\n",
    "\n",
    "df_temps[\"moyenne\"] = df_temps[\"temperature\"].apply(lambda x : round((sum(x) / len(x)),2) )\n",
    "\n",
    "jour = list(range(1,6))\n",
    "df_temps['jour'] = [jour for _ in range(len(df_temps))]\n",
    "\n",
    "df_temps = df_temps.apply(pd.Series.explode)\n",
    "\n",
    "df[\"note\"] = df[\"note\"].str.replace(\",\", \".\")\n",
    "df[\"note\"] = pd.to_numeric(df[\"note\"])\n",
    "\n",
    "df.drop([\"lat\", \"long\", \"temperature\", \"temps\"], inplace=True, axis=1)"
   ]
  },
  {
   "attachments": {},
   "cell_type": "markdown",
   "metadata": {},
   "source": [
    "## Base SQL"
   ]
  },
  {
   "cell_type": "code",
   "execution_count": 104,
   "metadata": {},
   "outputs": [],
   "source": [
    "# Création de la base SQL\n",
    "# engine = create_engine(f\"postgresql+psycopg2://{YOUR_USERNAME}:{YOUR_PASSWORD}@{YOUR_HOSTNAME}/postgres\", echo=True)\n",
    "engine = create_engine('sqlite:///:memory:', echo=True)"
   ]
  },
  {
   "cell_type": "code",
   "execution_count": 105,
   "metadata": {},
   "outputs": [
    {
     "name": "stdout",
     "output_type": "stream",
     "text": [
      "2023-01-04 08:22:14,144 INFO sqlalchemy.engine.Engine PRAGMA main.table_info(\"hotel\")\n",
      "2023-01-04 08:22:14,145 INFO sqlalchemy.engine.Engine [raw sql] ()\n",
      "2023-01-04 08:22:14,146 INFO sqlalchemy.engine.Engine PRAGMA temp.table_info(\"hotel\")\n",
      "2023-01-04 08:22:14,146 INFO sqlalchemy.engine.Engine [raw sql] ()\n",
      "2023-01-04 08:22:14,147 INFO sqlalchemy.engine.Engine BEGIN (implicit)\n",
      "2023-01-04 08:22:14,148 INFO sqlalchemy.engine.Engine \n",
      "CREATE TABLE hotel (\n",
      "\t\"index\" BIGINT, \n",
      "\tid BIGINT, \n",
      "\tville TEXT, \n",
      "\thotel TEXT, \n",
      "\turl TEXT, \n",
      "\tnote FLOAT, \n",
      "\tdescription TEXT, \n",
      "\tlatitutde FLOAT, \n",
      "\tlongitude FLOAT\n",
      ")\n",
      "\n",
      "\n",
      "2023-01-04 08:22:14,149 INFO sqlalchemy.engine.Engine [no key 0.00061s] ()\n",
      "2023-01-04 08:22:14,150 INFO sqlalchemy.engine.Engine CREATE INDEX ix_hotel_index ON hotel (\"index\")\n",
      "2023-01-04 08:22:14,150 INFO sqlalchemy.engine.Engine [no key 0.00037s] ()\n",
      "2023-01-04 08:22:14,151 INFO sqlalchemy.engine.Engine COMMIT\n",
      "2023-01-04 08:22:14,153 INFO sqlalchemy.engine.Engine BEGIN (implicit)\n",
      "2023-01-04 08:22:14,157 INFO sqlalchemy.engine.Engine INSERT INTO hotel (\"index\", id, ville, hotel, url, note, description, latitutde, longitude) VALUES (?, ?, ?, ?, ?, ?, ?, ?, ?)\n",
      "2023-01-04 08:22:14,158 INFO sqlalchemy.engine.Engine [generated in 0.00299s] ((0, 1, 'Le Mont-Saint-Michel', 'Hôtel Vert', 'https://www.booking.com/hotel/fr/vert.fr.html?label=gen173nr-1FCAEoggI46AdIDVgEaE2IAQGYAQ24AQrIAQXYAQHoAQH4AQKIAgGoAgO4ArTzu5wGwAIB0gIkNjJlMTY0ZWQtZT ... (135 characters truncated) ... no_rooms=1&group_children=0&req_children=0&hpos=1&hapos=1&sr_order=popularity&srpvid=153739dd3cf1005e&srepoch=1670314428&from=searchresults#hotelTmpl', 8.0, \"Vous pouvez bénéficier d'une réduction Genius dans l'établissement Hôtel Vert\\xa0! \", 48.61470049, -1.50961697), (1, 1, 'Le Mont-Saint-Michel', 'Mercure Mont Saint Michel', 'https://www.booking.com/hotel/fr/mont-saint-michel.fr.html?label=gen173nr-1FCAEoggI46AdIDVgEaE2IAQGYAQ24AQrIAQXYAQHoAQH4AQKIAgGoAgO4ArTzu5wGwAIB0gIkN ... (179 characters truncated) ... _children=0&hpos=2&hapos=2&sr_order=popularity&srpvid=153739dd3cf1005e&srepoch=1670314428&from_sustainable_property_sr=1&from=searchresults#hotelTmpl', 8.2, \"Installé dans des espaces verts à seulement 2 km de l'abbaye du Mont-Saint-Michel, le Mercure Mont Saint Michel propose des chambres spacieuses avec salle de bains privative, un bar-restaurant et de nombreuses places de parking gratuites.\", 48.61424653, -1.51054502), (2, 1, 'Le Mont-Saint-Michel', 'La Mère Poulard', 'https://www.booking.com/hotel/fr/la-mere-poulard.fr.html?label=gen173nr-1FCAEoggI46AdIDVgEaE2IAQGYAQ24AQrIAQXYAQHoAQH4AQKIAgGoAgO4ArTzu5wGwAIB0gIkNjJ ... (146 characters truncated) ... no_rooms=1&group_children=0&req_children=0&hpos=3&hapos=3&sr_order=popularity&srpvid=153739dd3cf1005e&srepoch=1670314428&from=searchresults#hotelTmpl', 7.0, \"Vous pouvez bénéficier d'une réduction Genius dans l'établissement La Mère Poulard\\xa0! \", 48.63508532, -1.51053965), (3, 1, 'Le Mont-Saint-Michel', 'Hotel De La Digue', 'https://www.booking.com/hotel/fr/de-la-digue.fr.html?label=gen173nr-1FCAEoggI46AdIDVgEaE2IAQGYAQ24AQrIAQXYAQHoAQH4AQKIAgGoAgO4ArTzu5wGwAIB0gIkNjJlMTY ... (142 characters truncated) ... no_rooms=1&group_children=0&req_children=0&hpos=4&hapos=4&sr_order=popularity&srpvid=153739dd3cf1005e&srepoch=1670314428&from=searchresults#hotelTmpl', 7.1, \"L'hôtel De La Digue est un établissement traditionnel situé en Normandie, à seulement 5 minutes en navette ou à 30 minutes de marche du Mont-Saint-Mi ... (32 characters truncated) ... tuite dans l'ensemble des locaux. Le restaurant sur place sert une cuisine française classique et offre une vue panoramique sur le Mont-Saint-Michel.\", 48.61688155, -1.51091784), (4, 1, 'Le Mont-Saint-Michel', 'Les Terrasses Poulard', 'https://www.booking.com/hotel/fr/les-terrasses-poulard.fr.html?label=gen173nr-1FCAEoggI46AdIDVgEaE2IAQGYAQ24AQrIAQXYAQHoAQH4AQKIAgGoAgO4ArTzu5wGwAIB0 ... (152 characters truncated) ... no_rooms=1&group_children=0&req_children=0&hpos=5&hapos=5&sr_order=popularity&srpvid=153739dd3cf1005e&srepoch=1670314428&from=searchresults#hotelTmpl', 7.3, \"Vous pouvez bénéficier d'une réduction Genius dans l'établissement Les Terrasses Poulard\\xa0! \", 48.63534943, -1.51037872), (5, 1, 'Le Mont-Saint-Michel', 'Le Relais Saint Michel', 'https://www.booking.com/hotel/fr/le-relais-saint-michel.fr.html?label=gen173nr-1FCAEoggI46AdIDVgEaE2IAQGYAQ24AQrIAQXYAQHoAQH4AQKIAgGoAgO4ArTzu5wGwAIB ... (153 characters truncated) ... no_rooms=1&group_children=0&req_children=0&hpos=6&hapos=6&sr_order=popularity&srpvid=153739dd3cf1005e&srepoch=1670314428&from=searchresults#hotelTmpl', 7.8, \"Vous pouvez bénéficier d'une réduction Genius dans l'établissement Le Relais Saint Michel\\xa0! \", 48.61758727, -1.51039615), (6, 1, 'Le Mont-Saint-Michel', 'Le Mouton Blanc', 'https://www.booking.com/hotel/fr/le-mouton-blanc-le-mont-saint-michel.fr.html?label=gen173nr-1FCAEoggI46AdIDVgEaE2IAQGYAQ24AQrIAQXYAQHoAQH4AQKIAgGoAg ... (167 characters truncated) ... no_rooms=1&group_children=0&req_children=0&hpos=7&hapos=7&sr_order=popularity&srpvid=153739dd3cf1005e&srepoch=1670314428&from=searchresults#hotelTmpl', 7.0, \"Vous pouvez bénéficier d'une réduction Genius dans l'établissement Le Mouton Blanc\\xa0! \", 48.63602298, -1.50989592), (7, 1, 'Le Mont-Saint-Michel', 'La Vieille Auberge', 'https://www.booking.com/hotel/fr/la-vieille-auberge-le-mont-saint-michel.fr.html?label=gen173nr-1FCAEoggI46AdIDVgEaE2IAQGYAQ24AQrIAQXYAQHoAQH4AQKIAgG ... (170 characters truncated) ... no_rooms=1&group_children=0&req_children=0&hpos=8&hapos=8&sr_order=popularity&srpvid=153739dd3cf1005e&srepoch=1670314428&from=searchresults#hotelTmpl', 7.1, 'La Vieille Auberge vous accueille dans le village médiéval du Mont-Saint-Michel, à quelques pas de la célèbre abbaye du Mont-Saint-Michel. L’établissement propose une connexion Wi-Fi gratuite, un restaurant et une terrasse avec vue sur la baie du Mont-Saint-Michel.', 48.636063, -1.511457)  ... displaying 10 of 875 total bound parameter sets ...  (873, 35, '5e arr., Lyon', 'MiHotel Tour Rose', 'https://www.booking.com/hotel/fr/mihotel-tour-rose.fr.html?label=gen173nr-1FCAEoggI46AdIDVgEaE2IAQGYAQ24AQrIAQXYAQHoAQH4AQKIAgGoAgO4ArTzu5wGwAIB0gIkN ... (150 characters truncated) ... _rooms=1&group_children=0&req_children=0&hpos=24&hapos=24&sr_order=popularity&srpvid=cddf39e80dee074e&srepoch=1670314450&from=searchresults#hotelTmpl', 8.4, \"Vous pouvez bénéficier d'une réduction Genius dans l'établissement MiHotel Tour Rose\\xa0! \", 45.762725, 4.82682), (874, 35, '2e arr., Lyon', \"Citadines Presqu'île Lyon\", 'https://www.booking.com/hotel/fr/citadines-aparthotel-lyon-presqu-ile.fr.html?label=gen173nr-1FCAEoggI46AdIDVgEaE2IAQGYAQ24AQrIAQXYAQHoAQH4AQKIAgGoAg ... (200 characters truncated) ... hildren=0&hpos=25&hapos=25&sr_order=popularity&srpvid=cddf39e80dee074e&srepoch=1670314450&from_sustainable_property_sr=1&from=searchresults#hotelTmpl', 8.3, \"Le Citadines Presqu'île Lyon est situé dans le centre-ville de Lyon, entre le Rhône et la Saône, au cœur du quartier de la Presqu'île. Ses studios et appartements sont entièrement équipés et bénéficient d'une connexion Wi-Fi gratuite.\", 45.76158736, 4.83262651))\n",
      "2023-01-04 08:22:14,161 INFO sqlalchemy.engine.Engine COMMIT\n"
     ]
    },
    {
     "data": {
      "text/plain": [
       "875"
      ]
     },
     "execution_count": 105,
     "metadata": {},
     "output_type": "execute_result"
    }
   ],
   "source": [
    "df.to_sql(\"hotel\", engine)"
   ]
  },
  {
   "cell_type": "code",
   "execution_count": 106,
   "metadata": {},
   "outputs": [
    {
     "name": "stdout",
     "output_type": "stream",
     "text": [
      "2023-01-04 08:22:21,962 INFO sqlalchemy.engine.Engine PRAGMA main.table_info(\"temps\")\n",
      "2023-01-04 08:22:21,963 INFO sqlalchemy.engine.Engine [raw sql] ()\n",
      "2023-01-04 08:22:21,964 INFO sqlalchemy.engine.Engine PRAGMA temp.table_info(\"temps\")\n",
      "2023-01-04 08:22:21,965 INFO sqlalchemy.engine.Engine [raw sql] ()\n",
      "2023-01-04 08:22:21,967 INFO sqlalchemy.engine.Engine BEGIN (implicit)\n",
      "2023-01-04 08:22:21,968 INFO sqlalchemy.engine.Engine \n",
      "CREATE TABLE temps (\n",
      "\t\"index\" BIGINT, \n",
      "\tid BIGINT, \n",
      "\tville TEXT, \n",
      "\tlat FLOAT, \n",
      "\tlong FLOAT, \n",
      "\ttemperature FLOAT, \n",
      "\ttemps TEXT, \n",
      "\tmoyenne FLOAT, \n",
      "\tjour BIGINT\n",
      ")\n",
      "\n",
      "\n",
      "2023-01-04 08:22:21,969 INFO sqlalchemy.engine.Engine [no key 0.00092s] ()\n",
      "2023-01-04 08:22:21,970 INFO sqlalchemy.engine.Engine CREATE INDEX ix_temps_index ON temps (\"index\")\n",
      "2023-01-04 08:22:21,971 INFO sqlalchemy.engine.Engine [no key 0.00048s] ()\n",
      "2023-01-04 08:22:21,972 INFO sqlalchemy.engine.Engine COMMIT\n",
      "2023-01-04 08:22:21,974 INFO sqlalchemy.engine.Engine BEGIN (implicit)\n",
      "2023-01-04 08:22:21,977 INFO sqlalchemy.engine.Engine INSERT INTO temps (\"index\", id, ville, lat, long, temperature, temps, moyenne, jour) VALUES (?, ?, ?, ?, ?, ?, ?, ?, ?)\n",
      "2023-01-04 08:22:21,978 INFO sqlalchemy.engine.Engine [generated in 0.00162s] ((0, 1, 'Le Mont-Saint-Michel', 48.6355232, -1.5102571, 12.34, 'légère pluie', 11.33, 1), (0, 1, 'Le Mont-Saint-Michel', 48.6355232, -1.5102571, 12.43, 'légère pluie', 11.33, 2), (0, 1, 'Le Mont-Saint-Michel', 48.6355232, -1.5102571, 11.24, 'couvert', 11.33, 3), (0, 1, 'Le Mont-Saint-Michel', 48.6355232, -1.5102571, 11.02, 'légère pluie', 11.33, 4), (0, 1, 'Le Mont-Saint-Michel', 48.6355232, -1.5102571, 9.62, 'légère pluie', 11.33, 5), (1, 2, 'Intra muros, Saint-Malo', 48.649518, -2.0260409, 12.64, 'légère pluie', 11.61, 1), (1, 2, 'Intra muros, Saint-Malo', 48.649518, -2.0260409, 12.19, 'légère pluie', 11.61, 2), (1, 2, 'Intra muros, Saint-Malo', 48.649518, -2.0260409, 11.7, 'couvert', 11.61, 3)  ... displaying 10 of 175 total bound parameter sets ...  (34, 35, '7e arr., Lyon', 46.1591126, -1.1520434, 10.15, 'nuageux', 11.81, 4), (34, 35, '7e arr., Lyon', 46.1591126, -1.1520434, 11.62, 'pluie modérée', 11.81, 5))\n",
      "2023-01-04 08:22:21,979 INFO sqlalchemy.engine.Engine COMMIT\n"
     ]
    },
    {
     "data": {
      "text/plain": [
       "175"
      ]
     },
     "execution_count": 106,
     "metadata": {},
     "output_type": "execute_result"
    }
   ],
   "source": [
    "df_temps.to_sql(\"temps\", engine)"
   ]
  },
  {
   "cell_type": "code",
   "execution_count": 107,
   "metadata": {},
   "outputs": [],
   "source": [
    "# Connexion à la base\n",
    "conn = engine.connect()"
   ]
  },
  {
   "cell_type": "code",
   "execution_count": 108,
   "metadata": {},
   "outputs": [],
   "source": [
    "# Requête pour récupérer les 5 meilleurs villes\n",
    "ville = text(\"SELECT * FROM temps ORDER BY moyenne DESC LIMIT 25\")"
   ]
  },
  {
   "cell_type": "code",
   "execution_count": 109,
   "metadata": {},
   "outputs": [],
   "source": [
    "# Requête pour récupérer les hôtels\n",
    "hotel_1 = text(\"SELECT * FROM hotel WHERE id = 21 ORDER BY note DESC LIMIT 20\")\n",
    "hotel_2 = text(\"SELECT * FROM hotel WHERE id = 20 ORDER BY note DESC LIMIT 20\")\n",
    "hotel_3 = text(\"SELECT * FROM hotel WHERE id = 35 ORDER BY note DESC LIMIT 20\")\n",
    "hotel_4 = text(\"SELECT * FROM hotel WHERE id = 2 ORDER BY note DESC LIMIT 20\")\n",
    "hotel_5 = text(\"SELECT * FROM hotel WHERE id = 1 ORDER BY note DESC LIMIT 20\")"
   ]
  },
  {
   "cell_type": "code",
   "execution_count": 110,
   "metadata": {},
   "outputs": [
    {
     "name": "stdout",
     "output_type": "stream",
     "text": [
      "2023-01-04 08:22:29,400 INFO sqlalchemy.engine.Engine SELECT * FROM hotel WHERE id = 21 ORDER BY note DESC LIMIT 20\n",
      "2023-01-04 08:22:29,401 INFO sqlalchemy.engine.Engine [generated in 0.00091s] ()\n",
      "2023-01-04 08:22:29,404 INFO sqlalchemy.engine.Engine SELECT * FROM hotel WHERE id = 20 ORDER BY note DESC LIMIT 20\n",
      "2023-01-04 08:22:29,405 INFO sqlalchemy.engine.Engine [generated in 0.00096s] ()\n",
      "2023-01-04 08:22:29,407 INFO sqlalchemy.engine.Engine SELECT * FROM hotel WHERE id = 35 ORDER BY note DESC LIMIT 20\n",
      "2023-01-04 08:22:29,408 INFO sqlalchemy.engine.Engine [generated in 0.00083s] ()\n",
      "2023-01-04 08:22:29,410 INFO sqlalchemy.engine.Engine SELECT * FROM hotel WHERE id = 2 ORDER BY note DESC LIMIT 20\n",
      "2023-01-04 08:22:29,411 INFO sqlalchemy.engine.Engine [generated in 0.00056s] ()\n",
      "2023-01-04 08:22:29,413 INFO sqlalchemy.engine.Engine SELECT * FROM hotel WHERE id = 1 ORDER BY note DESC LIMIT 20\n",
      "2023-01-04 08:22:29,413 INFO sqlalchemy.engine.Engine [generated in 0.00055s] ()\n",
      "2023-01-04 08:22:29,416 INFO sqlalchemy.engine.Engine SELECT * FROM temps ORDER BY moyenne DESC LIMIT 25\n",
      "2023-01-04 08:22:29,417 INFO sqlalchemy.engine.Engine [generated in 0.00085s] ()\n"
     ]
    }
   ],
   "source": [
    "# Récupération sous forme de dataframe pour visualisation\n",
    "hotel_1 = pd.read_sql_query(hotel_1, conn)\n",
    "hotel_2 = pd.read_sql_query(hotel_2, conn)\n",
    "hotel_3 = pd.read_sql_query(hotel_3, conn)\n",
    "hotel_4 = pd.read_sql_query(hotel_4, conn)\n",
    "hotel_5 = pd.read_sql_query(hotel_5, conn)\n",
    "hotel_viz = pd.concat([hotel_1,hotel_2,hotel_3,hotel_4,hotel_5], ignore_index=False)\n",
    "ville_viz = pd.read_sql_query(ville, conn)"
   ]
  },
  {
   "attachments": {},
   "cell_type": "markdown",
   "metadata": {},
   "source": [
    "## Visualisation"
   ]
  },
  {
   "cell_type": "code",
   "execution_count": 111,
   "metadata": {},
   "outputs": [
    {
     "data": {
      "application/vnd.plotly.v1+json": {
       "config": {
        "plotlyServerURL": "https://plot.ly"
       },
       "data": [
        {
         "customdata": [
          [
           43.2961743,
           5.3699525,
           12.39
          ],
          [
           43.2140359,
           5.5396318,
           12.18
          ],
          [
           46.1591126,
           -1.1520434,
           11.81
          ],
          [
           48.649518,
           -2.0260409,
           11.61
          ],
          [
           48.6355232,
           -1.5102571,
           11.33
          ]
         ],
         "hovertemplate": "<b>%{hovertext}</b><br><br>jour=1<br>temperature=%{marker.color}<br>moyenne=%{customdata[2]}<extra></extra>",
         "hovertext": [
          "Toulouse Rive Gauche, Toulouse",
          "Montauban",
          "7e arr., Lyon",
          "Intra muros, Saint-Malo",
          "Le Mont-Saint-Michel"
         ],
         "lat": [
          43.2961743,
          43.2140359,
          46.1591126,
          48.649518,
          48.6355232
         ],
         "legendgroup": "",
         "lon": [
          5.3699525,
          5.5396318,
          -1.1520434,
          -2.0260409,
          -1.5102571
         ],
         "marker": {
          "color": [
           12.64,
           12.94,
           12.04,
           12.64,
           12.34
          ],
          "coloraxis": "coloraxis",
          "size": [
           12.64,
           12.94,
           12.04,
           12.64,
           12.34
          ],
          "sizemode": "area",
          "sizeref": 0.014822222222222223
         },
         "mode": "markers",
         "name": "",
         "showlegend": false,
         "subplot": "mapbox",
         "type": "scattermapbox"
        }
       ],
       "frames": [
        {
         "data": [
          {
           "customdata": [
            [
             43.2961743,
             5.3699525,
             12.39
            ],
            [
             43.2140359,
             5.5396318,
             12.18
            ],
            [
             46.1591126,
             -1.1520434,
             11.81
            ],
            [
             48.649518,
             -2.0260409,
             11.61
            ],
            [
             48.6355232,
             -1.5102571,
             11.33
            ]
           ],
           "hovertemplate": "<b>%{hovertext}</b><br><br>jour=1<br>temperature=%{marker.color}<br>moyenne=%{customdata[2]}<extra></extra>",
           "hovertext": [
            "Toulouse Rive Gauche, Toulouse",
            "Montauban",
            "7e arr., Lyon",
            "Intra muros, Saint-Malo",
            "Le Mont-Saint-Michel"
           ],
           "lat": [
            43.2961743,
            43.2140359,
            46.1591126,
            48.649518,
            48.6355232
           ],
           "legendgroup": "",
           "lon": [
            5.3699525,
            5.5396318,
            -1.1520434,
            -2.0260409,
            -1.5102571
           ],
           "marker": {
            "color": [
             12.64,
             12.94,
             12.04,
             12.64,
             12.34
            ],
            "coloraxis": "coloraxis",
            "size": [
             12.64,
             12.94,
             12.04,
             12.64,
             12.34
            ],
            "sizemode": "area",
            "sizeref": 0.014822222222222223
           },
           "mode": "markers",
           "name": "",
           "showlegend": false,
           "subplot": "mapbox",
           "type": "scattermapbox"
          }
         ],
         "name": "1"
        },
        {
         "data": [
          {
           "customdata": [
            [
             43.2961743,
             5.3699525,
             12.39
            ],
            [
             43.2140359,
             5.5396318,
             12.18
            ],
            [
             46.1591126,
             -1.1520434,
             11.81
            ],
            [
             48.649518,
             -2.0260409,
             11.61
            ],
            [
             48.6355232,
             -1.5102571,
             11.33
            ]
           ],
           "hovertemplate": "<b>%{hovertext}</b><br><br>jour=2<br>temperature=%{marker.color}<br>moyenne=%{customdata[2]}<extra></extra>",
           "hovertext": [
            "Toulouse Rive Gauche, Toulouse",
            "Montauban",
            "7e arr., Lyon",
            "Intra muros, Saint-Malo",
            "Le Mont-Saint-Michel"
           ],
           "lat": [
            43.2961743,
            43.2140359,
            46.1591126,
            48.649518,
            48.6355232
           ],
           "legendgroup": "",
           "lon": [
            5.3699525,
            5.5396318,
            -1.1520434,
            -2.0260409,
            -1.5102571
           ],
           "marker": {
            "color": [
             11.58,
             11.62,
             12.71,
             12.19,
             12.43
            ],
            "coloraxis": "coloraxis",
            "size": [
             11.58,
             11.62,
             12.71,
             12.19,
             12.43
            ],
            "sizemode": "area",
            "sizeref": 0.014822222222222223
           },
           "mode": "markers",
           "name": "",
           "showlegend": false,
           "subplot": "mapbox",
           "type": "scattermapbox"
          }
         ],
         "name": "2"
        },
        {
         "data": [
          {
           "customdata": [
            [
             43.2961743,
             5.3699525,
             12.39
            ],
            [
             43.2140359,
             5.5396318,
             12.18
            ],
            [
             46.1591126,
             -1.1520434,
             11.81
            ],
            [
             48.649518,
             -2.0260409,
             11.61
            ],
            [
             48.6355232,
             -1.5102571,
             11.33
            ]
           ],
           "hovertemplate": "<b>%{hovertext}</b><br><br>jour=3<br>temperature=%{marker.color}<br>moyenne=%{customdata[2]}<extra></extra>",
           "hovertext": [
            "Toulouse Rive Gauche, Toulouse",
            "Montauban",
            "7e arr., Lyon",
            "Intra muros, Saint-Malo",
            "Le Mont-Saint-Michel"
           ],
           "lat": [
            43.2961743,
            43.2140359,
            46.1591126,
            48.649518,
            48.6355232
           ],
           "legendgroup": "",
           "lon": [
            5.3699525,
            5.5396318,
            -1.1520434,
            -2.0260409,
            -1.5102571
           ],
           "marker": {
            "color": [
             12.22,
             11.59,
             12.54,
             11.7,
             11.24
            ],
            "coloraxis": "coloraxis",
            "size": [
             12.22,
             11.59,
             12.54,
             11.7,
             11.24
            ],
            "sizemode": "area",
            "sizeref": 0.014822222222222223
           },
           "mode": "markers",
           "name": "",
           "showlegend": false,
           "subplot": "mapbox",
           "type": "scattermapbox"
          }
         ],
         "name": "3"
        },
        {
         "data": [
          {
           "customdata": [
            [
             43.2961743,
             5.3699525,
             12.39
            ],
            [
             43.2140359,
             5.5396318,
             12.18
            ],
            [
             46.1591126,
             -1.1520434,
             11.81
            ],
            [
             48.649518,
             -2.0260409,
             11.61
            ],
            [
             48.6355232,
             -1.5102571,
             11.33
            ]
           ],
           "hovertemplate": "<b>%{hovertext}</b><br><br>jour=4<br>temperature=%{marker.color}<br>moyenne=%{customdata[2]}<extra></extra>",
           "hovertext": [
            "Toulouse Rive Gauche, Toulouse",
            "Montauban",
            "7e arr., Lyon",
            "Intra muros, Saint-Malo",
            "Le Mont-Saint-Michel"
           ],
           "lat": [
            43.2961743,
            43.2140359,
            46.1591126,
            48.649518,
            48.6355232
           ],
           "legendgroup": "",
           "lon": [
            5.3699525,
            5.5396318,
            -1.1520434,
            -2.0260409,
            -1.5102571
           ],
           "marker": {
            "color": [
             12.17,
             11.64,
             10.15,
             11.66,
             11.02
            ],
            "coloraxis": "coloraxis",
            "size": [
             12.17,
             11.64,
             10.15,
             11.66,
             11.02
            ],
            "sizemode": "area",
            "sizeref": 0.014822222222222223
           },
           "mode": "markers",
           "name": "",
           "showlegend": false,
           "subplot": "mapbox",
           "type": "scattermapbox"
          }
         ],
         "name": "4"
        },
        {
         "data": [
          {
           "customdata": [
            [
             43.2961743,
             5.3699525,
             12.39
            ],
            [
             43.2140359,
             5.5396318,
             12.18
            ],
            [
             46.1591126,
             -1.1520434,
             11.81
            ],
            [
             48.649518,
             -2.0260409,
             11.61
            ],
            [
             48.6355232,
             -1.5102571,
             11.33
            ]
           ],
           "hovertemplate": "<b>%{hovertext}</b><br><br>jour=5<br>temperature=%{marker.color}<br>moyenne=%{customdata[2]}<extra></extra>",
           "hovertext": [
            "Toulouse Rive Gauche, Toulouse",
            "Montauban",
            "7e arr., Lyon",
            "Intra muros, Saint-Malo",
            "Le Mont-Saint-Michel"
           ],
           "lat": [
            43.2961743,
            43.2140359,
            46.1591126,
            48.649518,
            48.6355232
           ],
           "legendgroup": "",
           "lon": [
            5.3699525,
            5.5396318,
            -1.1520434,
            -2.0260409,
            -1.5102571
           ],
           "marker": {
            "color": [
             13.34,
             13.12,
             11.62,
             9.86,
             9.62
            ],
            "coloraxis": "coloraxis",
            "size": [
             13.34,
             13.12,
             11.62,
             9.86,
             9.62
            ],
            "sizemode": "area",
            "sizeref": 0.014822222222222223
           },
           "mode": "markers",
           "name": "",
           "showlegend": false,
           "subplot": "mapbox",
           "type": "scattermapbox"
          }
         ],
         "name": "5"
        }
       ],
       "layout": {
        "coloraxis": {
         "colorbar": {
          "title": {
           "text": "temperature"
          }
         },
         "colorscale": [
          [
           0,
           "rgb(0,0,255)"
          ],
          [
           0.1,
           "rgb(51,153,255)"
          ],
          [
           0.2,
           "rgb(102,204,255)"
          ],
          [
           0.3,
           "rgb(153,204,255)"
          ],
          [
           0.4,
           "rgb(204,204,255)"
          ],
          [
           0.5,
           "rgb(255,255,255)"
          ],
          [
           0.6,
           "rgb(255,204,255)"
          ],
          [
           0.7,
           "rgb(255,153,255)"
          ],
          [
           0.8,
           "rgb(255,102,204)"
          ],
          [
           0.9,
           "rgb(255,102,102)"
          ],
          [
           1,
           "rgb(255,0,0)"
          ]
         ]
        },
        "height": 800,
        "legend": {
         "itemsizing": "constant",
         "tracegroupgap": 0
        },
        "mapbox": {
         "accesstoken": "pk.eyJ1IjoiamVyZW15cGhpbGlwcGUiLCJhIjoiY2xhdjk2eTBhMDNlcTN5bzVydGlhdGxtbiJ9.CgHMMQHo-NrFGr33i_FPOg",
         "center": {
          "lat": 45.990872800000005,
          "lon": 1.24424858
         },
         "domain": {
          "x": [
           0,
           1
          ],
          "y": [
           0,
           1
          ]
         },
         "zoom": 4.7
        },
        "margin": {
         "t": 60
        },
        "sliders": [
         {
          "active": 0,
          "currentvalue": {
           "prefix": "jour="
          },
          "len": 0.9,
          "pad": {
           "b": 10,
           "t": 60
          },
          "steps": [
           {
            "args": [
             [
              "1"
             ],
             {
              "frame": {
               "duration": 0,
               "redraw": true
              },
              "fromcurrent": true,
              "mode": "immediate",
              "transition": {
               "duration": 0,
               "easing": "linear"
              }
             }
            ],
            "label": "1",
            "method": "animate"
           },
           {
            "args": [
             [
              "2"
             ],
             {
              "frame": {
               "duration": 0,
               "redraw": true
              },
              "fromcurrent": true,
              "mode": "immediate",
              "transition": {
               "duration": 0,
               "easing": "linear"
              }
             }
            ],
            "label": "2",
            "method": "animate"
           },
           {
            "args": [
             [
              "3"
             ],
             {
              "frame": {
               "duration": 0,
               "redraw": true
              },
              "fromcurrent": true,
              "mode": "immediate",
              "transition": {
               "duration": 0,
               "easing": "linear"
              }
             }
            ],
            "label": "3",
            "method": "animate"
           },
           {
            "args": [
             [
              "4"
             ],
             {
              "frame": {
               "duration": 0,
               "redraw": true
              },
              "fromcurrent": true,
              "mode": "immediate",
              "transition": {
               "duration": 0,
               "easing": "linear"
              }
             }
            ],
            "label": "4",
            "method": "animate"
           },
           {
            "args": [
             [
              "5"
             ],
             {
              "frame": {
               "duration": 0,
               "redraw": true
              },
              "fromcurrent": true,
              "mode": "immediate",
              "transition": {
               "duration": 0,
               "easing": "linear"
              }
             }
            ],
            "label": "5",
            "method": "animate"
           }
          ],
          "x": 0.1,
          "xanchor": "left",
          "y": 0,
          "yanchor": "top"
         }
        ],
        "template": {
         "data": {
          "bar": [
           {
            "error_x": {
             "color": "#f2f5fa"
            },
            "error_y": {
             "color": "#f2f5fa"
            },
            "marker": {
             "line": {
              "color": "rgb(17,17,17)",
              "width": 0.5
             },
             "pattern": {
              "fillmode": "overlay",
              "size": 10,
              "solidity": 0.2
             }
            },
            "type": "bar"
           }
          ],
          "barpolar": [
           {
            "marker": {
             "line": {
              "color": "rgb(17,17,17)",
              "width": 0.5
             },
             "pattern": {
              "fillmode": "overlay",
              "size": 10,
              "solidity": 0.2
             }
            },
            "type": "barpolar"
           }
          ],
          "carpet": [
           {
            "aaxis": {
             "endlinecolor": "#A2B1C6",
             "gridcolor": "#506784",
             "linecolor": "#506784",
             "minorgridcolor": "#506784",
             "startlinecolor": "#A2B1C6"
            },
            "baxis": {
             "endlinecolor": "#A2B1C6",
             "gridcolor": "#506784",
             "linecolor": "#506784",
             "minorgridcolor": "#506784",
             "startlinecolor": "#A2B1C6"
            },
            "type": "carpet"
           }
          ],
          "choropleth": [
           {
            "colorbar": {
             "outlinewidth": 0,
             "ticks": ""
            },
            "type": "choropleth"
           }
          ],
          "contour": [
           {
            "colorbar": {
             "outlinewidth": 0,
             "ticks": ""
            },
            "colorscale": [
             [
              0,
              "#0d0887"
             ],
             [
              0.1111111111111111,
              "#46039f"
             ],
             [
              0.2222222222222222,
              "#7201a8"
             ],
             [
              0.3333333333333333,
              "#9c179e"
             ],
             [
              0.4444444444444444,
              "#bd3786"
             ],
             [
              0.5555555555555556,
              "#d8576b"
             ],
             [
              0.6666666666666666,
              "#ed7953"
             ],
             [
              0.7777777777777778,
              "#fb9f3a"
             ],
             [
              0.8888888888888888,
              "#fdca26"
             ],
             [
              1,
              "#f0f921"
             ]
            ],
            "type": "contour"
           }
          ],
          "contourcarpet": [
           {
            "colorbar": {
             "outlinewidth": 0,
             "ticks": ""
            },
            "type": "contourcarpet"
           }
          ],
          "heatmap": [
           {
            "colorbar": {
             "outlinewidth": 0,
             "ticks": ""
            },
            "colorscale": [
             [
              0,
              "#0d0887"
             ],
             [
              0.1111111111111111,
              "#46039f"
             ],
             [
              0.2222222222222222,
              "#7201a8"
             ],
             [
              0.3333333333333333,
              "#9c179e"
             ],
             [
              0.4444444444444444,
              "#bd3786"
             ],
             [
              0.5555555555555556,
              "#d8576b"
             ],
             [
              0.6666666666666666,
              "#ed7953"
             ],
             [
              0.7777777777777778,
              "#fb9f3a"
             ],
             [
              0.8888888888888888,
              "#fdca26"
             ],
             [
              1,
              "#f0f921"
             ]
            ],
            "type": "heatmap"
           }
          ],
          "heatmapgl": [
           {
            "colorbar": {
             "outlinewidth": 0,
             "ticks": ""
            },
            "colorscale": [
             [
              0,
              "#0d0887"
             ],
             [
              0.1111111111111111,
              "#46039f"
             ],
             [
              0.2222222222222222,
              "#7201a8"
             ],
             [
              0.3333333333333333,
              "#9c179e"
             ],
             [
              0.4444444444444444,
              "#bd3786"
             ],
             [
              0.5555555555555556,
              "#d8576b"
             ],
             [
              0.6666666666666666,
              "#ed7953"
             ],
             [
              0.7777777777777778,
              "#fb9f3a"
             ],
             [
              0.8888888888888888,
              "#fdca26"
             ],
             [
              1,
              "#f0f921"
             ]
            ],
            "type": "heatmapgl"
           }
          ],
          "histogram": [
           {
            "marker": {
             "pattern": {
              "fillmode": "overlay",
              "size": 10,
              "solidity": 0.2
             }
            },
            "type": "histogram"
           }
          ],
          "histogram2d": [
           {
            "colorbar": {
             "outlinewidth": 0,
             "ticks": ""
            },
            "colorscale": [
             [
              0,
              "#0d0887"
             ],
             [
              0.1111111111111111,
              "#46039f"
             ],
             [
              0.2222222222222222,
              "#7201a8"
             ],
             [
              0.3333333333333333,
              "#9c179e"
             ],
             [
              0.4444444444444444,
              "#bd3786"
             ],
             [
              0.5555555555555556,
              "#d8576b"
             ],
             [
              0.6666666666666666,
              "#ed7953"
             ],
             [
              0.7777777777777778,
              "#fb9f3a"
             ],
             [
              0.8888888888888888,
              "#fdca26"
             ],
             [
              1,
              "#f0f921"
             ]
            ],
            "type": "histogram2d"
           }
          ],
          "histogram2dcontour": [
           {
            "colorbar": {
             "outlinewidth": 0,
             "ticks": ""
            },
            "colorscale": [
             [
              0,
              "#0d0887"
             ],
             [
              0.1111111111111111,
              "#46039f"
             ],
             [
              0.2222222222222222,
              "#7201a8"
             ],
             [
              0.3333333333333333,
              "#9c179e"
             ],
             [
              0.4444444444444444,
              "#bd3786"
             ],
             [
              0.5555555555555556,
              "#d8576b"
             ],
             [
              0.6666666666666666,
              "#ed7953"
             ],
             [
              0.7777777777777778,
              "#fb9f3a"
             ],
             [
              0.8888888888888888,
              "#fdca26"
             ],
             [
              1,
              "#f0f921"
             ]
            ],
            "type": "histogram2dcontour"
           }
          ],
          "mesh3d": [
           {
            "colorbar": {
             "outlinewidth": 0,
             "ticks": ""
            },
            "type": "mesh3d"
           }
          ],
          "parcoords": [
           {
            "line": {
             "colorbar": {
              "outlinewidth": 0,
              "ticks": ""
             }
            },
            "type": "parcoords"
           }
          ],
          "pie": [
           {
            "automargin": true,
            "type": "pie"
           }
          ],
          "scatter": [
           {
            "marker": {
             "line": {
              "color": "#283442"
             }
            },
            "type": "scatter"
           }
          ],
          "scatter3d": [
           {
            "line": {
             "colorbar": {
              "outlinewidth": 0,
              "ticks": ""
             }
            },
            "marker": {
             "colorbar": {
              "outlinewidth": 0,
              "ticks": ""
             }
            },
            "type": "scatter3d"
           }
          ],
          "scattercarpet": [
           {
            "marker": {
             "colorbar": {
              "outlinewidth": 0,
              "ticks": ""
             }
            },
            "type": "scattercarpet"
           }
          ],
          "scattergeo": [
           {
            "marker": {
             "colorbar": {
              "outlinewidth": 0,
              "ticks": ""
             }
            },
            "type": "scattergeo"
           }
          ],
          "scattergl": [
           {
            "marker": {
             "line": {
              "color": "#283442"
             }
            },
            "type": "scattergl"
           }
          ],
          "scattermapbox": [
           {
            "marker": {
             "colorbar": {
              "outlinewidth": 0,
              "ticks": ""
             }
            },
            "type": "scattermapbox"
           }
          ],
          "scatterpolar": [
           {
            "marker": {
             "colorbar": {
              "outlinewidth": 0,
              "ticks": ""
             }
            },
            "type": "scatterpolar"
           }
          ],
          "scatterpolargl": [
           {
            "marker": {
             "colorbar": {
              "outlinewidth": 0,
              "ticks": ""
             }
            },
            "type": "scatterpolargl"
           }
          ],
          "scatterternary": [
           {
            "marker": {
             "colorbar": {
              "outlinewidth": 0,
              "ticks": ""
             }
            },
            "type": "scatterternary"
           }
          ],
          "surface": [
           {
            "colorbar": {
             "outlinewidth": 0,
             "ticks": ""
            },
            "colorscale": [
             [
              0,
              "#0d0887"
             ],
             [
              0.1111111111111111,
              "#46039f"
             ],
             [
              0.2222222222222222,
              "#7201a8"
             ],
             [
              0.3333333333333333,
              "#9c179e"
             ],
             [
              0.4444444444444444,
              "#bd3786"
             ],
             [
              0.5555555555555556,
              "#d8576b"
             ],
             [
              0.6666666666666666,
              "#ed7953"
             ],
             [
              0.7777777777777778,
              "#fb9f3a"
             ],
             [
              0.8888888888888888,
              "#fdca26"
             ],
             [
              1,
              "#f0f921"
             ]
            ],
            "type": "surface"
           }
          ],
          "table": [
           {
            "cells": {
             "fill": {
              "color": "#506784"
             },
             "line": {
              "color": "rgb(17,17,17)"
             }
            },
            "header": {
             "fill": {
              "color": "#2a3f5f"
             },
             "line": {
              "color": "rgb(17,17,17)"
             }
            },
            "type": "table"
           }
          ]
         },
         "layout": {
          "annotationdefaults": {
           "arrowcolor": "#f2f5fa",
           "arrowhead": 0,
           "arrowwidth": 1
          },
          "autotypenumbers": "strict",
          "coloraxis": {
           "colorbar": {
            "outlinewidth": 0,
            "ticks": ""
           }
          },
          "colorscale": {
           "diverging": [
            [
             0,
             "#8e0152"
            ],
            [
             0.1,
             "#c51b7d"
            ],
            [
             0.2,
             "#de77ae"
            ],
            [
             0.3,
             "#f1b6da"
            ],
            [
             0.4,
             "#fde0ef"
            ],
            [
             0.5,
             "#f7f7f7"
            ],
            [
             0.6,
             "#e6f5d0"
            ],
            [
             0.7,
             "#b8e186"
            ],
            [
             0.8,
             "#7fbc41"
            ],
            [
             0.9,
             "#4d9221"
            ],
            [
             1,
             "#276419"
            ]
           ],
           "sequential": [
            [
             0,
             "#0d0887"
            ],
            [
             0.1111111111111111,
             "#46039f"
            ],
            [
             0.2222222222222222,
             "#7201a8"
            ],
            [
             0.3333333333333333,
             "#9c179e"
            ],
            [
             0.4444444444444444,
             "#bd3786"
            ],
            [
             0.5555555555555556,
             "#d8576b"
            ],
            [
             0.6666666666666666,
             "#ed7953"
            ],
            [
             0.7777777777777778,
             "#fb9f3a"
            ],
            [
             0.8888888888888888,
             "#fdca26"
            ],
            [
             1,
             "#f0f921"
            ]
           ],
           "sequentialminus": [
            [
             0,
             "#0d0887"
            ],
            [
             0.1111111111111111,
             "#46039f"
            ],
            [
             0.2222222222222222,
             "#7201a8"
            ],
            [
             0.3333333333333333,
             "#9c179e"
            ],
            [
             0.4444444444444444,
             "#bd3786"
            ],
            [
             0.5555555555555556,
             "#d8576b"
            ],
            [
             0.6666666666666666,
             "#ed7953"
            ],
            [
             0.7777777777777778,
             "#fb9f3a"
            ],
            [
             0.8888888888888888,
             "#fdca26"
            ],
            [
             1,
             "#f0f921"
            ]
           ]
          },
          "colorway": [
           "#636efa",
           "#EF553B",
           "#00cc96",
           "#ab63fa",
           "#FFA15A",
           "#19d3f3",
           "#FF6692",
           "#B6E880",
           "#FF97FF",
           "#FECB52"
          ],
          "font": {
           "color": "#f2f5fa"
          },
          "geo": {
           "bgcolor": "rgb(17,17,17)",
           "lakecolor": "rgb(17,17,17)",
           "landcolor": "rgb(17,17,17)",
           "showlakes": true,
           "showland": true,
           "subunitcolor": "#506784"
          },
          "hoverlabel": {
           "align": "left"
          },
          "hovermode": "closest",
          "mapbox": {
           "style": "dark"
          },
          "paper_bgcolor": "rgb(17,17,17)",
          "plot_bgcolor": "rgb(17,17,17)",
          "polar": {
           "angularaxis": {
            "gridcolor": "#506784",
            "linecolor": "#506784",
            "ticks": ""
           },
           "bgcolor": "rgb(17,17,17)",
           "radialaxis": {
            "gridcolor": "#506784",
            "linecolor": "#506784",
            "ticks": ""
           }
          },
          "scene": {
           "xaxis": {
            "backgroundcolor": "rgb(17,17,17)",
            "gridcolor": "#506784",
            "gridwidth": 2,
            "linecolor": "#506784",
            "showbackground": true,
            "ticks": "",
            "zerolinecolor": "#C8D4E3"
           },
           "yaxis": {
            "backgroundcolor": "rgb(17,17,17)",
            "gridcolor": "#506784",
            "gridwidth": 2,
            "linecolor": "#506784",
            "showbackground": true,
            "ticks": "",
            "zerolinecolor": "#C8D4E3"
           },
           "zaxis": {
            "backgroundcolor": "rgb(17,17,17)",
            "gridcolor": "#506784",
            "gridwidth": 2,
            "linecolor": "#506784",
            "showbackground": true,
            "ticks": "",
            "zerolinecolor": "#C8D4E3"
           }
          },
          "shapedefaults": {
           "line": {
            "color": "#f2f5fa"
           }
          },
          "sliderdefaults": {
           "bgcolor": "#C8D4E3",
           "bordercolor": "rgb(17,17,17)",
           "borderwidth": 1,
           "tickwidth": 0
          },
          "ternary": {
           "aaxis": {
            "gridcolor": "#506784",
            "linecolor": "#506784",
            "ticks": ""
           },
           "baxis": {
            "gridcolor": "#506784",
            "linecolor": "#506784",
            "ticks": ""
           },
           "bgcolor": "rgb(17,17,17)",
           "caxis": {
            "gridcolor": "#506784",
            "linecolor": "#506784",
            "ticks": ""
           }
          },
          "title": {
           "x": 0.05
          },
          "updatemenudefaults": {
           "bgcolor": "#506784",
           "borderwidth": 0
          },
          "xaxis": {
           "automargin": true,
           "gridcolor": "#283442",
           "linecolor": "#506784",
           "ticks": "",
           "title": {
            "standoff": 15
           },
           "zerolinecolor": "#283442",
           "zerolinewidth": 2
          },
          "yaxis": {
           "automargin": true,
           "gridcolor": "#283442",
           "linecolor": "#506784",
           "ticks": "",
           "title": {
            "standoff": 15
           },
           "zerolinecolor": "#283442",
           "zerolinewidth": 2
          }
         }
        },
        "title": {
         "text": "Les 5 meilleurs ville sur un moyenne de température"
        },
        "updatemenus": [
         {
          "buttons": [
           {
            "args": [
             null,
             {
              "frame": {
               "duration": 500,
               "redraw": true
              },
              "fromcurrent": true,
              "mode": "immediate",
              "transition": {
               "duration": 500,
               "easing": "linear"
              }
             }
            ],
            "label": "&#9654;",
            "method": "animate"
           },
           {
            "args": [
             [
              null
             ],
             {
              "frame": {
               "duration": 0,
               "redraw": true
              },
              "fromcurrent": true,
              "mode": "immediate",
              "transition": {
               "duration": 0,
               "easing": "linear"
              }
             }
            ],
            "label": "&#9724;",
            "method": "animate"
           }
          ],
          "direction": "left",
          "pad": {
           "r": 10,
           "t": 70
          },
          "showactive": false,
          "type": "buttons",
          "x": 0.1,
          "xanchor": "right",
          "y": 0,
          "yanchor": "top"
         }
        ],
        "width": 1500
       }
      }
     },
     "metadata": {},
     "output_type": "display_data"
    }
   ],
   "source": [
    "px.set_mapbox_access_token(open(\".mapbox_token\").read())\n",
    "fig = px.scatter_mapbox(\n",
    "    ville_viz,\n",
    "    lat='lat',\n",
    "    lon='long',\n",
    "    color='temperature',\n",
    "    size='temperature',\n",
    "    color_continuous_scale=px.colors.diverging.Picnic,\n",
    "    size_max=30,\n",
    "    zoom=4.7,\n",
    "    hover_name='ville',\n",
    "    hover_data={\n",
    "        'lat': False,\n",
    "        'long': False,\n",
    "        'moyenne': True        \n",
    "        },\n",
    "    animation_frame='jour'\n",
    ")\n",
    "\n",
    "fig.update_layout(width = 1500, height = 800, template='plotly_dark' ,title='Les 5 meilleurs ville sur un moyenne de température')\n",
    "fig.show()"
   ]
  },
  {
   "cell_type": "code",
   "execution_count": 93,
   "metadata": {},
   "outputs": [
    {
     "data": {
      "text/html": [
       "<div>\n",
       "<style scoped>\n",
       "    .dataframe tbody tr th:only-of-type {\n",
       "        vertical-align: middle;\n",
       "    }\n",
       "\n",
       "    .dataframe tbody tr th {\n",
       "        vertical-align: top;\n",
       "    }\n",
       "\n",
       "    .dataframe thead th {\n",
       "        text-align: right;\n",
       "    }\n",
       "</style>\n",
       "<table border=\"1\" class=\"dataframe\">\n",
       "  <thead>\n",
       "    <tr style=\"text-align: right;\">\n",
       "      <th></th>\n",
       "      <th>index</th>\n",
       "      <th>id</th>\n",
       "      <th>ville</th>\n",
       "      <th>hotel</th>\n",
       "      <th>url</th>\n",
       "      <th>note</th>\n",
       "      <th>description</th>\n",
       "      <th>latitutde</th>\n",
       "      <th>longitude</th>\n",
       "    </tr>\n",
       "  </thead>\n",
       "  <tbody>\n",
       "    <tr>\n",
       "      <th>0</th>\n",
       "      <td>511</td>\n",
       "      <td>21</td>\n",
       "      <td>Toulouse Sud-Est, Toulouse</td>\n",
       "      <td>La loge du Minotaure, cosy, parking et bureaux</td>\n",
       "      <td>https://www.booking.com/hotel/fr/59m2-parking-...</td>\n",
       "      <td>9.6</td>\n",
       "      <td>Doté d'une aire de jeux pour enfants et d'une ...</td>\n",
       "      <td>43.575154</td>\n",
       "      <td>1.473728</td>\n",
       "    </tr>\n",
       "    <tr>\n",
       "      <th>1</th>\n",
       "      <td>500</td>\n",
       "      <td>21</td>\n",
       "      <td>Toulouse Rive Gauche, Toulouse</td>\n",
       "      <td>LA CARTOUCHERIE</td>\n",
       "      <td>https://www.booking.com/hotel/fr/la-cartoucher...</td>\n",
       "      <td>9.4</td>\n",
       "      <td>Vous pouvez bénéficier d'une réduction Genius ...</td>\n",
       "      <td>43.601721</td>\n",
       "      <td>1.408088</td>\n",
       "    </tr>\n",
       "    <tr>\n",
       "      <th>2</th>\n",
       "      <td>509</td>\n",
       "      <td>21</td>\n",
       "      <td>Centre de Toulouse, Toulouse</td>\n",
       "      <td>Les Loges des Chalets</td>\n",
       "      <td>https://www.booking.com/hotel/fr/les-loges-des...</td>\n",
       "      <td>9.2</td>\n",
       "      <td>Situé à 5.1 km du Stadium de Toulouse, l'établ...</td>\n",
       "      <td>43.614051</td>\n",
       "      <td>1.447940</td>\n",
       "    </tr>\n",
       "    <tr>\n",
       "      <th>3</th>\n",
       "      <td>514</td>\n",
       "      <td>21</td>\n",
       "      <td>Minimes - Barrière de Paris, Toulouse</td>\n",
       "      <td>Large and modern flat just nearby Ponts-Jumeau...</td>\n",
       "      <td>https://www.booking.com/hotel/fr/large-and-mod...</td>\n",
       "      <td>8.9</td>\n",
       "      <td>Le Large and modern flat just nearby Ponts-Jum...</td>\n",
       "      <td>43.613013</td>\n",
       "      <td>1.421539</td>\n",
       "    </tr>\n",
       "    <tr>\n",
       "      <th>4</th>\n",
       "      <td>503</td>\n",
       "      <td>21</td>\n",
       "      <td>Centre de Toulouse, Toulouse</td>\n",
       "      <td>Le Bonrepos - Appartement 2 chambres clim &amp; pa...</td>\n",
       "      <td>https://www.booking.com/hotel/fr/appartement-d...</td>\n",
       "      <td>8.7</td>\n",
       "      <td>Vous pouvez bénéficier d'une réduction Genius ...</td>\n",
       "      <td>43.609439</td>\n",
       "      <td>1.453500</td>\n",
       "    </tr>\n",
       "    <tr>\n",
       "      <th>...</th>\n",
       "      <td>...</td>\n",
       "      <td>...</td>\n",
       "      <td>...</td>\n",
       "      <td>...</td>\n",
       "      <td>...</td>\n",
       "      <td>...</td>\n",
       "      <td>...</td>\n",
       "      <td>...</td>\n",
       "      <td>...</td>\n",
       "    </tr>\n",
       "    <tr>\n",
       "      <th>15</th>\n",
       "      <td>10</td>\n",
       "      <td>1</td>\n",
       "      <td>Le Mont-Saint-Michel</td>\n",
       "      <td>Le Relais Du Roy</td>\n",
       "      <td>https://www.booking.com/hotel/fr/le-relais-du-...</td>\n",
       "      <td>7.9</td>\n",
       "      <td>Vous pouvez bénéficier d'une réduction Genius ...</td>\n",
       "      <td>48.616263</td>\n",
       "      <td>-1.510906</td>\n",
       "    </tr>\n",
       "    <tr>\n",
       "      <th>16</th>\n",
       "      <td>5</td>\n",
       "      <td>1</td>\n",
       "      <td>Le Mont-Saint-Michel</td>\n",
       "      <td>Le Relais Saint Michel</td>\n",
       "      <td>https://www.booking.com/hotel/fr/le-relais-sai...</td>\n",
       "      <td>7.8</td>\n",
       "      <td>Vous pouvez bénéficier d'une réduction Genius ...</td>\n",
       "      <td>48.617587</td>\n",
       "      <td>-1.510396</td>\n",
       "    </tr>\n",
       "    <tr>\n",
       "      <th>17</th>\n",
       "      <td>13</td>\n",
       "      <td>1</td>\n",
       "      <td>Ardevon</td>\n",
       "      <td>Auberge de la Baie</td>\n",
       "      <td>https://www.booking.com/hotel/fr/auberge-de-la...</td>\n",
       "      <td>7.8</td>\n",
       "      <td>Vous pouvez bénéficier d'une réduction Genius ...</td>\n",
       "      <td>48.615993</td>\n",
       "      <td>-1.488253</td>\n",
       "    </tr>\n",
       "    <tr>\n",
       "      <th>18</th>\n",
       "      <td>12</td>\n",
       "      <td>1</td>\n",
       "      <td>Le Mont-Saint-Michel</td>\n",
       "      <td>Hôtel la Croix Blanche</td>\n",
       "      <td>https://www.booking.com/hotel/fr/ha-el-la-croi...</td>\n",
       "      <td>7.6</td>\n",
       "      <td>Situé au cœur du village médiéval du Mont-Sain...</td>\n",
       "      <td>48.635734</td>\n",
       "      <td>-1.509861</td>\n",
       "    </tr>\n",
       "    <tr>\n",
       "      <th>19</th>\n",
       "      <td>4</td>\n",
       "      <td>1</td>\n",
       "      <td>Le Mont-Saint-Michel</td>\n",
       "      <td>Les Terrasses Poulard</td>\n",
       "      <td>https://www.booking.com/hotel/fr/les-terrasses...</td>\n",
       "      <td>7.3</td>\n",
       "      <td>Vous pouvez bénéficier d'une réduction Genius ...</td>\n",
       "      <td>48.635349</td>\n",
       "      <td>-1.510379</td>\n",
       "    </tr>\n",
       "  </tbody>\n",
       "</table>\n",
       "<p>100 rows × 9 columns</p>\n",
       "</div>"
      ],
      "text/plain": [
       "    index  id                                  ville  \\\n",
       "0     511  21             Toulouse Sud-Est, Toulouse   \n",
       "1     500  21         Toulouse Rive Gauche, Toulouse   \n",
       "2     509  21           Centre de Toulouse, Toulouse   \n",
       "3     514  21  Minimes - Barrière de Paris, Toulouse   \n",
       "4     503  21           Centre de Toulouse, Toulouse   \n",
       "..    ...  ..                                    ...   \n",
       "15     10   1                   Le Mont-Saint-Michel   \n",
       "16      5   1                   Le Mont-Saint-Michel   \n",
       "17     13   1                                Ardevon   \n",
       "18     12   1                   Le Mont-Saint-Michel   \n",
       "19      4   1                   Le Mont-Saint-Michel   \n",
       "\n",
       "                                                hotel  \\\n",
       "0      La loge du Minotaure, cosy, parking et bureaux   \n",
       "1                                     LA CARTOUCHERIE   \n",
       "2                               Les Loges des Chalets   \n",
       "3   Large and modern flat just nearby Ponts-Jumeau...   \n",
       "4   Le Bonrepos - Appartement 2 chambres clim & pa...   \n",
       "..                                                ...   \n",
       "15                                   Le Relais Du Roy   \n",
       "16                             Le Relais Saint Michel   \n",
       "17                                 Auberge de la Baie   \n",
       "18                             Hôtel la Croix Blanche   \n",
       "19                              Les Terrasses Poulard   \n",
       "\n",
       "                                                  url note  \\\n",
       "0   https://www.booking.com/hotel/fr/59m2-parking-...  9.6   \n",
       "1   https://www.booking.com/hotel/fr/la-cartoucher...  9.4   \n",
       "2   https://www.booking.com/hotel/fr/les-loges-des...  9.2   \n",
       "3   https://www.booking.com/hotel/fr/large-and-mod...  8.9   \n",
       "4   https://www.booking.com/hotel/fr/appartement-d...  8.7   \n",
       "..                                                ...  ...   \n",
       "15  https://www.booking.com/hotel/fr/le-relais-du-...  7.9   \n",
       "16  https://www.booking.com/hotel/fr/le-relais-sai...  7.8   \n",
       "17  https://www.booking.com/hotel/fr/auberge-de-la...  7.8   \n",
       "18  https://www.booking.com/hotel/fr/ha-el-la-croi...  7.6   \n",
       "19  https://www.booking.com/hotel/fr/les-terrasses...  7.3   \n",
       "\n",
       "                                          description  latitutde  longitude  \n",
       "0   Doté d'une aire de jeux pour enfants et d'une ...  43.575154   1.473728  \n",
       "1   Vous pouvez bénéficier d'une réduction Genius ...  43.601721   1.408088  \n",
       "2   Situé à 5.1 km du Stadium de Toulouse, l'établ...  43.614051   1.447940  \n",
       "3   Le Large and modern flat just nearby Ponts-Jum...  43.613013   1.421539  \n",
       "4   Vous pouvez bénéficier d'une réduction Genius ...  43.609439   1.453500  \n",
       "..                                                ...        ...        ...  \n",
       "15  Vous pouvez bénéficier d'une réduction Genius ...  48.616263  -1.510906  \n",
       "16  Vous pouvez bénéficier d'une réduction Genius ...  48.617587  -1.510396  \n",
       "17  Vous pouvez bénéficier d'une réduction Genius ...  48.615993  -1.488253  \n",
       "18  Situé au cœur du village médiéval du Mont-Sain...  48.635734  -1.509861  \n",
       "19  Vous pouvez bénéficier d'une réduction Genius ...  48.635349  -1.510379  \n",
       "\n",
       "[100 rows x 9 columns]"
      ]
     },
     "execution_count": 93,
     "metadata": {},
     "output_type": "execute_result"
    }
   ],
   "source": [
    "hotel_viz"
   ]
  },
  {
   "cell_type": "code",
   "execution_count": 113,
   "metadata": {},
   "outputs": [
    {
     "data": {
      "application/vnd.plotly.v1+json": {
       "config": {
        "plotlyServerURL": "https://plot.ly"
       },
       "data": [
        {
         "customdata": [
          [
           43.57515409,
           1.47372821,
           "La loge du Minotaure, cosy, parking et bureaux",
           9.6
          ],
          [
           43.6017215,
           1.4080879,
           "LA CARTOUCHERIE",
           9.4
          ],
          [
           43.61405143,
           1.44794021,
           "Les Loges des Chalets",
           9.2
          ],
          [
           43.6130132,
           1.4215387,
           "Large and modern flat just nearby Ponts-Jumeaux in Toulouse - Welkeys",
           8.9
          ],
          [
           43.6094387,
           1.4534998,
           "Le Bonrepos - Appartement 2 chambres clim & parking",
           8.7
          ],
          [
           43.6090789,
           1.4274835,
           "Odalys City Toulouse Centre Compans Caffarelli",
           8.6
          ],
          [
           43.610053,
           1.43037,
           "The Social Hub Toulouse",
           8.5
          ],
          [
           43.59794395,
           1.44384022,
           "❤️ Charmant appart ancien rénové place des Carmes",
           8.4
          ],
          [
           43.5938049,
           1.41036384,
           "Residhome Toulouse Occitania",
           8.3
          ],
          [
           43.58985915,
           1.45291235,
           "Calme appart rénové Jardin des Plantes Busca",
           8.3
          ],
          [
           43.60681004,
           1.39372945,
           "Campanile Toulouse Purpan",
           8.2
          ],
          [
           43.60332861,
           1.44823596,
           "Mercure Toulouse Centre Saint-Georges",
           8
          ],
          [
           43.61194052,
           1.45180665,
           "Néméa Appart'Hôtel Résidence Concorde",
           7.9
          ],
          [
           43.58763592,
           1.44667894,
           "Lagrange Aparthotel Toulouse Saint-Michel",
           7.8
          ],
          [
           43.59721694,
           1.42789274,
           "Aparthotel Adagio Access Toulouse St Cyprien",
           7.7
          ],
          [
           43.60886287,
           1.44635975,
           "Le Clocher de Rodez Centre Gare",
           7.7
          ],
          [
           43.61475877,
           1.46306187,
           "Aparthotel Adagio Access Toulouse Jolimont",
           7.6
          ],
          [
           43.6014709,
           1.45706829,
           "Ibis Styles Toulouse Centre Canal du Midi",
           7.5
          ],
          [
           43.56011453,
           1.4959015,
           "Hôtel Ariane",
           7.5
          ],
          [
           43.60594868,
           1.44723147,
           "Hôtel de France",
           7.3
          ],
          [
           44.0250153,
           1.3567576,
           "Reve bleu",
           10
          ],
          [
           44.01786547,
           1.35385925,
           "room five MONTAUBAN",
           9.5
          ],
          [
           44.013431,
           1.3609724,
           "Cosy Red 4 Pers - Neuf et au Calme - Fibre-Netflix",
           9.4
          ],
          [
           44.01576468,
           1.3677983,
           "Montauban Appartement 3 chambres à deux pas de l’hypercentre",
           9.4
          ],
          [
           43.9829854,
           1.3639737,
           "Chalet contemporain dans son écrin de verdure",
           9.4
          ],
          [
           43.979174,
           1.309142,
           "Castel Bois Marie",
           9.3
          ],
          [
           44.0223269,
           1.3581305,
           "Appartement spacieux en centre ville, 2 chb, terrasse et garage",
           9.3
          ],
          [
           44.01324,
           1.344591,
           "Vanille Bourbon",
           9.2
          ],
          [
           44.0240885,
           1.3407096,
           "Maylou07",
           9.2
          ],
          [
           43.98098686,
           1.38958597,
           "DORMIR A MONTAUBAN Logements Carreyrat Calme et Verdoyant",
           9
          ],
          [
           44.01632797,
           1.35513816,
           "Le bon'appart - 50m de la cathédrale",
           8.9
          ],
          [
           44.08944141,
           1.34851889,
           "Château de Loubéjac",
           8.8
          ],
          [
           44.01703937,
           1.35448361,
           "2 appartements Rue du greffe",
           8.6
          ],
          [
           44.01542573,
           1.35407299,
           "Hôtel du Commerce",
           8.3
          ],
          [
           44.02054293,
           1.34956688,
           "Abbaye des Capucins Spa & Resort",
           8.2
          ],
          [
           44.01632566,
           1.34083071,
           "Appart proche gare + Parking , Impasse tranquille",
           8
          ],
          [
           44.04011965,
           1.3860239,
           "B&B HOTEL Montauban",
           7.7
          ],
          [
           43.98081084,
           1.33039445,
           "Brit Hotel Confort Montauban",
           7.6
          ],
          [
           44.0185775,
           1.3549017,
           "Cocon Zen au cœur du Montauban historique",
           7.6
          ],
          [
           44.01927605,
           1.36155604,
           "Le Central",
           7.3
          ],
          [
           45.766198,
           4.847341,
           "St Pothin Village",
           9.1
          ],
          [
           45.758649,
           4.836915,
           "InterContinental Lyon - Hotel Dieu, an IHG Hotel",
           9.1
          ],
          [
           45.760548,
           4.834971,
           "Hallmark - Appartement 2beapart",
           9
          ],
          [
           45.766106,
           4.833282,
           "Hamac Suites - Le Plâtre - Place des Terreaux",
           8.7
          ],
          [
           45.79229162,
           4.81869468,
           "Hotel ParkSaône",
           8.6
          ],
          [
           45.788608,
           4.814676,
           "Hotel Lyon-ouest",
           8.5
          ],
          [
           45.746083,
           4.837187,
           "MEININGER Hotel Lyon Centre Berthelot",
           8.4
          ],
          [
           45.762725,
           4.82682,
           "MiHotel Tour Rose",
           8.4
          ],
          [
           45.75555512,
           4.83010352,
           "MiHotel Gailleton",
           8.3
          ],
          [
           45.76158736,
           4.83262651,
           "Citadines Presqu'île Lyon",
           8.3
          ],
          [
           45.743218,
           4.8697213,
           "Luxurious flat in Monplaisir district in Lyon 2 min to the metro - Welkeys",
           8.2
          ],
          [
           45.74645865,
           4.86893088,
           "Lagrange Aparthotel Lyon Lumière",
           8.1
          ],
          [
           45.78661947,
           4.81142666,
           "Adonis Lyon Dock Ouest",
           8.1
          ],
          [
           45.78492085,
           4.85289931,
           "Lyon Marriott Hotel Cité Internationale",
           8
          ],
          [
           45.76106379,
           4.85515237,
           "Radisson Blu Hotel, Lyon",
           7.9
          ],
          [
           45.78501661,
           4.85641569,
           "Residence Montempo Lyon Cite Internationale",
           7.8
          ],
          [
           45.7478087,
           4.8355397,
           "B&B HOTEL LYON Centre Perrache Berthelot",
           7.8
          ],
          [
           45.74602253,
           4.8238939,
           "Hôtel Charlemagne",
           7.8
          ],
          [
           45.74818062,
           4.82856631,
           "Hotel Victoria Lyon Perrache Confluence",
           7.7
          ],
          [
           45.75769,
           4.858226,
           "Néméa Appart Hotel Résidence So Cloud",
           7.6
          ],
          [
           48.648992,
           -2.0256258,
           "Le Pilo",
           9.7
          ],
          [
           48.6806047,
           -1.9656916,
           "Maison Bord de mer - Saint-Malo",
           9.4
          ],
          [
           48.648137,
           -2.027065,
           "L'AccrocheCoeur",
           9.3
          ],
          [
           48.6476829,
           -1.9952037,
           "LES AMARRES - Maison familiale 3 chambres - Jardin et place de parking",
           9.2
          ],
          [
           48.65072706,
           -2.02494547,
           "Hôtel Le Nautilus",
           9.1
          ],
          [
           48.64981163,
           -2.02448322,
           "L'Annexe",
           8.9
          ],
          [
           48.6488348,
           -1.9920337,
           "Appartement Confortable proche de la Gare a Saint Malo",
           8.9
          ],
          [
           48.6492052,
           -2.02463329,
           "La Maison des Armateurs",
           8.5
          ],
          [
           48.66167888,
           -1.99165016,
           "Hôtel Ar Iniz",
           8.5
          ],
          [
           48.65175689,
           -2.01843202,
           "Oceania Saint Malo",
           8.4
          ],
          [
           48.66913503,
           -1.98354185,
           "Residence Reine Marine",
           8.3
          ],
          [
           48.65716461,
           -2.00131685,
           "Best Western Alexandra",
           8.3
          ],
          [
           48.64880649,
           -2.02491224,
           "The Originals Boutique, Hôtel des Marins, Saint-Malo (Inter-Hotel)",
           8.2
          ],
          [
           48.63567,
           -2.0184,
           "L'Angelus by Cocoonr",
           8.1
          ],
          [
           48.64481252,
           -1.95936144,
           "Domaine de la Barbinais",
           8.1
          ],
          [
           48.65104101,
           -2.0237267,
           "Hotel De L'univers",
           8
          ],
          [
           48.65428009,
           -2.00883776,
           "Escale Oceania Saint Malo",
           8
          ],
          [
           48.6511934,
           -2.02379644,
           "Hôtel de France et Chateaubriand",
           7.7
          ],
          [
           48.62597716,
           -1.99032784,
           "ibis Saint-Malo Madeleine",
           7.7
          ],
          [
           48.63962614,
           -2.01236531,
           "ibis Styles Saint Malo Port",
           7.7
          ],
          [
           48.615509,
           -1.491524,
           "Etoile des Grèves",
           9.3
          ],
          [
           48.61411436,
           -1.50431424,
           "La Jacotière",
           9.3
          ],
          [
           48.6041875,
           -1.51159912,
           "Chambres d'Hôtes Les Vieilles Digues",
           9.3
          ],
          [
           48.60788007,
           -1.51722372,
           "Gites Bellevue",
           9.3
          ],
          [
           48.615403,
           -1.49144,
           "Vent des Grèves",
           9.2
          ],
          [
           48.6134553,
           -1.4858723,
           "Au Mont Chez Nous Jaccuzi et Sauna",
           9.2
          ],
          [
           48.61267358,
           -1.48553065,
           "Maison au pied du Mont Saint Michel",
           9
          ],
          [
           48.615795,
           -1.488712,
           "L'Hirondelle",
           8.9
          ],
          [
           48.613627,
           -1.485791,
           "Mon Saint Michel",
           8.8
          ],
          [
           48.6139661,
           -1.48579173,
           "Les 2 Clos",
           8.8
          ],
          [
           48.61349776,
           -1.48584455,
           "Au Mont Pour Deux",
           8.3
          ],
          [
           48.61424653,
           -1.51054502,
           "Mercure Mont Saint Michel",
           8.2
          ],
          [
           48.61470049,
           -1.50961697,
           "Hôtel Vert",
           8
          ],
          [
           48.63568798,
           -1.50988251,
           "Auberge Saint Pierre",
           7.9
          ],
          [
           48.61538141,
           -1.51070997,
           "Hotel Gabriel",
           7.9
          ],
          [
           48.6162627,
           -1.51090577,
           "Le Relais Du Roy",
           7.9
          ],
          [
           48.61758727,
           -1.51039615,
           "Le Relais Saint Michel",
           7.8
          ],
          [
           48.61599318,
           -1.48825318,
           "Auberge de la Baie",
           7.8
          ],
          [
           48.63573406,
           -1.50986105,
           "Hôtel la Croix Blanche",
           7.6
          ],
          [
           48.63534943,
           -1.51037872,
           "Les Terrasses Poulard",
           7.3
          ]
         ],
         "hovertemplate": "<b>%{hovertext}</b><br><br>note=%{marker.color}<br>hotel=%{customdata[2]}<extra></extra>",
         "hovertext": [
          "Toulouse Sud-Est, Toulouse",
          "Toulouse Rive Gauche, Toulouse",
          "Centre de Toulouse, Toulouse",
          "Minimes - Barrière de Paris, Toulouse",
          "Centre de Toulouse, Toulouse",
          "Centre de Toulouse, Toulouse",
          "Centre de Toulouse, Toulouse",
          "Centre de Toulouse, Toulouse",
          "Toulouse Rive Gauche, Toulouse",
          "Toulouse Sud-Est, Toulouse",
          "Toulouse Ouest, Toulouse",
          "Centre de Toulouse, Toulouse",
          "Centre de Toulouse, Toulouse",
          "Toulouse Sud-Est, Toulouse",
          "Saint-Cyprien, Toulouse",
          "Centre de Toulouse, Toulouse",
          "Toulouse Est, Toulouse",
          "Toulouse Est, Toulouse",
          "Toulouse Sud-Est, Toulouse",
          "Centre de Toulouse, Toulouse",
          "Montauban",
          "Montauban",
          "Montauban",
          "Montauban",
          "Montauban",
          "Montauban",
          "Montauban",
          "Montauban",
          "Montauban",
          "Montauban",
          "Montauban",
          "Montauban",
          "Montauban",
          "Montauban",
          "Montauban",
          "Montauban",
          "Montauban",
          "Montauban",
          "Montauban",
          "Montauban",
          "6e arr., Lyon",
          "2e arr., Lyon",
          "2e arr., Lyon",
          "1er arr., Lyon",
          "9e arr., Lyon",
          "9e arr., Lyon",
          "7e arr., Lyon",
          "5e arr., Lyon",
          "2e arr., Lyon",
          "2e arr., Lyon",
          "8e arr., Lyon",
          "3e arr., Lyon",
          "9e arr., Lyon",
          "6e arr., Lyon",
          "3e arr., Lyon",
          "6e arr., Lyon",
          "7e arr., Lyon",
          "2e arr., Lyon",
          "2e arr., Lyon",
          "3e arr., Lyon",
          "Intra muros, Saint-Malo",
          "Rotheneuf, Saint-Malo",
          "Intra muros, Saint-Malo",
          "Saint-Malo",
          "Intra muros, Saint-Malo",
          "Intra muros, Saint-Malo",
          "Saint-Malo",
          "Intra muros, Saint-Malo",
          "Paramé, Saint-Malo",
          "Sillon, Saint-Malo",
          "Saint-Malo",
          "Sillon, Saint-Malo",
          "Intra muros, Saint-Malo",
          "La Cité, Saint-Malo",
          "Saint-Malo",
          "Intra muros, Saint-Malo",
          "Sillon, Saint-Malo",
          "Intra muros, Saint-Malo",
          "Saint-Malo",
          "Saint-Malo",
          "Ardevon",
          "Ardevon",
          "Beauvoir",
          "Beauvoir",
          "Pontorson",
          "Pontorson",
          "Pontorson",
          "Pontorson",
          "Ardevon",
          "Pontorson",
          "Pontorson",
          "Le Mont-Saint-Michel",
          "Le Mont-Saint-Michel",
          "Le Mont-Saint-Michel",
          "Le Mont-Saint-Michel",
          "Le Mont-Saint-Michel",
          "Le Mont-Saint-Michel",
          "Ardevon",
          "Le Mont-Saint-Michel",
          "Le Mont-Saint-Michel"
         ],
         "lat": [
          43.57515409,
          43.6017215,
          43.61405143,
          43.6130132,
          43.6094387,
          43.6090789,
          43.610053,
          43.59794395,
          43.5938049,
          43.58985915,
          43.60681004,
          43.60332861,
          43.61194052,
          43.58763592,
          43.59721694,
          43.60886287,
          43.61475877,
          43.6014709,
          43.56011453,
          43.60594868,
          44.0250153,
          44.01786547,
          44.013431,
          44.01576468,
          43.9829854,
          43.979174,
          44.0223269,
          44.01324,
          44.0240885,
          43.98098686,
          44.01632797,
          44.08944141,
          44.01703937,
          44.01542573,
          44.02054293,
          44.01632566,
          44.04011965,
          43.98081084,
          44.0185775,
          44.01927605,
          45.766198,
          45.758649,
          45.760548,
          45.766106,
          45.79229162,
          45.788608,
          45.746083,
          45.762725,
          45.75555512,
          45.76158736,
          45.743218,
          45.74645865,
          45.78661947,
          45.78492085,
          45.76106379,
          45.78501661,
          45.7478087,
          45.74602253,
          45.74818062,
          45.75769,
          48.648992,
          48.6806047,
          48.648137,
          48.6476829,
          48.65072706,
          48.64981163,
          48.6488348,
          48.6492052,
          48.66167888,
          48.65175689,
          48.66913503,
          48.65716461,
          48.64880649,
          48.63567,
          48.64481252,
          48.65104101,
          48.65428009,
          48.6511934,
          48.62597716,
          48.63962614,
          48.615509,
          48.61411436,
          48.6041875,
          48.60788007,
          48.615403,
          48.6134553,
          48.61267358,
          48.615795,
          48.613627,
          48.6139661,
          48.61349776,
          48.61424653,
          48.61470049,
          48.63568798,
          48.61538141,
          48.6162627,
          48.61758727,
          48.61599318,
          48.63573406,
          48.63534943
         ],
         "legendgroup": "",
         "lon": [
          1.47372821,
          1.4080879,
          1.44794021,
          1.4215387,
          1.4534998,
          1.4274835,
          1.43037,
          1.44384022,
          1.41036384,
          1.45291235,
          1.39372945,
          1.44823596,
          1.45180665,
          1.44667894,
          1.42789274,
          1.44635975,
          1.46306187,
          1.45706829,
          1.4959015,
          1.44723147,
          1.3567576,
          1.35385925,
          1.3609724,
          1.3677983,
          1.3639737,
          1.309142,
          1.3581305,
          1.344591,
          1.3407096,
          1.38958597,
          1.35513816,
          1.34851889,
          1.35448361,
          1.35407299,
          1.34956688,
          1.34083071,
          1.3860239,
          1.33039445,
          1.3549017,
          1.36155604,
          4.847341,
          4.836915,
          4.834971,
          4.833282,
          4.81869468,
          4.814676,
          4.837187,
          4.82682,
          4.83010352,
          4.83262651,
          4.8697213,
          4.86893088,
          4.81142666,
          4.85289931,
          4.85515237,
          4.85641569,
          4.8355397,
          4.8238939,
          4.82856631,
          4.858226,
          -2.0256258,
          -1.9656916,
          -2.027065,
          -1.9952037,
          -2.02494547,
          -2.02448322,
          -1.9920337,
          -2.02463329,
          -1.99165016,
          -2.01843202,
          -1.98354185,
          -2.00131685,
          -2.02491224,
          -2.0184,
          -1.95936144,
          -2.0237267,
          -2.00883776,
          -2.02379644,
          -1.99032784,
          -2.01236531,
          -1.491524,
          -1.50431424,
          -1.51159912,
          -1.51722372,
          -1.49144,
          -1.4858723,
          -1.48553065,
          -1.488712,
          -1.485791,
          -1.48579173,
          -1.48584455,
          -1.51054502,
          -1.50961697,
          -1.50988251,
          -1.51070997,
          -1.51090577,
          -1.51039615,
          -1.48825318,
          -1.50986105,
          -1.51037872
         ],
         "marker": {
          "color": [
           9.6,
           9.4,
           9.2,
           8.9,
           8.7,
           8.6,
           8.5,
           8.4,
           8.3,
           8.3,
           8.2,
           8,
           7.9,
           7.8,
           7.7,
           7.7,
           7.6,
           7.5,
           7.5,
           7.3,
           10,
           9.5,
           9.4,
           9.4,
           9.4,
           9.3,
           9.3,
           9.2,
           9.2,
           9,
           8.9,
           8.8,
           8.6,
           8.3,
           8.2,
           8,
           7.7,
           7.6,
           7.6,
           7.3,
           9.1,
           9.1,
           9,
           8.7,
           8.6,
           8.5,
           8.4,
           8.4,
           8.3,
           8.3,
           8.2,
           8.1,
           8.1,
           8,
           7.9,
           7.8,
           7.8,
           7.8,
           7.7,
           7.6,
           9.7,
           9.4,
           9.3,
           9.2,
           9.1,
           8.9,
           8.9,
           8.5,
           8.5,
           8.4,
           8.3,
           8.3,
           8.2,
           8.1,
           8.1,
           8,
           8,
           7.7,
           7.7,
           7.7,
           9.3,
           9.3,
           9.3,
           9.3,
           9.2,
           9.2,
           9,
           8.9,
           8.8,
           8.8,
           8.3,
           8.2,
           8,
           7.9,
           7.9,
           7.9,
           7.8,
           7.8,
           7.6,
           7.3
          ],
          "coloraxis": "coloraxis",
          "size": [
           9.6,
           9.4,
           9.2,
           8.9,
           8.7,
           8.6,
           8.5,
           8.4,
           8.3,
           8.3,
           8.2,
           8,
           7.9,
           7.8,
           7.7,
           7.7,
           7.6,
           7.5,
           7.5,
           7.3,
           10,
           9.5,
           9.4,
           9.4,
           9.4,
           9.3,
           9.3,
           9.2,
           9.2,
           9,
           8.9,
           8.8,
           8.6,
           8.3,
           8.2,
           8,
           7.7,
           7.6,
           7.6,
           7.3,
           9.1,
           9.1,
           9,
           8.7,
           8.6,
           8.5,
           8.4,
           8.4,
           8.3,
           8.3,
           8.2,
           8.1,
           8.1,
           8,
           7.9,
           7.8,
           7.8,
           7.8,
           7.7,
           7.6,
           9.7,
           9.4,
           9.3,
           9.2,
           9.1,
           8.9,
           8.9,
           8.5,
           8.5,
           8.4,
           8.3,
           8.3,
           8.2,
           8.1,
           8.1,
           8,
           8,
           7.7,
           7.7,
           7.7,
           9.3,
           9.3,
           9.3,
           9.3,
           9.2,
           9.2,
           9,
           8.9,
           8.8,
           8.8,
           8.3,
           8.2,
           8,
           7.9,
           7.9,
           7.9,
           7.8,
           7.8,
           7.6,
           7.3
          ],
          "sizemode": "area",
          "sizeref": 0.011111111111111112
         },
         "mode": "markers",
         "name": "",
         "showlegend": false,
         "subplot": "mapbox",
         "type": "scattermapbox"
        }
       ],
       "layout": {
        "coloraxis": {
         "colorbar": {
          "title": {
           "text": "note"
          }
         },
         "colorscale": [
          [
           0,
           "rgb(0,0,255)"
          ],
          [
           0.1,
           "rgb(51,153,255)"
          ],
          [
           0.2,
           "rgb(102,204,255)"
          ],
          [
           0.3,
           "rgb(153,204,255)"
          ],
          [
           0.4,
           "rgb(204,204,255)"
          ],
          [
           0.5,
           "rgb(255,255,255)"
          ],
          [
           0.6,
           "rgb(255,204,255)"
          ],
          [
           0.7,
           "rgb(255,153,255)"
          ],
          [
           0.8,
           "rgb(255,102,204)"
          ],
          [
           0.9,
           "rgb(255,102,102)"
          ],
          [
           1,
           "rgb(255,0,0)"
          ]
         ]
        },
        "height": 800,
        "legend": {
         "itemsizing": "constant",
         "tracegroupgap": 0
        },
        "mapbox": {
         "accesstoken": "pk.eyJ1IjoiamVyZW15cGhpbGlwcGUiLCJhIjoiY2xhdjk2eTBhMDNlcTN5bzVydGlhdGxtbiJ9.CgHMMQHo-NrFGr33i_FPOg",
         "center": {
          "lat": 46.1294251137,
          "lon": 0.8256158479
         },
         "domain": {
          "x": [
           0,
           1
          ],
          "y": [
           0,
           1
          ]
         },
         "zoom": 4.7
        },
        "margin": {
         "t": 60
        },
        "template": {
         "data": {
          "bar": [
           {
            "error_x": {
             "color": "#f2f5fa"
            },
            "error_y": {
             "color": "#f2f5fa"
            },
            "marker": {
             "line": {
              "color": "rgb(17,17,17)",
              "width": 0.5
             },
             "pattern": {
              "fillmode": "overlay",
              "size": 10,
              "solidity": 0.2
             }
            },
            "type": "bar"
           }
          ],
          "barpolar": [
           {
            "marker": {
             "line": {
              "color": "rgb(17,17,17)",
              "width": 0.5
             },
             "pattern": {
              "fillmode": "overlay",
              "size": 10,
              "solidity": 0.2
             }
            },
            "type": "barpolar"
           }
          ],
          "carpet": [
           {
            "aaxis": {
             "endlinecolor": "#A2B1C6",
             "gridcolor": "#506784",
             "linecolor": "#506784",
             "minorgridcolor": "#506784",
             "startlinecolor": "#A2B1C6"
            },
            "baxis": {
             "endlinecolor": "#A2B1C6",
             "gridcolor": "#506784",
             "linecolor": "#506784",
             "minorgridcolor": "#506784",
             "startlinecolor": "#A2B1C6"
            },
            "type": "carpet"
           }
          ],
          "choropleth": [
           {
            "colorbar": {
             "outlinewidth": 0,
             "ticks": ""
            },
            "type": "choropleth"
           }
          ],
          "contour": [
           {
            "colorbar": {
             "outlinewidth": 0,
             "ticks": ""
            },
            "colorscale": [
             [
              0,
              "#0d0887"
             ],
             [
              0.1111111111111111,
              "#46039f"
             ],
             [
              0.2222222222222222,
              "#7201a8"
             ],
             [
              0.3333333333333333,
              "#9c179e"
             ],
             [
              0.4444444444444444,
              "#bd3786"
             ],
             [
              0.5555555555555556,
              "#d8576b"
             ],
             [
              0.6666666666666666,
              "#ed7953"
             ],
             [
              0.7777777777777778,
              "#fb9f3a"
             ],
             [
              0.8888888888888888,
              "#fdca26"
             ],
             [
              1,
              "#f0f921"
             ]
            ],
            "type": "contour"
           }
          ],
          "contourcarpet": [
           {
            "colorbar": {
             "outlinewidth": 0,
             "ticks": ""
            },
            "type": "contourcarpet"
           }
          ],
          "heatmap": [
           {
            "colorbar": {
             "outlinewidth": 0,
             "ticks": ""
            },
            "colorscale": [
             [
              0,
              "#0d0887"
             ],
             [
              0.1111111111111111,
              "#46039f"
             ],
             [
              0.2222222222222222,
              "#7201a8"
             ],
             [
              0.3333333333333333,
              "#9c179e"
             ],
             [
              0.4444444444444444,
              "#bd3786"
             ],
             [
              0.5555555555555556,
              "#d8576b"
             ],
             [
              0.6666666666666666,
              "#ed7953"
             ],
             [
              0.7777777777777778,
              "#fb9f3a"
             ],
             [
              0.8888888888888888,
              "#fdca26"
             ],
             [
              1,
              "#f0f921"
             ]
            ],
            "type": "heatmap"
           }
          ],
          "heatmapgl": [
           {
            "colorbar": {
             "outlinewidth": 0,
             "ticks": ""
            },
            "colorscale": [
             [
              0,
              "#0d0887"
             ],
             [
              0.1111111111111111,
              "#46039f"
             ],
             [
              0.2222222222222222,
              "#7201a8"
             ],
             [
              0.3333333333333333,
              "#9c179e"
             ],
             [
              0.4444444444444444,
              "#bd3786"
             ],
             [
              0.5555555555555556,
              "#d8576b"
             ],
             [
              0.6666666666666666,
              "#ed7953"
             ],
             [
              0.7777777777777778,
              "#fb9f3a"
             ],
             [
              0.8888888888888888,
              "#fdca26"
             ],
             [
              1,
              "#f0f921"
             ]
            ],
            "type": "heatmapgl"
           }
          ],
          "histogram": [
           {
            "marker": {
             "pattern": {
              "fillmode": "overlay",
              "size": 10,
              "solidity": 0.2
             }
            },
            "type": "histogram"
           }
          ],
          "histogram2d": [
           {
            "colorbar": {
             "outlinewidth": 0,
             "ticks": ""
            },
            "colorscale": [
             [
              0,
              "#0d0887"
             ],
             [
              0.1111111111111111,
              "#46039f"
             ],
             [
              0.2222222222222222,
              "#7201a8"
             ],
             [
              0.3333333333333333,
              "#9c179e"
             ],
             [
              0.4444444444444444,
              "#bd3786"
             ],
             [
              0.5555555555555556,
              "#d8576b"
             ],
             [
              0.6666666666666666,
              "#ed7953"
             ],
             [
              0.7777777777777778,
              "#fb9f3a"
             ],
             [
              0.8888888888888888,
              "#fdca26"
             ],
             [
              1,
              "#f0f921"
             ]
            ],
            "type": "histogram2d"
           }
          ],
          "histogram2dcontour": [
           {
            "colorbar": {
             "outlinewidth": 0,
             "ticks": ""
            },
            "colorscale": [
             [
              0,
              "#0d0887"
             ],
             [
              0.1111111111111111,
              "#46039f"
             ],
             [
              0.2222222222222222,
              "#7201a8"
             ],
             [
              0.3333333333333333,
              "#9c179e"
             ],
             [
              0.4444444444444444,
              "#bd3786"
             ],
             [
              0.5555555555555556,
              "#d8576b"
             ],
             [
              0.6666666666666666,
              "#ed7953"
             ],
             [
              0.7777777777777778,
              "#fb9f3a"
             ],
             [
              0.8888888888888888,
              "#fdca26"
             ],
             [
              1,
              "#f0f921"
             ]
            ],
            "type": "histogram2dcontour"
           }
          ],
          "mesh3d": [
           {
            "colorbar": {
             "outlinewidth": 0,
             "ticks": ""
            },
            "type": "mesh3d"
           }
          ],
          "parcoords": [
           {
            "line": {
             "colorbar": {
              "outlinewidth": 0,
              "ticks": ""
             }
            },
            "type": "parcoords"
           }
          ],
          "pie": [
           {
            "automargin": true,
            "type": "pie"
           }
          ],
          "scatter": [
           {
            "marker": {
             "line": {
              "color": "#283442"
             }
            },
            "type": "scatter"
           }
          ],
          "scatter3d": [
           {
            "line": {
             "colorbar": {
              "outlinewidth": 0,
              "ticks": ""
             }
            },
            "marker": {
             "colorbar": {
              "outlinewidth": 0,
              "ticks": ""
             }
            },
            "type": "scatter3d"
           }
          ],
          "scattercarpet": [
           {
            "marker": {
             "colorbar": {
              "outlinewidth": 0,
              "ticks": ""
             }
            },
            "type": "scattercarpet"
           }
          ],
          "scattergeo": [
           {
            "marker": {
             "colorbar": {
              "outlinewidth": 0,
              "ticks": ""
             }
            },
            "type": "scattergeo"
           }
          ],
          "scattergl": [
           {
            "marker": {
             "line": {
              "color": "#283442"
             }
            },
            "type": "scattergl"
           }
          ],
          "scattermapbox": [
           {
            "marker": {
             "colorbar": {
              "outlinewidth": 0,
              "ticks": ""
             }
            },
            "type": "scattermapbox"
           }
          ],
          "scatterpolar": [
           {
            "marker": {
             "colorbar": {
              "outlinewidth": 0,
              "ticks": ""
             }
            },
            "type": "scatterpolar"
           }
          ],
          "scatterpolargl": [
           {
            "marker": {
             "colorbar": {
              "outlinewidth": 0,
              "ticks": ""
             }
            },
            "type": "scatterpolargl"
           }
          ],
          "scatterternary": [
           {
            "marker": {
             "colorbar": {
              "outlinewidth": 0,
              "ticks": ""
             }
            },
            "type": "scatterternary"
           }
          ],
          "surface": [
           {
            "colorbar": {
             "outlinewidth": 0,
             "ticks": ""
            },
            "colorscale": [
             [
              0,
              "#0d0887"
             ],
             [
              0.1111111111111111,
              "#46039f"
             ],
             [
              0.2222222222222222,
              "#7201a8"
             ],
             [
              0.3333333333333333,
              "#9c179e"
             ],
             [
              0.4444444444444444,
              "#bd3786"
             ],
             [
              0.5555555555555556,
              "#d8576b"
             ],
             [
              0.6666666666666666,
              "#ed7953"
             ],
             [
              0.7777777777777778,
              "#fb9f3a"
             ],
             [
              0.8888888888888888,
              "#fdca26"
             ],
             [
              1,
              "#f0f921"
             ]
            ],
            "type": "surface"
           }
          ],
          "table": [
           {
            "cells": {
             "fill": {
              "color": "#506784"
             },
             "line": {
              "color": "rgb(17,17,17)"
             }
            },
            "header": {
             "fill": {
              "color": "#2a3f5f"
             },
             "line": {
              "color": "rgb(17,17,17)"
             }
            },
            "type": "table"
           }
          ]
         },
         "layout": {
          "annotationdefaults": {
           "arrowcolor": "#f2f5fa",
           "arrowhead": 0,
           "arrowwidth": 1
          },
          "autotypenumbers": "strict",
          "coloraxis": {
           "colorbar": {
            "outlinewidth": 0,
            "ticks": ""
           }
          },
          "colorscale": {
           "diverging": [
            [
             0,
             "#8e0152"
            ],
            [
             0.1,
             "#c51b7d"
            ],
            [
             0.2,
             "#de77ae"
            ],
            [
             0.3,
             "#f1b6da"
            ],
            [
             0.4,
             "#fde0ef"
            ],
            [
             0.5,
             "#f7f7f7"
            ],
            [
             0.6,
             "#e6f5d0"
            ],
            [
             0.7,
             "#b8e186"
            ],
            [
             0.8,
             "#7fbc41"
            ],
            [
             0.9,
             "#4d9221"
            ],
            [
             1,
             "#276419"
            ]
           ],
           "sequential": [
            [
             0,
             "#0d0887"
            ],
            [
             0.1111111111111111,
             "#46039f"
            ],
            [
             0.2222222222222222,
             "#7201a8"
            ],
            [
             0.3333333333333333,
             "#9c179e"
            ],
            [
             0.4444444444444444,
             "#bd3786"
            ],
            [
             0.5555555555555556,
             "#d8576b"
            ],
            [
             0.6666666666666666,
             "#ed7953"
            ],
            [
             0.7777777777777778,
             "#fb9f3a"
            ],
            [
             0.8888888888888888,
             "#fdca26"
            ],
            [
             1,
             "#f0f921"
            ]
           ],
           "sequentialminus": [
            [
             0,
             "#0d0887"
            ],
            [
             0.1111111111111111,
             "#46039f"
            ],
            [
             0.2222222222222222,
             "#7201a8"
            ],
            [
             0.3333333333333333,
             "#9c179e"
            ],
            [
             0.4444444444444444,
             "#bd3786"
            ],
            [
             0.5555555555555556,
             "#d8576b"
            ],
            [
             0.6666666666666666,
             "#ed7953"
            ],
            [
             0.7777777777777778,
             "#fb9f3a"
            ],
            [
             0.8888888888888888,
             "#fdca26"
            ],
            [
             1,
             "#f0f921"
            ]
           ]
          },
          "colorway": [
           "#636efa",
           "#EF553B",
           "#00cc96",
           "#ab63fa",
           "#FFA15A",
           "#19d3f3",
           "#FF6692",
           "#B6E880",
           "#FF97FF",
           "#FECB52"
          ],
          "font": {
           "color": "#f2f5fa"
          },
          "geo": {
           "bgcolor": "rgb(17,17,17)",
           "lakecolor": "rgb(17,17,17)",
           "landcolor": "rgb(17,17,17)",
           "showlakes": true,
           "showland": true,
           "subunitcolor": "#506784"
          },
          "hoverlabel": {
           "align": "left"
          },
          "hovermode": "closest",
          "mapbox": {
           "style": "dark"
          },
          "paper_bgcolor": "rgb(17,17,17)",
          "plot_bgcolor": "rgb(17,17,17)",
          "polar": {
           "angularaxis": {
            "gridcolor": "#506784",
            "linecolor": "#506784",
            "ticks": ""
           },
           "bgcolor": "rgb(17,17,17)",
           "radialaxis": {
            "gridcolor": "#506784",
            "linecolor": "#506784",
            "ticks": ""
           }
          },
          "scene": {
           "xaxis": {
            "backgroundcolor": "rgb(17,17,17)",
            "gridcolor": "#506784",
            "gridwidth": 2,
            "linecolor": "#506784",
            "showbackground": true,
            "ticks": "",
            "zerolinecolor": "#C8D4E3"
           },
           "yaxis": {
            "backgroundcolor": "rgb(17,17,17)",
            "gridcolor": "#506784",
            "gridwidth": 2,
            "linecolor": "#506784",
            "showbackground": true,
            "ticks": "",
            "zerolinecolor": "#C8D4E3"
           },
           "zaxis": {
            "backgroundcolor": "rgb(17,17,17)",
            "gridcolor": "#506784",
            "gridwidth": 2,
            "linecolor": "#506784",
            "showbackground": true,
            "ticks": "",
            "zerolinecolor": "#C8D4E3"
           }
          },
          "shapedefaults": {
           "line": {
            "color": "#f2f5fa"
           }
          },
          "sliderdefaults": {
           "bgcolor": "#C8D4E3",
           "bordercolor": "rgb(17,17,17)",
           "borderwidth": 1,
           "tickwidth": 0
          },
          "ternary": {
           "aaxis": {
            "gridcolor": "#506784",
            "linecolor": "#506784",
            "ticks": ""
           },
           "baxis": {
            "gridcolor": "#506784",
            "linecolor": "#506784",
            "ticks": ""
           },
           "bgcolor": "rgb(17,17,17)",
           "caxis": {
            "gridcolor": "#506784",
            "linecolor": "#506784",
            "ticks": ""
           }
          },
          "title": {
           "x": 0.05
          },
          "updatemenudefaults": {
           "bgcolor": "#506784",
           "borderwidth": 0
          },
          "xaxis": {
           "automargin": true,
           "gridcolor": "#283442",
           "linecolor": "#506784",
           "ticks": "",
           "title": {
            "standoff": 15
           },
           "zerolinecolor": "#283442",
           "zerolinewidth": 2
          },
          "yaxis": {
           "automargin": true,
           "gridcolor": "#283442",
           "linecolor": "#506784",
           "ticks": "",
           "title": {
            "standoff": 15
           },
           "zerolinecolor": "#283442",
           "zerolinewidth": 2
          }
         }
        },
        "title": {
         "text": "Les 5 meilleurs ville sur un moyenne de température"
        },
        "width": 1500
       }
      }
     },
     "metadata": {},
     "output_type": "display_data"
    }
   ],
   "source": [
    "px.set_mapbox_access_token(open(\".mapbox_token\").read())\n",
    "fig = px.scatter_mapbox(\n",
    "    hotel_viz,\n",
    "    lat='latitutde',\n",
    "    lon='longitude',\n",
    "    color='note',\n",
    "    size='note',\n",
    "    color_continuous_scale=px.colors.diverging.Picnic,\n",
    "    size_max=30,\n",
    "    zoom=4.7,\n",
    "    hover_name='ville',\n",
    "    hover_data={\n",
    "        'latitutde': False,\n",
    "        'longitude': False,\n",
    "        'hotel': True,\n",
    "        'note': True    \n",
    "        }, \n",
    ")\n",
    "\n",
    "fig.update_layout(width = 1500, height = 800, template='plotly_dark' ,title='Les 5 meilleurs ville sur un moyenne de température')\n",
    "fig.show()"
   ]
  }
 ],
 "metadata": {
  "kernelspec": {
   "display_name": "Python 3",
   "language": "python",
   "name": "python3"
  },
  "language_info": {
   "codemirror_mode": {
    "name": "ipython",
    "version": 3
   },
   "file_extension": ".py",
   "mimetype": "text/x-python",
   "name": "python",
   "nbconvert_exporter": "python",
   "pygments_lexer": "ipython3",
   "version": "3.10.2 (tags/v3.10.2:a58ebcc, Jan 17 2022, 14:12:15) [MSC v.1929 64 bit (AMD64)]"
  },
  "orig_nbformat": 4,
  "vscode": {
   "interpreter": {
    "hash": "23e0aedb6d47e040503db7fcf09a0dff3cea72eb7d5d4c2596a602b1504b448c"
   }
  }
 },
 "nbformat": 4,
 "nbformat_minor": 2
}
