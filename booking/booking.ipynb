{
 "cells": [
  {
   "cell_type": "code",
   "execution_count": 20,
   "metadata": {},
   "outputs": [],
   "source": [
    "import os\n",
    "import json\n",
    "import boto3\n",
    "\n",
    "import pandas as pd\n",
    "\n",
    "from dotenv import load_dotenv\n",
    "from sqlalchemy import create_engine, text\n",
    "\n",
    "load_dotenv()\n",
    "\n",
    "ACCESS_KEY = os.getenv(\"ID_KEY_ACCESS\")\n",
    "ACCESS_KEY_SECRETE = os.getenv(\"KEY_SECRET\")\n",
    "BUCKET_NAME = os.getenv(\"BUCKETNAME\")"
   ]
  },
  {
   "cell_type": "code",
   "execution_count": 11,
   "metadata": {},
   "outputs": [],
   "source": [
    "df_1 = pd.read_json(\"../hotel_1.json\")\n",
    "df_2 = pd.read_json(\"../hotel_2.json\")\n",
    "df_3 = pd.read_json(\"../temps.json\")"
   ]
  },
  {
   "cell_type": "code",
   "execution_count": 12,
   "metadata": {},
   "outputs": [],
   "source": [
    "def merge_outer(data_1:pd.DataFrame, data_2:pd.DataFrame, on:str) -> pd.DataFrame:\n",
    "    df = pd.merge(data_1, data_2, how='outer', on=on)\n",
    "    return df\n",
    "\n",
    "df = merge_outer(df_1, df_2, \"hotel\")\n",
    "df = merge_outer(df, df_3, \"ville_rechercher\")"
   ]
  },
  {
   "cell_type": "code",
   "execution_count": 13,
   "metadata": {},
   "outputs": [],
   "source": [
    "csv = df.to_csv()\n",
    "df.to_csv(\"hotel.csv\")"
   ]
  },
  {
   "cell_type": "code",
   "execution_count": null,
   "metadata": {},
   "outputs": [],
   "source": [
    "session = boto3.Session(aws_access_key_id=ACCESS_KEY, \n",
    "                        aws_secret_access_key=ACCESS_KEY_SECRETE)\n",
    "s3 = session.resource(\"s3\")\n",
    "\n",
    "bucket = s3.create_bucket(Bucket=BUCKET_NAME, CreateBucketConfiguration={'LocationConstraint': 'eu-west-3'})\n",
    "\n",
    "put_object = bucket.put_object(Key=\"hotel.csv\", Body=csv)"
   ]
  },
  {
   "cell_type": "code",
   "execution_count": null,
   "metadata": {},
   "outputs": [],
   "source": [
    "s3.Bucket(BUCKET_NAME).upload_file('hotel.csv', 'hotel.csv')"
   ]
  },
  {
   "cell_type": "code",
   "execution_count": 16,
   "metadata": {},
   "outputs": [],
   "source": [
    "df = pd.read_csv(\"hotel.csv\")"
   ]
  },
  {
   "cell_type": "code",
   "execution_count": 17,
   "metadata": {},
   "outputs": [],
   "source": [
    "# engine = create_engine(f\"postgresql+psycopg2://{YOUR_USERNAME}:{YOUR_PASSWORD}@{YOUR_HOSTNAME}/postgres\", echo=True)\n",
    "engine = create_engine('sqlite:///:memory:', echo=True)\n"
   ]
  },
  {
   "cell_type": "code",
   "execution_count": 18,
   "metadata": {},
   "outputs": [
    {
     "name": "stdout",
     "output_type": "stream",
     "text": [
      "2022-12-04 12:10:43,088 INFO sqlalchemy.engine.Engine PRAGMA main.table_info(\"hotel\")\n",
      "2022-12-04 12:10:43,088 INFO sqlalchemy.engine.Engine [raw sql] ()\n",
      "2022-12-04 12:10:43,089 INFO sqlalchemy.engine.Engine PRAGMA temp.table_info(\"hotel\")\n",
      "2022-12-04 12:10:43,089 INFO sqlalchemy.engine.Engine [raw sql] ()\n",
      "2022-12-04 12:10:43,091 INFO sqlalchemy.engine.Engine BEGIN (implicit)\n",
      "2022-12-04 12:10:43,092 INFO sqlalchemy.engine.Engine \n",
      "CREATE TABLE hotel (\n",
      "\t\"index\" BIGINT, \n",
      "\t\"Unnamed: 0\" BIGINT, \n",
      "\tville_rechercher TEXT, \n",
      "\t\"ville_précise\" TEXT, \n",
      "\thotel TEXT, \n",
      "\turl TEXT, \n",
      "\tnote TEXT, \n",
      "\tdescription TEXT, \n",
      "\tlatitutde FLOAT, \n",
      "\tlongitude FLOAT, \n",
      "\t\"2022-12-04 15:00:00\" TEXT, \n",
      "\t\"2022-12-05 15:00:00\" TEXT, \n",
      "\t\"2022-12-06 15:00:00\" TEXT, \n",
      "\t\"2022-12-07 15:00:00\" TEXT, \n",
      "\t\"2022-12-08 15:00:00\" TEXT\n",
      ")\n",
      "\n",
      "\n",
      "2022-12-04 12:10:43,092 INFO sqlalchemy.engine.Engine [no key 0.00038s] ()\n",
      "2022-12-04 12:10:43,093 INFO sqlalchemy.engine.Engine CREATE INDEX ix_hotel_index ON hotel (\"index\")\n",
      "2022-12-04 12:10:43,093 INFO sqlalchemy.engine.Engine [no key 0.00052s] ()\n",
      "2022-12-04 12:10:43,094 INFO sqlalchemy.engine.Engine COMMIT\n",
      "2022-12-04 12:10:43,096 INFO sqlalchemy.engine.Engine BEGIN (implicit)\n",
      "2022-12-04 12:10:43,103 INFO sqlalchemy.engine.Engine INSERT INTO hotel (\"index\", \"Unnamed: 0\", ville_rechercher, \"ville_précise\", hotel, url, note, description, latitutde, longitude, \"2022-12-04 15:00:00\", \"2022-12-05 15:00:00\", \"2022-12-06 15:00:00\", \"2022-12-07 15:00:00\", \"2022-12-08 15:00:00\") VALUES (?, ?, ?, ?, ?, ?, ?, ?, ?, ?, ?, ?, ?, ?, ?)\n",
      "2022-12-04 12:10:43,103 INFO sqlalchemy.engine.Engine [generated in 0.00491s] ((0, 0, 'Le Mont-Saint-Michel', 'Le Mont-Saint-Michel', 'Le Relais Saint Michel', 'https://www.booking.com/hotel/fr/le-relais-saint-michel.fr.html?label=gen173nr-1FCAEoggI46AdIDVgEaE2IAQGYAQ24AQrIAQXYAQHoAQH4AQKIAgGoAgO4AqjtsZwGwAIB ... (153 characters truncated) ... no_rooms=1&group_children=0&req_children=0&hpos=1&hapos=1&sr_order=popularity&srpvid=1f4249d6a1fd0414&srepoch=1670149806&from=searchresults#hotelTmpl', '7,8', \"Vous pouvez bénéficier d'une réduction Genius dans l'établissement Le Relais Saint Michel\\xa0! \", 48.61758727, -1.51039615, \"{'temperature': 5.28, 'temps': 'overcast clouds'}\", \"{'temperature': 7.11, 'temps': 'broken clouds'}\", \"{'temperature': 6.98, 'temps': 'overcast clouds'}\", \"{'temperature': 7, 'temps': 'light rain'}\", \"{'temperature': 5.23, 'temps': 'clear sky'}\"), (1, 1, 'Le Mont-Saint-Michel', 'Le Mont-Saint-Michel', 'La Mère Poulard', 'https://www.booking.com/hotel/fr/la-mere-poulard.fr.html?label=gen173nr-1FCAEoggI46AdIDVgEaE2IAQGYAQ24AQrIAQXYAQHoAQH4AQKIAgGoAgO4AqjtsZwGwAIB0gIkMWN ... (146 characters truncated) ... no_rooms=1&group_children=0&req_children=0&hpos=2&hapos=2&sr_order=popularity&srpvid=1f4249d6a1fd0414&srepoch=1670149806&from=searchresults#hotelTmpl', '7,0', \"Vous pouvez bénéficier d'une réduction Genius dans l'établissement La Mère Poulard\\xa0! \", 48.63508532, -1.51053965, \"{'temperature': 5.28, 'temps': 'overcast clouds'}\", \"{'temperature': 7.11, 'temps': 'broken clouds'}\", \"{'temperature': 6.98, 'temps': 'overcast clouds'}\", \"{'temperature': 7, 'temps': 'light rain'}\", \"{'temperature': 5.23, 'temps': 'clear sky'}\"), (2, 2, 'Le Mont-Saint-Michel', 'Le Mont-Saint-Michel', 'Hotel De La Digue', 'https://www.booking.com/hotel/fr/de-la-digue.fr.html?label=gen173nr-1FCAEoggI46AdIDVgEaE2IAQGYAQ24AQrIAQXYAQHoAQH4AQKIAgGoAgO4AqjtsZwGwAIB0gIkMWNmZWY ... (142 characters truncated) ... no_rooms=1&group_children=0&req_children=0&hpos=3&hapos=3&sr_order=popularity&srpvid=1f4249d6a1fd0414&srepoch=1670149806&from=searchresults#hotelTmpl', '7,1', \"L'hôtel De La Digue est un établissement traditionnel situé en Normandie, à seulement 5 minutes en navette ou à 30 minutes de marche du Mont-Saint-Mi ... (32 characters truncated) ... tuite dans l'ensemble des locaux. Le restaurant sur place sert une cuisine française classique et offre une vue panoramique sur le Mont-Saint-Michel.\", 48.61688155, -1.51091784, \"{'temperature': 5.28, 'temps': 'overcast clouds'}\", \"{'temperature': 7.11, 'temps': 'broken clouds'}\", \"{'temperature': 6.98, 'temps': 'overcast clouds'}\", \"{'temperature': 7, 'temps': 'light rain'}\", \"{'temperature': 5.23, 'temps': 'clear sky'}\"), (3, 3, 'Le Mont-Saint-Michel', 'Le Mont-Saint-Michel', 'Le Relais Du Roy', 'https://www.booking.com/hotel/fr/le-relais-du-roy.fr.html?label=gen173nr-1FCAEoggI46AdIDVgEaE2IAQGYAQ24AQrIAQXYAQHoAQH4AQKIAgGoAgO4AqjtsZwGwAIB0gIkMW ... (147 characters truncated) ... no_rooms=1&group_children=0&req_children=0&hpos=4&hapos=4&sr_order=popularity&srpvid=1f4249d6a1fd0414&srepoch=1670149806&from=searchresults#hotelTmpl', '7,9', \"Vous pouvez bénéficier d'une réduction Genius dans l'établissement Le Relais Du Roy\\xa0! \", 48.6162627, -1.51090577, \"{'temperature': 5.28, 'temps': 'overcast clouds'}\", \"{'temperature': 7.11, 'temps': 'broken clouds'}\", \"{'temperature': 6.98, 'temps': 'overcast clouds'}\", \"{'temperature': 7, 'temps': 'light rain'}\", \"{'temperature': 5.23, 'temps': 'clear sky'}\"), (4, 4, 'Le Mont-Saint-Michel', 'Le Mont-Saint-Michel', 'Les Terrasses Poulard', 'https://www.booking.com/hotel/fr/les-terrasses-poulard.fr.html?label=gen173nr-1FCAEoggI46AdIDVgEaE2IAQGYAQ24AQrIAQXYAQHoAQH4AQKIAgGoAgO4AqjtsZwGwAIB0 ... (152 characters truncated) ... no_rooms=1&group_children=0&req_children=0&hpos=5&hapos=5&sr_order=popularity&srpvid=1f4249d6a1fd0414&srepoch=1670149806&from=searchresults#hotelTmpl', '7,3', \"Vous pouvez bénéficier d'une réduction Genius dans l'établissement Les Terrasses Poulard\\xa0! \", 48.63534943, -1.51037872, \"{'temperature': 5.28, 'temps': 'overcast clouds'}\", \"{'temperature': 7.11, 'temps': 'broken clouds'}\", \"{'temperature': 6.98, 'temps': 'overcast clouds'}\", \"{'temperature': 7, 'temps': 'light rain'}\", \"{'temperature': 5.23, 'temps': 'clear sky'}\"), (5, 5, 'Le Mont-Saint-Michel', 'Le Mont-Saint-Michel', 'Mercure Mont Saint Michel', 'https://www.booking.com/hotel/fr/mont-saint-michel.fr.html?label=gen173nr-1FCAEoggI46AdIDVgEaE2IAQGYAQ24AQrIAQXYAQHoAQH4AQKIAgGoAgO4AqjtsZwGwAIB0gIkM ... (179 characters truncated) ... _children=0&hpos=6&hapos=6&sr_order=popularity&srpvid=1f4249d6a1fd0414&srepoch=1670149806&from_sustainable_property_sr=1&from=searchresults#hotelTmpl', '8,2', \"Installé dans des espaces verts à seulement 2 km de l'abbaye du Mont-Saint-Michel, le Mercure Mont Saint Michel propose des chambres spacieuses avec salle de bains privative, un bar-restaurant et de nombreuses places de parking gratuites.\", 48.61424653, -1.51054502, \"{'temperature': 5.28, 'temps': 'overcast clouds'}\", \"{'temperature': 7.11, 'temps': 'broken clouds'}\", \"{'temperature': 6.98, 'temps': 'overcast clouds'}\", \"{'temperature': 7, 'temps': 'light rain'}\", \"{'temperature': 5.23, 'temps': 'clear sky'}\"), (6, 6, 'Le Mont-Saint-Michel', 'Le Mont-Saint-Michel', 'La Vieille Auberge', 'https://www.booking.com/hotel/fr/la-vieille-auberge-le-mont-saint-michel.fr.html?label=gen173nr-1FCAEoggI46AdIDVgEaE2IAQGYAQ24AQrIAQXYAQHoAQH4AQKIAgG ... (170 characters truncated) ... no_rooms=1&group_children=0&req_children=0&hpos=7&hapos=7&sr_order=popularity&srpvid=1f4249d6a1fd0414&srepoch=1670149806&from=searchresults#hotelTmpl', '7,1', 'La Vieille Auberge vous accueille dans le village médiéval du Mont-Saint-Michel, à quelques pas de la célèbre abbaye du Mont-Saint-Michel. L’établissement propose une connexion Wi-Fi gratuite, un restaurant et une terrasse avec vue sur la baie du Mont-Saint-Michel.', 48.636063, -1.511457, \"{'temperature': 5.28, 'temps': 'overcast clouds'}\", \"{'temperature': 7.11, 'temps': 'broken clouds'}\", \"{'temperature': 6.98, 'temps': 'overcast clouds'}\", \"{'temperature': 7, 'temps': 'light rain'}\", \"{'temperature': 5.23, 'temps': 'clear sky'}\"), (7, 7, 'Le Mont-Saint-Michel', 'Le Mont-Saint-Michel', 'Hôtel Vert', 'https://www.booking.com/hotel/fr/vert.fr.html?label=gen173nr-1FCAEoggI46AdIDVgEaE2IAQGYAQ24AQrIAQXYAQHoAQH4AQKIAgGoAgO4AqjtsZwGwAIB0gIkMWNmZWY5ZTktNz ... (135 characters truncated) ... no_rooms=1&group_children=0&req_children=0&hpos=8&hapos=8&sr_order=popularity&srpvid=1f4249d6a1fd0414&srepoch=1670149806&from=searchresults#hotelTmpl', '8,0', \"Vous pouvez bénéficier d'une réduction Genius dans l'établissement Hôtel Vert\\xa0! \", 48.61470049, -1.50961697, \"{'temperature': 5.28, 'temps': 'overcast clouds'}\", \"{'temperature': 7.11, 'temps': 'broken clouds'}\", \"{'temperature': 6.98, 'temps': 'overcast clouds'}\", \"{'temperature': 7, 'temps': 'light rain'}\", \"{'temperature': 5.23, 'temps': 'clear sky'}\")  ... displaying 10 of 878 total bound parameter sets ...  (876, 876, 'Bormes-les-Mimosas', 'Bormes-les-Mimosas', 'Le Mirage', 'https://www.booking.com/hotel/fr/le-domaine-du-mirage.fr.html?label=gen173nr-1FCAEoggI46AdIDVgEaE2IAQGYAQ24AQrIAQXYAQHoAQH4AQKIAgGoAgO4AqjtsZwGwAIB0g ... (200 characters truncated) ... 5&hapos=25&sr_order=popularity&srpvid=50eb49e353d0007f&srepoch=1670149832&from_beach_sr=1&from_sustainable_property_sr=1&from=searchresults#hotelTmpl', '9,1', \"Vous pouvez bénéficier d'une réduction Genius dans l'établissement Le Mirage\\xa0! \", 43.14456855, 6.35168418, \"{'temperature': 13.22, 'temps': 'light rain'}\", \"{'temperature': 12.4, 'temps': 'clear sky'}\", \"{'temperature': 11.82, 'temps': 'broken clouds'}\", \"{'temperature': 11.41, 'temps': 'overcast clouds'}\", \"{'temperature': 11.63, 'temps': 'overcast clouds'}\"), (877, 877, None, None, None, None, None, \"Vous pouvez bénéficier d'une réduction Genius dans l'établissement APPALACHES Annecy Rent Lodge\\xa0! \", 45.8990746, 6.1281462, None, None, None, None, None))\n",
      "2022-12-04 12:10:43,108 INFO sqlalchemy.engine.Engine COMMIT\n"
     ]
    },
    {
     "data": {
      "text/plain": [
       "878"
      ]
     },
     "execution_count": 18,
     "metadata": {},
     "output_type": "execute_result"
    }
   ],
   "source": [
    "df.to_sql(\"hotel\", engine)"
   ]
  },
  {
   "cell_type": "code",
   "execution_count": 19,
   "metadata": {},
   "outputs": [],
   "source": [
    "conn = engine.connect()"
   ]
  },
  {
   "cell_type": "code",
   "execution_count": 21,
   "metadata": {},
   "outputs": [],
   "source": [
    "statement = text(\"SELECT DISTINCT ville_précise FROM hotel\")"
   ]
  },
  {
   "cell_type": "code",
   "execution_count": 22,
   "metadata": {},
   "outputs": [
    {
     "name": "stdout",
     "output_type": "stream",
     "text": [
      "2022-12-04 12:12:18,073 INFO sqlalchemy.engine.Engine SELECT DISTINCT ville_précise FROM hotel\n",
      "2022-12-04 12:12:18,073 INFO sqlalchemy.engine.Engine [generated in 0.00067s] ()\n"
     ]
    }
   ],
   "source": [
    "result = conn.execute(statement)"
   ]
  },
  {
   "cell_type": "code",
   "execution_count": 23,
   "metadata": {},
   "outputs": [
    {
     "data": {
      "text/plain": [
       "[('Le Mont-Saint-Michel',),\n",
       " ('Ardevon',),\n",
       " ('Pontorson',),\n",
       " ('Beauvoir',),\n",
       " ('Saint-Malo',),\n",
       " ('Paramé, Saint-Malo',),\n",
       " ('Intra muros, Saint-Malo',),\n",
       " ('Saint-Servan, Saint-Malo',),\n",
       " ('Sillon, Saint-Malo',),\n",
       " ('Bayeux',),\n",
       " ('Centre-ville de Rouen, Rouen',),\n",
       " ('Rouen',),\n",
       " ('Perret, Le Havre',),\n",
       " ('Le Havre',),\n",
       " ('6e arr., Paris',),\n",
       " ('13e arr., Paris',),\n",
       " ('9e arr., Paris',),\n",
       " ('5e arr., Paris',),\n",
       " ('10e arr., Paris',),\n",
       " ('17e arr., Paris',),\n",
       " ('14e arr., Paris',),\n",
       " ('16e arr., Paris',),\n",
       " ('3e arr., Paris',),\n",
       " ('15e arr., Paris',),\n",
       " ('11e arr., Paris',),\n",
       " ('8e arr., Paris',),\n",
       " ('19e arr., Paris',),\n",
       " ('2e arr., Paris',),\n",
       " ('12e arr., Paris',),\n",
       " ('Amiens',),\n",
       " ('Centre de Lille, Lille',),\n",
       " ('Lille Sud, Lille',),\n",
       " ('Vieux-Lille, Lille',),\n",
       " ('Vauban, Lille',),\n",
       " ('Lille',),\n",
       " ('Faubourg de Béthune, Lille',),\n",
       " ('Wazemmes, Lille',),\n",
       " ('Fives, Lille',),\n",
       " ('Centre de Strasbourg - Petite France - Cathédrale, Strasbourg',),\n",
       " ('Strasbourg',),\n",
       " ('Quartier Européen - Orangerie, Strasbourg',),\n",
       " ('Neudorf - Port du Rhin, Strasbourg',),\n",
       " ('Bourse-Esplanade, Strasbourg',),\n",
       " ('Gare de Strasbourg, Strasbourg',),\n",
       " ('Robertsau, Strasbourg',),\n",
       " ('Centre-ville de Colmar, Colmar',),\n",
       " ('Colmar',),\n",
       " ('Eguisheim',),\n",
       " ('Orschwiller',),\n",
       " ('Hunawihr',),\n",
       " ('Bergheim',),\n",
       " ('Kaysersberg',),\n",
       " ('Riquewihr',),\n",
       " ('Sélestat',),\n",
       " ('Nothalten',),\n",
       " ('Itterswiller',),\n",
       " ('Dieffenthal',),\n",
       " ('Thannenkirch',),\n",
       " ('Châtenois',),\n",
       " ('Mittelwihr',),\n",
       " ('Villé',),\n",
       " ('Sainte-Marie-aux-Mines',),\n",
       " ('Ostheim',),\n",
       " ('Zellenberg',),\n",
       " ('Breitenbach',),\n",
       " ('Besançon',),\n",
       " ('Besancon Old Town, Besançon',),\n",
       " (\"Centre-ville d'Annecy, Annecy\",),\n",
       " ('Annecy',),\n",
       " ('1er arr., Lyon',),\n",
       " ('7e arr., Lyon',),\n",
       " ('3e arr., Lyon',),\n",
       " ('2e arr., Lyon',),\n",
       " ('6e arr., Lyon',),\n",
       " ('5e arr., Lyon',),\n",
       " ('Centre-ville de Dijon, Dijon',),\n",
       " ('Dijon',),\n",
       " ('Bayonne',),\n",
       " ('La Rochelle',),\n",
       " ('Centre-ville de La Rochelle, La Rochelle',),\n",
       " ('Centre de Biarritz, Biarritz',),\n",
       " ('Biarritz',),\n",
       " ('Montauban',),\n",
       " ('Montgaillard',),\n",
       " ('Massat',),\n",
       " ('Bénac',),\n",
       " ('Tarascon-sur-Ariège',),\n",
       " ('Mazères',),\n",
       " ('Saint-Lary',),\n",
       " ('Seix',),\n",
       " ('Saint-Girons',),\n",
       " ('Artigat',),\n",
       " ('Mirepoix',),\n",
       " ('Lorp Sentaraille',),\n",
       " ('Vicdessos',),\n",
       " ('Durfort',),\n",
       " ('Ignaux',),\n",
       " ('Saint-Lizier',),\n",
       " ('Foix',),\n",
       " ('Lézat-sur-Lèze',),\n",
       " ('Moulis',),\n",
       " ('Ganac',),\n",
       " ('Mercus-Garrabet',),\n",
       " ('LʼHospitalet-près-lʼAndorre',),\n",
       " ('Toulouse Rive Gauche, Toulouse',),\n",
       " ('Centre de Toulouse, Toulouse',),\n",
       " ('Toulouse Est, Toulouse',),\n",
       " ('Minimes - Barrière de Paris, Toulouse',),\n",
       " ('Toulouse Sud-Est, Toulouse',),\n",
       " ('Toulouse Nord, Toulouse',),\n",
       " ('Toulouse',),\n",
       " ('Carcassonne',),\n",
       " ('Cité de Carcassonne, Carcassonne',),\n",
       " ('Collioure',),\n",
       " ('Aigues-Mortes',),\n",
       " ('Aigues-Mortes Medieval City, Aigues-Mortes',),\n",
       " ('Les Saintes-Maries-de-la-Mer',),\n",
       " ('Nimes City Centre, Nîmes',),\n",
       " ('Nîmes',),\n",
       " (\"Centre-ville d'Avignon, Avignon\",),\n",
       " ('Avignon',),\n",
       " ('Uzès',),\n",
       " ('Aix-en-Provence',),\n",
       " ('Aix-les-Milles, Aix-en-Provence',),\n",
       " (\"Centre historique d'Aix-en-Provence, Aix-en-Provence\",),\n",
       " ('Vieux Port - La Canebière, Marseille',),\n",
       " ('Borely-Bonneveine, Marseille',),\n",
       " ('Saint-Charles, Marseille',),\n",
       " ('Marseille',),\n",
       " ('Chanot - Stade Vélodrome, Marseille',),\n",
       " ('La Corniche, Marseille',),\n",
       " ('Prado - Périer, Marseille',),\n",
       " ('Euromed - La Joliette, Marseille',),\n",
       " ('Grenoble City Centre, Grenoble',),\n",
       " ('Grenoble',),\n",
       " ('Cassis',),\n",
       " ('Gréoux-les-Bains',),\n",
       " ('Moissac-Bellevue',),\n",
       " ('Aiguines',),\n",
       " ('Bauduen',),\n",
       " ('La Palud-sur-Verdon',),\n",
       " ('Moustiers-Sainte-Marie',),\n",
       " ('La Martre',),\n",
       " ('Allemagne-en-Provence',),\n",
       " ('Castellane',),\n",
       " ('Comps-sur-Artuby',),\n",
       " ('Bormes-les-Mimosas',),\n",
       " (None,)]"
      ]
     },
     "execution_count": 23,
     "metadata": {},
     "output_type": "execute_result"
    }
   ],
   "source": [
    "result.fetchall()"
   ]
  }
 ],
 "metadata": {
  "kernelspec": {
   "display_name": "Python 3.10.2 64-bit",
   "language": "python",
   "name": "python3"
  },
  "language_info": {
   "codemirror_mode": {
    "name": "ipython",
    "version": 3
   },
   "file_extension": ".py",
   "mimetype": "text/x-python",
   "name": "python",
   "nbconvert_exporter": "python",
   "pygments_lexer": "ipython3",
   "version": "3.10.2"
  },
  "orig_nbformat": 4,
  "vscode": {
   "interpreter": {
    "hash": "23e0aedb6d47e040503db7fcf09a0dff3cea72eb7d5d4c2596a602b1504b448c"
   }
  }
 },
 "nbformat": 4,
 "nbformat_minor": 2
}
